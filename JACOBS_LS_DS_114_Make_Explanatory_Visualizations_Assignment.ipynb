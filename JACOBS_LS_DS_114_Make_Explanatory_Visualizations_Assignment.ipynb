{
  "nbformat": 4,
  "nbformat_minor": 0,
  "metadata": {
    "colab": {
      "name": "JACOBS LS_DS_114_Make_Explanatory_Visualizations_Assignment.ipynb",
      "provenance": [],
      "collapsed_sections": [],
      "include_colab_link": true
    },
    "language_info": {
      "codemirror_mode": {
        "name": "ipython",
        "version": 3
      },
      "file_extension": ".py",
      "mimetype": "text/x-python",
      "name": "python",
      "nbconvert_exporter": "python",
      "pygments_lexer": "ipython3",
      "version": "3.7.1"
    },
    "kernelspec": {
      "display_name": "Python 3",
      "language": "python",
      "name": "python3"
    }
  },
  "cells": [
    {
      "cell_type": "markdown",
      "metadata": {
        "id": "view-in-github",
        "colab_type": "text"
      },
      "source": [
        "<a href=\"https://colab.research.google.com/github/alexandraxjacobs/DS-Unit-1-Sprint-1-Data-Wrangling-and-Storytelling/blob/master/JACOBS_LS_DS_114_Make_Explanatory_Visualizations_Assignment.ipynb\" target=\"_parent\"><img src=\"https://colab.research.google.com/assets/colab-badge.svg\" alt=\"Open In Colab\"/></a>"
      ]
    },
    {
      "cell_type": "markdown",
      "metadata": {
        "colab_type": "text",
        "id": "NMEswXWh9mqw"
      },
      "source": [
        "Lambda School Data Science\n",
        "\n",
        "*Unit 1, Sprint 1, Module 4*\n",
        "\n",
        "---\n",
        "\n",
        "# ASSIGNMENT\n",
        "\n",
        "### 1) Replicate the lesson code. I recommend that you [do not copy-paste](https://docs.google.com/document/d/1ubOw9B3Hfip27hF2ZFnW3a3z9xAgrUDRReOEo-FHCVs/edit).\n",
        "\n",
        "Get caught up to where we got our example in class and then try and take things further. How close to \"pixel perfect\" can you make the lecture graph?\n",
        "\n",
        "Once you have something that you're proud of, share your graph in the cohort channel and move on to the second exercise.\n",
        "\n",
        "### 2) Reproduce another example from [FiveThityEight's shared data repository](https://data.fivethirtyeight.com/).\n",
        "\n",
        "**WARNING**: There are a lot of very custom graphs and tables at the above link. I **highly** recommend not trying to reproduce any that look like a table of values or something really different from the graph types that we are already familiar with. Search through the posts until you find a graph type that you are more or less familiar with: histogram, bar chart, stacked bar chart, line chart, [seaborn relplot](https://seaborn.pydata.org/generated/seaborn.relplot.html), etc. Recreating some of the graphics that 538 uses would be a lot easier in Adobe photoshop/illustrator than with matplotlib. \n",
        "\n",
        "- If you put in some time to find a graph that looks \"easy\" to replicate you'll probably find that it's not as easy as you thought. \n",
        "\n",
        "- If you start with a graph that looks hard to replicate you'll probably run up against a brick wall and be disappointed with your afternoon.\n",
        "\n",
        "\n",
        "\n",
        "\n",
        "\n",
        "\n",
        "\n",
        "\n",
        "\n",
        "\n"
      ]
    },
    {
      "cell_type": "code",
      "metadata": {
        "id": "7SY1ZHawyZvz",
        "colab_type": "code",
        "colab": {}
      },
      "source": [
        "# Your Work Here\n",
        "import pandas as pd\n",
        "import numpy as np\n",
        "import seaborn as sns\n",
        "import matplotlib.pyplot as plt"
      ],
      "execution_count": 0,
      "outputs": []
    },
    {
      "cell_type": "code",
      "metadata": {
        "id": "5nv2MRb_Aapi",
        "colab_type": "code",
        "colab": {}
      },
      "source": [
        "%matplotlib inline"
      ],
      "execution_count": 0,
      "outputs": []
    },
    {
      "cell_type": "code",
      "metadata": {
        "id": "hahqqzlbAp_5",
        "colab_type": "code",
        "colab": {
          "base_uri": "https://localhost:8080/",
          "height": 204
        },
        "outputId": "04cbefba-69e4-4784-9c60-a7d1a0a89f3a"
      },
      "source": [
        "url = 'https://raw.githubusercontent.com/austinlasseter/pandas_visualization/master/data/titanic.csv'\n",
        "df = pd.read_csv(url)\n",
        "df.head()"
      ],
      "execution_count": 16,
      "outputs": [
        {
          "output_type": "execute_result",
          "data": {
            "text/html": [
              "<div>\n",
              "<style scoped>\n",
              "    .dataframe tbody tr th:only-of-type {\n",
              "        vertical-align: middle;\n",
              "    }\n",
              "\n",
              "    .dataframe tbody tr th {\n",
              "        vertical-align: top;\n",
              "    }\n",
              "\n",
              "    .dataframe thead th {\n",
              "        text-align: right;\n",
              "    }\n",
              "</style>\n",
              "<table border=\"1\" class=\"dataframe\">\n",
              "  <thead>\n",
              "    <tr style=\"text-align: right;\">\n",
              "      <th></th>\n",
              "      <th>Survived</th>\n",
              "      <th>Pclass</th>\n",
              "      <th>Sex</th>\n",
              "      <th>Age</th>\n",
              "      <th>Fare</th>\n",
              "      <th>Embarked</th>\n",
              "    </tr>\n",
              "  </thead>\n",
              "  <tbody>\n",
              "    <tr>\n",
              "      <th>0</th>\n",
              "      <td>0</td>\n",
              "      <td>3</td>\n",
              "      <td>male</td>\n",
              "      <td>22.0</td>\n",
              "      <td>7.2500</td>\n",
              "      <td>Southampton</td>\n",
              "    </tr>\n",
              "    <tr>\n",
              "      <th>1</th>\n",
              "      <td>1</td>\n",
              "      <td>1</td>\n",
              "      <td>female</td>\n",
              "      <td>38.0</td>\n",
              "      <td>71.2833</td>\n",
              "      <td>Cherbourg</td>\n",
              "    </tr>\n",
              "    <tr>\n",
              "      <th>2</th>\n",
              "      <td>1</td>\n",
              "      <td>3</td>\n",
              "      <td>female</td>\n",
              "      <td>26.0</td>\n",
              "      <td>7.9250</td>\n",
              "      <td>Southampton</td>\n",
              "    </tr>\n",
              "    <tr>\n",
              "      <th>3</th>\n",
              "      <td>1</td>\n",
              "      <td>1</td>\n",
              "      <td>female</td>\n",
              "      <td>35.0</td>\n",
              "      <td>53.1000</td>\n",
              "      <td>Southampton</td>\n",
              "    </tr>\n",
              "    <tr>\n",
              "      <th>4</th>\n",
              "      <td>0</td>\n",
              "      <td>3</td>\n",
              "      <td>male</td>\n",
              "      <td>35.0</td>\n",
              "      <td>8.0500</td>\n",
              "      <td>Southampton</td>\n",
              "    </tr>\n",
              "  </tbody>\n",
              "</table>\n",
              "</div>"
            ],
            "text/plain": [
              "   Survived  Pclass     Sex   Age     Fare     Embarked\n",
              "0         0       3    male  22.0   7.2500  Southampton\n",
              "1         1       1  female  38.0  71.2833    Cherbourg\n",
              "2         1       3  female  26.0   7.9250  Southampton\n",
              "3         1       1  female  35.0  53.1000  Southampton\n",
              "4         0       3    male  35.0   8.0500  Southampton"
            ]
          },
          "metadata": {
            "tags": []
          },
          "execution_count": 16
        }
      ]
    },
    {
      "cell_type": "code",
      "metadata": {
        "id": "51pwmNTbA1XP",
        "colab_type": "code",
        "colab": {
          "base_uri": "https://localhost:8080/",
          "height": 204
        },
        "outputId": "ccc8d59a-2207-43ce-d880-884cf754675d"
      },
      "source": [
        "df['cabin_class']=df['Pclass'].map({1:'first', 2:'second', 3: 'third'})\n",
        "df.head()"
      ],
      "execution_count": 17,
      "outputs": [
        {
          "output_type": "execute_result",
          "data": {
            "text/html": [
              "<div>\n",
              "<style scoped>\n",
              "    .dataframe tbody tr th:only-of-type {\n",
              "        vertical-align: middle;\n",
              "    }\n",
              "\n",
              "    .dataframe tbody tr th {\n",
              "        vertical-align: top;\n",
              "    }\n",
              "\n",
              "    .dataframe thead th {\n",
              "        text-align: right;\n",
              "    }\n",
              "</style>\n",
              "<table border=\"1\" class=\"dataframe\">\n",
              "  <thead>\n",
              "    <tr style=\"text-align: right;\">\n",
              "      <th></th>\n",
              "      <th>Survived</th>\n",
              "      <th>Pclass</th>\n",
              "      <th>Sex</th>\n",
              "      <th>Age</th>\n",
              "      <th>Fare</th>\n",
              "      <th>Embarked</th>\n",
              "      <th>cabin_class</th>\n",
              "    </tr>\n",
              "  </thead>\n",
              "  <tbody>\n",
              "    <tr>\n",
              "      <th>0</th>\n",
              "      <td>0</td>\n",
              "      <td>3</td>\n",
              "      <td>male</td>\n",
              "      <td>22.0</td>\n",
              "      <td>7.2500</td>\n",
              "      <td>Southampton</td>\n",
              "      <td>third</td>\n",
              "    </tr>\n",
              "    <tr>\n",
              "      <th>1</th>\n",
              "      <td>1</td>\n",
              "      <td>1</td>\n",
              "      <td>female</td>\n",
              "      <td>38.0</td>\n",
              "      <td>71.2833</td>\n",
              "      <td>Cherbourg</td>\n",
              "      <td>first</td>\n",
              "    </tr>\n",
              "    <tr>\n",
              "      <th>2</th>\n",
              "      <td>1</td>\n",
              "      <td>3</td>\n",
              "      <td>female</td>\n",
              "      <td>26.0</td>\n",
              "      <td>7.9250</td>\n",
              "      <td>Southampton</td>\n",
              "      <td>third</td>\n",
              "    </tr>\n",
              "    <tr>\n",
              "      <th>3</th>\n",
              "      <td>1</td>\n",
              "      <td>1</td>\n",
              "      <td>female</td>\n",
              "      <td>35.0</td>\n",
              "      <td>53.1000</td>\n",
              "      <td>Southampton</td>\n",
              "      <td>first</td>\n",
              "    </tr>\n",
              "    <tr>\n",
              "      <th>4</th>\n",
              "      <td>0</td>\n",
              "      <td>3</td>\n",
              "      <td>male</td>\n",
              "      <td>35.0</td>\n",
              "      <td>8.0500</td>\n",
              "      <td>Southampton</td>\n",
              "      <td>third</td>\n",
              "    </tr>\n",
              "  </tbody>\n",
              "</table>\n",
              "</div>"
            ],
            "text/plain": [
              "   Survived  Pclass     Sex   Age     Fare     Embarked cabin_class\n",
              "0         0       3    male  22.0   7.2500  Southampton       third\n",
              "1         1       1  female  38.0  71.2833    Cherbourg       first\n",
              "2         1       3  female  26.0   7.9250  Southampton       third\n",
              "3         1       1  female  35.0  53.1000  Southampton       first\n",
              "4         0       3    male  35.0   8.0500  Southampton       third"
            ]
          },
          "metadata": {
            "tags": []
          },
          "execution_count": 17
        }
      ]
    },
    {
      "cell_type": "code",
      "metadata": {
        "id": "QlIEe7b5BFVI",
        "colab_type": "code",
        "colab": {
          "base_uri": "https://localhost:8080/",
          "height": 267
        },
        "outputId": "383c03cd-bb3e-4c24-d09a-053e0410e21e"
      },
      "source": [
        "df['Fare'].plot(kind='hist');"
      ],
      "execution_count": 18,
      "outputs": [
        {
          "output_type": "display_data",
          "data": {
            "image/png": "[encoded data removed]",
            "text/plain": [
              "<Figure size 432x288 with 1 Axes>"
            ]
          },
          "metadata": {
            "tags": []
          }
        }
      ]
    },
    {
      "cell_type": "code",
      "metadata": {
        "id": "c1jt_TOvBLqZ",
        "colab_type": "code",
        "colab": {
          "base_uri": "https://localhost:8080/",
          "height": 265
        },
        "outputId": "b65be696-3666-4d66-c153-bb7495b4eaa8"
      },
      "source": [
        "df=df[df['Fare']<500]\n",
        "df['Fare'].plot(kind='hist',color='dodgerblue');"
      ],
      "execution_count": 19,
      "outputs": [
        {
          "output_type": "display_data",
          "data": {
            "image/png": "[encoded data removed]",
            "text/plain": [
              "<Figure size 432x288 with 1 Axes>"
            ]
          },
          "metadata": {
            "tags": []
          }
        }
      ]
    },
    {
      "cell_type": "code",
      "metadata": {
        "id": "cMK7UKfgBWjy",
        "colab_type": "code",
        "colab": {
          "base_uri": "https://localhost:8080/",
          "height": 102
        },
        "outputId": "5c8fa9d3-598b-4fef-8124-65eec52f1a9a"
      },
      "source": [
        "farebins=[0,8,15,33,512]\n",
        "farelabels=['low','medium','high','vhigh']\n",
        "df['fare_groups']=pd.cut(df['Fare'],bins=farebins,labels=farelabels)\n",
        "myresults = df['fare_groups'].value_counts().sort_index()\n",
        "myresults"
      ],
      "execution_count": 20,
      "outputs": [
        {
          "output_type": "execute_result",
          "data": {
            "text/plain": [
              "low       154\n",
              "medium    189\n",
              "high      185\n",
              "vhigh     174\n",
              "Name: fare_groups, dtype: int64"
            ]
          },
          "metadata": {
            "tags": []
          },
          "execution_count": 20
        }
      ]
    },
    {
      "cell_type": "code",
      "metadata": {
        "id": "X4DIO4wmBzrR",
        "colab_type": "code",
        "colab": {
          "base_uri": "https://localhost:8080/",
          "height": 265
        },
        "outputId": "5629650b-7fb8-48dd-8f90-30fddc7b38e4"
      },
      "source": [
        "myresults.plot();"
      ],
      "execution_count": 21,
      "outputs": [
        {
          "output_type": "display_data",
          "data": {
            "image/png": "[encoded data removed]",
            "text/plain": [
              "<Figure size 432x288 with 1 Axes>"
            ]
          },
          "metadata": {
            "tags": []
          }
        }
      ]
    },
    {
      "cell_type": "code",
      "metadata": {
        "id": "4VB9H73DC5PT",
        "colab_type": "code",
        "colab": {
          "base_uri": "https://localhost:8080/",
          "height": 285
        },
        "outputId": "5c9c07c2-7905-485b-b182-48fb5203cb6b"
      },
      "source": [
        "df['Age'].plot(kind='hist', bins=25, figsize=(16,4), color='tan');"
      ],
      "execution_count": 22,
      "outputs": [
        {
          "output_type": "display_data",
          "data": {
            "image/png": "[encoded data removed]",
            "text/plain": [
              "<Figure size 1152x288 with 1 Axes>"
            ]
          },
          "metadata": {
            "tags": []
          }
        }
      ]
    },
    {
      "cell_type": "code",
      "metadata": {
        "id": "ustDCVzhDQK2",
        "colab_type": "code",
        "colab": {
          "base_uri": "https://localhost:8080/",
          "height": 285
        },
        "outputId": "de9afd9a-cd1b-4ac9-8640-1b95f20871a8"
      },
      "source": [
        "df[df['Pclass']==1]['Age'].plot(kind='hist', bins=25, figsize=(16,4), alpha=0.5)\n",
        "df[df['Pclass']==2]['Age'].plot(kind='hist', bins=25, figsize=(16,4), alpha=0.5)\n",
        "df[df['Pclass']==3]['Age'].plot(kind='hist', bins=25, figsize=(16,4), alpha=0.5);"
      ],
      "execution_count": 23,
      "outputs": [
        {
          "output_type": "display_data",
          "data": {
            "image/png": "[encoded data removed]",
            "text/plain": [
              "<Figure size 1152x288 with 1 Axes>"
            ]
          },
          "metadata": {
            "tags": []
          }
        }
      ]
    },
    {
      "cell_type": "code",
      "metadata": {
        "id": "LfB4Pvy4EIBo",
        "colab_type": "code",
        "colab": {
          "base_uri": "https://localhost:8080/",
          "height": 285
        },
        "outputId": "bc0db105-ff84-4b29-9139-5c673596de99"
      },
      "source": [
        "df[df['Pclass']==1]['Age'].plot(kind='density', xlim=(-5, 85), figsize=(16,4), color='navy')\n",
        "df[df['Pclass']==2]['Age'].plot(kind='density', xlim=(-5, 85), figsize=(16,4), color='lightblue')\n",
        "df[df['Pclass']==3]['Age'].plot(kind='density', xlim=(-5, 85), figsize=(16,4), color='crimson');"
      ],
      "execution_count": 24,
      "outputs": [
        {
          "output_type": "display_data",
          "data": {
            "image/png": "[encoded data removed]",
            "text/plain": [
              "<Figure size 1152x288 with 1 Axes>"
            ]
          },
          "metadata": {
            "tags": []
          }
        }
      ]
    },
    {
      "cell_type": "code",
      "metadata": {
        "id": "nSnCqdldEN-V",
        "colab_type": "code",
        "colab": {
          "base_uri": "https://localhost:8080/",
          "height": 296
        },
        "outputId": "8c07905e-5b5b-42e0-f121-d8e198fc058b"
      },
      "source": [
        "df['fare_groups'].value_counts().plot(kind='bar', color=['green', 'orange', 'grey', 'yellow']);"
      ],
      "execution_count": 25,
      "outputs": [
        {
          "output_type": "display_data",
          "data": {
            "image/png": "[encoded data removed]",
            "text/plain": [
              "<Figure size 432x288 with 1 Axes>"
            ]
          },
          "metadata": {
            "tags": []
          }
        }
      ]
    },
    {
      "cell_type": "code",
      "metadata": {
        "id": "_NoWL490EYPt",
        "colab_type": "code",
        "colab": {
          "base_uri": "https://localhost:8080/",
          "height": 248
        },
        "outputId": "59ce50b3-89e8-4f87-bd8d-cd9eb3f1160b"
      },
      "source": [
        "df['fare_groups'].value_counts().plot(kind='pie', figsize=(4,4));"
      ],
      "execution_count": 26,
      "outputs": [
        {
          "output_type": "display_data",
          "data": {
            "image/png": "[encoded data removed]",
            "text/plain": [
              "<Figure size 288x288 with 1 Axes>"
            ]
          },
          "metadata": {
            "tags": []
          }
        }
      ]
    },
    {
      "cell_type": "code",
      "metadata": {
        "id": "AqycOQLCEZ-n",
        "colab_type": "code",
        "colab": {
          "base_uri": "https://localhost:8080/",
          "height": 173
        },
        "outputId": "c546402c-7833-4f55-aa2c-fe3a10ab2466"
      },
      "source": [
        "cab_death = pd.crosstab(df['cabin_class'],df['Survived'])\n",
        "cab_death"
      ],
      "execution_count": 27,
      "outputs": [
        {
          "output_type": "execute_result",
          "data": {
            "text/html": [
              "<div>\n",
              "<style scoped>\n",
              "    .dataframe tbody tr th:only-of-type {\n",
              "        vertical-align: middle;\n",
              "    }\n",
              "\n",
              "    .dataframe tbody tr th {\n",
              "        vertical-align: top;\n",
              "    }\n",
              "\n",
              "    .dataframe thead th {\n",
              "        text-align: right;\n",
              "    }\n",
              "</style>\n",
              "<table border=\"1\" class=\"dataframe\">\n",
              "  <thead>\n",
              "    <tr style=\"text-align: right;\">\n",
              "      <th>Survived</th>\n",
              "      <th>0</th>\n",
              "      <th>1</th>\n",
              "    </tr>\n",
              "    <tr>\n",
              "      <th>cabin_class</th>\n",
              "      <th></th>\n",
              "      <th></th>\n",
              "    </tr>\n",
              "  </thead>\n",
              "  <tbody>\n",
              "    <tr>\n",
              "      <th>first</th>\n",
              "      <td>64</td>\n",
              "      <td>117</td>\n",
              "    </tr>\n",
              "    <tr>\n",
              "      <th>second</th>\n",
              "      <td>90</td>\n",
              "      <td>83</td>\n",
              "    </tr>\n",
              "    <tr>\n",
              "      <th>third</th>\n",
              "      <td>270</td>\n",
              "      <td>85</td>\n",
              "    </tr>\n",
              "  </tbody>\n",
              "</table>\n",
              "</div>"
            ],
            "text/plain": [
              "Survived       0    1\n",
              "cabin_class          \n",
              "first         64  117\n",
              "second        90   83\n",
              "third        270   85"
            ]
          },
          "metadata": {
            "tags": []
          },
          "execution_count": 27
        }
      ]
    },
    {
      "cell_type": "code",
      "metadata": {
        "id": "iI0-COzwEa7S",
        "colab_type": "code",
        "colab": {
          "base_uri": "https://localhost:8080/",
          "height": 306
        },
        "outputId": "d7041b42-f84a-4de5-8629-78dcf87f0ae3"
      },
      "source": [
        "cab_death.plot(kind='bar');"
      ],
      "execution_count": 28,
      "outputs": [
        {
          "output_type": "display_data",
          "data": {
            "image/png": "[encoded data removed]",
            "text/plain": [
              "<Figure size 432x288 with 1 Axes>"
            ]
          },
          "metadata": {
            "tags": []
          }
        }
      ]
    },
    {
      "cell_type": "code",
      "metadata": {
        "id": "4plZuaKWEcoM",
        "colab_type": "code",
        "colab": {
          "base_uri": "https://localhost:8080/",
          "height": 173
        },
        "outputId": "129012c4-958a-4920-8d58-61898bd8bfb3"
      },
      "source": [
        "cab_death1 = pd.crosstab(df['cabin_class'],df['Survived'], normalize='columns')\n",
        "cab_death1"
      ],
      "execution_count": 29,
      "outputs": [
        {
          "output_type": "execute_result",
          "data": {
            "text/html": [
              "<div>\n",
              "<style scoped>\n",
              "    .dataframe tbody tr th:only-of-type {\n",
              "        vertical-align: middle;\n",
              "    }\n",
              "\n",
              "    .dataframe tbody tr th {\n",
              "        vertical-align: top;\n",
              "    }\n",
              "\n",
              "    .dataframe thead th {\n",
              "        text-align: right;\n",
              "    }\n",
              "</style>\n",
              "<table border=\"1\" class=\"dataframe\">\n",
              "  <thead>\n",
              "    <tr style=\"text-align: right;\">\n",
              "      <th>Survived</th>\n",
              "      <th>0</th>\n",
              "      <th>1</th>\n",
              "    </tr>\n",
              "    <tr>\n",
              "      <th>cabin_class</th>\n",
              "      <th></th>\n",
              "      <th></th>\n",
              "    </tr>\n",
              "  </thead>\n",
              "  <tbody>\n",
              "    <tr>\n",
              "      <th>first</th>\n",
              "      <td>0.150943</td>\n",
              "      <td>0.410526</td>\n",
              "    </tr>\n",
              "    <tr>\n",
              "      <th>second</th>\n",
              "      <td>0.212264</td>\n",
              "      <td>0.291228</td>\n",
              "    </tr>\n",
              "    <tr>\n",
              "      <th>third</th>\n",
              "      <td>0.636792</td>\n",
              "      <td>0.298246</td>\n",
              "    </tr>\n",
              "  </tbody>\n",
              "</table>\n",
              "</div>"
            ],
            "text/plain": [
              "Survived            0         1\n",
              "cabin_class                    \n",
              "first        0.150943  0.410526\n",
              "second       0.212264  0.291228\n",
              "third        0.636792  0.298246"
            ]
          },
          "metadata": {
            "tags": []
          },
          "execution_count": 29
        }
      ]
    },
    {
      "cell_type": "code",
      "metadata": {
        "id": "NvkNWE_REfAy",
        "colab_type": "code",
        "colab": {
          "base_uri": "https://localhost:8080/",
          "height": 306
        },
        "outputId": "bd117f5f-21a7-4adf-c466-21913850913e"
      },
      "source": [
        "cab_death1.plot(kind='bar', stacked=True, color=['orange', 'gray']);"
      ],
      "execution_count": 30,
      "outputs": [
        {
          "output_type": "display_data",
          "data": {
            "image/png": "[encoded data removed]",
            "text/plain": [
              "<Figure size 432x288 with 1 Axes>"
            ]
          },
          "metadata": {
            "tags": []
          }
        }
      ]
    },
    {
      "cell_type": "code",
      "metadata": {
        "id": "G2CwhESqEkKO",
        "colab_type": "code",
        "colab": {
          "base_uri": "https://localhost:8080/",
          "height": 173
        },
        "outputId": "c109657d-1c09-4f30-97a5-5db173239074"
      },
      "source": [
        "cab_death2 = pd.crosstab(df['cabin_class'],df['Survived'], normalize='index')\n",
        "cab_death2"
      ],
      "execution_count": 31,
      "outputs": [
        {
          "output_type": "execute_result",
          "data": {
            "text/html": [
              "<div>\n",
              "<style scoped>\n",
              "    .dataframe tbody tr th:only-of-type {\n",
              "        vertical-align: middle;\n",
              "    }\n",
              "\n",
              "    .dataframe tbody tr th {\n",
              "        vertical-align: top;\n",
              "    }\n",
              "\n",
              "    .dataframe thead th {\n",
              "        text-align: right;\n",
              "    }\n",
              "</style>\n",
              "<table border=\"1\" class=\"dataframe\">\n",
              "  <thead>\n",
              "    <tr style=\"text-align: right;\">\n",
              "      <th>Survived</th>\n",
              "      <th>0</th>\n",
              "      <th>1</th>\n",
              "    </tr>\n",
              "    <tr>\n",
              "      <th>cabin_class</th>\n",
              "      <th></th>\n",
              "      <th></th>\n",
              "    </tr>\n",
              "  </thead>\n",
              "  <tbody>\n",
              "    <tr>\n",
              "      <th>first</th>\n",
              "      <td>0.353591</td>\n",
              "      <td>0.646409</td>\n",
              "    </tr>\n",
              "    <tr>\n",
              "      <th>second</th>\n",
              "      <td>0.520231</td>\n",
              "      <td>0.479769</td>\n",
              "    </tr>\n",
              "    <tr>\n",
              "      <th>third</th>\n",
              "      <td>0.760563</td>\n",
              "      <td>0.239437</td>\n",
              "    </tr>\n",
              "  </tbody>\n",
              "</table>\n",
              "</div>"
            ],
            "text/plain": [
              "Survived            0         1\n",
              "cabin_class                    \n",
              "first        0.353591  0.646409\n",
              "second       0.520231  0.479769\n",
              "third        0.760563  0.239437"
            ]
          },
          "metadata": {
            "tags": []
          },
          "execution_count": 31
        }
      ]
    },
    {
      "cell_type": "code",
      "metadata": {
        "id": "kvFzowAOEmJk",
        "colab_type": "code",
        "colab": {
          "base_uri": "https://localhost:8080/",
          "height": 265
        },
        "outputId": "f16dde98-6b5c-4a08-8705-37403212d274"
      },
      "source": [
        "cab_death2.plot(kind='barh', color=['purple', 'lightgreen'], figsize=(10,4));"
      ],
      "execution_count": 32,
      "outputs": [
        {
          "output_type": "display_data",
          "data": {
            "image/png": "[encoded data removed]",
            "text/plain": [
              "<Figure size 720x288 with 1 Axes>"
            ]
          },
          "metadata": {
            "tags": []
          }
        }
      ]
    },
    {
      "cell_type": "code",
      "metadata": {
        "id": "GVZOCt_3Ep_Y",
        "colab_type": "code",
        "colab": {
          "base_uri": "https://localhost:8080/",
          "height": 34
        },
        "outputId": "80c08d5d-310b-4f1b-ab04-a40f6e9a51c6"
      },
      "source": [
        "df['Age'].mean()"
      ],
      "execution_count": 33,
      "outputs": [
        {
          "output_type": "execute_result",
          "data": {
            "text/plain": [
              "29.618011283497882"
            ]
          },
          "metadata": {
            "tags": []
          },
          "execution_count": 33
        }
      ]
    },
    {
      "cell_type": "code",
      "metadata": {
        "id": "MYtWFaHGEqhj",
        "colab_type": "code",
        "colab": {
          "base_uri": "https://localhost:8080/",
          "height": 102
        },
        "outputId": "20c9babd-8642-40f6-88ad-c5f81e5fb341"
      },
      "source": [
        "cab_age = df.groupby('cabin_class')['Age'].mean()\n",
        "cab_age"
      ],
      "execution_count": 34,
      "outputs": [
        {
          "output_type": "execute_result",
          "data": {
            "text/plain": [
              "cabin_class\n",
              "first     38.151492\n",
              "second    29.877630\n",
              "third     25.140620\n",
              "Name: Age, dtype: float64"
            ]
          },
          "metadata": {
            "tags": []
          },
          "execution_count": 34
        }
      ]
    },
    {
      "cell_type": "code",
      "metadata": {
        "id": "nTi3dE3yEr2v",
        "colab_type": "code",
        "colab": {
          "base_uri": "https://localhost:8080/",
          "height": 265
        },
        "outputId": "ca907df7-c698-4f6c-e985-bd43ca8d554c"
      },
      "source": [
        "df['Age'].plot(kind='box');"
      ],
      "execution_count": 35,
      "outputs": [
        {
          "output_type": "display_data",
          "data": {
            "image/png": "[encoded data removed]",
            "text/plain": [
              "<Figure size 432x288 with 1 Axes>"
            ]
          },
          "metadata": {
            "tags": []
          }
        }
      ]
    },
    {
      "cell_type": "code",
      "metadata": {
        "id": "H0Xg71agEuRB",
        "colab_type": "code",
        "colab": {
          "base_uri": "https://localhost:8080/",
          "height": 302
        },
        "outputId": "824f5711-fa9a-4cb0-a465-861f1020cd72"
      },
      "source": [
        "df.boxplot(column='Age', by='cabin_class');"
      ],
      "execution_count": 36,
      "outputs": [
        {
          "output_type": "display_data",
          "data": {
            "image/png": "[encoded data removed]",
            "text/plain": [
              "<Figure size 432x288 with 1 Axes>"
            ]
          },
          "metadata": {
            "tags": []
          }
        }
      ]
    },
    {
      "cell_type": "code",
      "metadata": {
        "id": "grBVMEpvEvjE",
        "colab_type": "code",
        "colab": {
          "base_uri": "https://localhost:8080/",
          "height": 279
        },
        "outputId": "78a48777-3510-451c-91a1-0b0f1479f1b4"
      },
      "source": [
        "df.plot(kind = 'scatter', x='Fare', y='Age', figsize=(12,4));"
      ],
      "execution_count": 37,
      "outputs": [
        {
          "output_type": "display_data",
          "data": {
            "image/png": "[encoded data removed]",
            "text/plain": [
              "<Figure size 864x288 with 1 Axes>"
            ]
          },
          "metadata": {
            "tags": []
          }
        }
      ]
    },
    {
      "cell_type": "code",
      "metadata": {
        "id": "siBzdutZE1oj",
        "colab_type": "code",
        "colab": {
          "base_uri": "https://localhost:8080/",
          "height": 258
        },
        "outputId": "dc297a8b-2954-4bab-f83f-908419e32a8c"
      },
      "source": [
        "df.plot(kind = 'scatter', x='Fare', y='Age', c='Pclass', colormap='plasma', figsize=(15,4));"
      ],
      "execution_count": 38,
      "outputs": [
        {
          "output_type": "display_data",
          "data": {
            "image/png": "[encoded data removed]",
            "text/plain": [
              "<Figure size 1080x288 with 2 Axes>"
            ]
          },
          "metadata": {
            "tags": []
          }
        }
      ]
    },
    {
      "cell_type": "code",
      "metadata": {
        "id": "iQfxuD7_E4V-",
        "colab_type": "code",
        "colab": {
          "base_uri": "https://localhost:8080/",
          "height": 279
        },
        "outputId": "a52f3b56-2293-40b6-dcf3-8652ffe7527e"
      },
      "source": [
        "df.groupby('Age')['Fare'].mean().plot(figsize=(12,4));"
      ],
      "execution_count": 39,
      "outputs": [
        {
          "output_type": "display_data",
          "data": {
            "image/png": "[encoded data removed]",
            "text/plain": [
              "<Figure size 864x288 with 1 Axes>"
            ]
          },
          "metadata": {
            "tags": []
          }
        }
      ]
    },
    {
      "cell_type": "code",
      "metadata": {
        "id": "DdFfsHlWE588",
        "colab_type": "code",
        "colab": {
          "base_uri": "https://localhost:8080/",
          "height": 279
        },
        "outputId": "e88e28ab-f491-45e7-9517-2002b77744fc"
      },
      "source": [
        "mycolors=['yellow', 'orange', 'violet']\n",
        "for x in [1,2,3]:\n",
        "    df[df['Pclass']==x].groupby('Age')['Fare'].mean().plot(figsize=(12,4), color=mycolors[x-1])"
      ],
      "execution_count": 40,
      "outputs": [
        {
          "output_type": "display_data",
          "data": {
            "image/png": "[encoded data removed]",
            "text/plain": [
              "<Figure size 864x288 with 1 Axes>"
            ]
          },
          "metadata": {
            "tags": []
          }
        }
      ]
    },
    {
      "cell_type": "code",
      "metadata": {
        "id": "EmjkJU2TFGjJ",
        "colab_type": "code",
        "colab": {
          "base_uri": "https://localhost:8080/",
          "height": 173
        },
        "outputId": "7cd66f64-aa42-413a-dbec-6a82086d196a"
      },
      "source": [
        "corr_matrix = df.corr()\n",
        "corr_matrix"
      ],
      "execution_count": 41,
      "outputs": [
        {
          "output_type": "execute_result",
          "data": {
            "text/html": [
              "<div>\n",
              "<style scoped>\n",
              "    .dataframe tbody tr th:only-of-type {\n",
              "        vertical-align: middle;\n",
              "    }\n",
              "\n",
              "    .dataframe tbody tr th {\n",
              "        vertical-align: top;\n",
              "    }\n",
              "\n",
              "    .dataframe thead th {\n",
              "        text-align: right;\n",
              "    }\n",
              "</style>\n",
              "<table border=\"1\" class=\"dataframe\">\n",
              "  <thead>\n",
              "    <tr style=\"text-align: right;\">\n",
              "      <th></th>\n",
              "      <th>Survived</th>\n",
              "      <th>Pclass</th>\n",
              "      <th>Age</th>\n",
              "      <th>Fare</th>\n",
              "    </tr>\n",
              "  </thead>\n",
              "  <tbody>\n",
              "    <tr>\n",
              "      <th>Survived</th>\n",
              "      <td>1.000000</td>\n",
              "      <td>-0.351579</td>\n",
              "      <td>-0.084756</td>\n",
              "      <td>0.272376</td>\n",
              "    </tr>\n",
              "    <tr>\n",
              "      <th>Pclass</th>\n",
              "      <td>-0.351579</td>\n",
              "      <td>1.000000</td>\n",
              "      <td>-0.365259</td>\n",
              "      <td>-0.616062</td>\n",
              "    </tr>\n",
              "    <tr>\n",
              "      <th>Age</th>\n",
              "      <td>-0.084756</td>\n",
              "      <td>-0.365259</td>\n",
              "      <td>1.000000</td>\n",
              "      <td>0.096573</td>\n",
              "    </tr>\n",
              "    <tr>\n",
              "      <th>Fare</th>\n",
              "      <td>0.272376</td>\n",
              "      <td>-0.616062</td>\n",
              "      <td>0.096573</td>\n",
              "      <td>1.000000</td>\n",
              "    </tr>\n",
              "  </tbody>\n",
              "</table>\n",
              "</div>"
            ],
            "text/plain": [
              "          Survived    Pclass       Age      Fare\n",
              "Survived  1.000000 -0.351579 -0.084756  0.272376\n",
              "Pclass   -0.351579  1.000000 -0.365259 -0.616062\n",
              "Age      -0.084756 -0.365259  1.000000  0.096573\n",
              "Fare      0.272376 -0.616062  0.096573  1.000000"
            ]
          },
          "metadata": {
            "tags": []
          },
          "execution_count": 41
        }
      ]
    },
    {
      "cell_type": "code",
      "metadata": {
        "id": "lflrjp5zFIJs",
        "colab_type": "code",
        "colab": {
          "base_uri": "https://localhost:8080/",
          "height": 269
        },
        "outputId": "4728230f-9419-42d4-b2da-37e58066358b"
      },
      "source": [
        "plt.imshow(corr_matrix);"
      ],
      "execution_count": 42,
      "outputs": [
        {
          "output_type": "display_data",
          "data": {
            "image/png": "[encoded data removed]",
            "text/plain": [
              "<Figure size 432x288 with 1 Axes>"
            ]
          },
          "metadata": {
            "tags": []
          }
        }
      ]
    },
    {
      "cell_type": "code",
      "metadata": {
        "id": "UFBnP6hrFKux",
        "colab_type": "code",
        "colab": {
          "base_uri": "https://localhost:8080/",
          "height": 265
        },
        "outputId": "3ad4680c-30cc-421a-c7a4-bdcfcc385036"
      },
      "source": [
        "sns.heatmap(corr_matrix);"
      ],
      "execution_count": 43,
      "outputs": [
        {
          "output_type": "display_data",
          "data": {
            "image/png": "[encoded data removed]",
            "text/plain": [
              "<Figure size 432x288 with 2 Axes>"
            ]
          },
          "metadata": {
            "tags": []
          }
        }
      ]
    },
    {
      "cell_type": "code",
      "metadata": {
        "id": "eFLGmbKPF3BT",
        "colab_type": "code",
        "colab": {}
      },
      "source": [
        "# intro to matplotlib\n",
        "import numpy as np\n",
        "x = np.linspace(0,5,11)\n",
        "y = x ** 2"
      ],
      "execution_count": 0,
      "outputs": []
    },
    {
      "cell_type": "code",
      "metadata": {
        "id": "L604buBYGA8U",
        "colab_type": "code",
        "colab": {
          "base_uri": "https://localhost:8080/",
          "height": 34
        },
        "outputId": "a46e2880-d28f-4164-ca34-24d526ceec77"
      },
      "source": [
        "x"
      ],
      "execution_count": 45,
      "outputs": [
        {
          "output_type": "execute_result",
          "data": {
            "text/plain": [
              "array([0. , 0.5, 1. , 1.5, 2. , 2.5, 3. , 3.5, 4. , 4.5, 5. ])"
            ]
          },
          "metadata": {
            "tags": []
          },
          "execution_count": 45
        }
      ]
    },
    {
      "cell_type": "code",
      "metadata": {
        "id": "l-M85oBxGBm1",
        "colab_type": "code",
        "colab": {
          "base_uri": "https://localhost:8080/",
          "height": 51
        },
        "outputId": "caf56d86-320d-4530-944a-469ecb566b65"
      },
      "source": [
        "y"
      ],
      "execution_count": 46,
      "outputs": [
        {
          "output_type": "execute_result",
          "data": {
            "text/plain": [
              "array([ 0.  ,  0.25,  1.  ,  2.25,  4.  ,  6.25,  9.  , 12.25, 16.  ,\n",
              "       20.25, 25.  ])"
            ]
          },
          "metadata": {
            "tags": []
          },
          "execution_count": 46
        }
      ]
    },
    {
      "cell_type": "code",
      "metadata": {
        "id": "Mht8htPrGD5_",
        "colab_type": "code",
        "colab": {
          "base_uri": "https://localhost:8080/",
          "height": 265
        },
        "outputId": "f9e7e9a8-0bdc-41cb-b85b-6b2a9675d6c4"
      },
      "source": [
        "plt.plot(y,x);"
      ],
      "execution_count": 47,
      "outputs": [
        {
          "output_type": "display_data",
          "data": {
            "image/png": "[encoded data removed]",
            "text/plain": [
              "<Figure size 432x288 with 1 Axes>"
            ]
          },
          "metadata": {
            "tags": []
          }
        }
      ]
    },
    {
      "cell_type": "code",
      "metadata": {
        "id": "vJmtkMpNGIMz",
        "colab_type": "code",
        "colab": {
          "base_uri": "https://localhost:8080/",
          "height": 282
        },
        "outputId": "a1ded14c-6907-4334-8e52-9743bcba8634"
      },
      "source": [
        "#what do r and b represent?\n",
        "plt.plot(x,y,'r')\n",
        "plt.plot(y,x,'b')"
      ],
      "execution_count": 48,
      "outputs": [
        {
          "output_type": "execute_result",
          "data": {
            "text/plain": [
              "[<matplotlib.lines.Line2D at 0x7fc07ccc84e0>]"
            ]
          },
          "metadata": {
            "tags": []
          },
          "execution_count": 48
        },
        {
          "output_type": "display_data",
          "data": {
            "image/png": "[encoded data removed]",
            "text/plain": [
              "<Figure size 432x288 with 1 Axes>"
            ]
          },
          "metadata": {
            "tags": []
          }
        }
      ]
    },
    {
      "cell_type": "code",
      "metadata": {
        "id": "U1PDFwYvGPzC",
        "colab_type": "code",
        "colab": {
          "base_uri": "https://localhost:8080/",
          "height": 295
        },
        "outputId": "205ac2c4-60bd-46b3-f66c-8926800fd67b"
      },
      "source": [
        "plt.plot(x, y, 'r--') \n",
        "plt.plot(y, x, 'b*-')\n",
        "plt.xlabel('X Axis Title Here')\n",
        "plt.ylabel('Y Axis Title Here')\n",
        "plt.title('String Title Here');"
      ],
      "execution_count": 49,
      "outputs": [
        {
          "output_type": "display_data",
          "data": {
            "image/png": "[encoded data removed]",
            "text/plain": [
              "<Figure size 432x288 with 1 Axes>"
            ]
          },
          "metadata": {
            "tags": []
          }
        }
      ]
    },
    {
      "cell_type": "code",
      "metadata": {
        "id": "DsxpApi1nEWa",
        "colab_type": "code",
        "colab": {
          "base_uri": "https://localhost:8080/",
          "height": 265
        },
        "outputId": "173f6148-9f8d-493b-fa74-47661947dcf7"
      },
      "source": [
        "plt.subplot(1,2,1)\n",
        "plt.plot(x, y, 'r--')\n",
        "plt.subplot(1,2,2)\n",
        "plt.plot(y, x, 'g*-');"
      ],
      "execution_count": 50,
      "outputs": [
        {
          "output_type": "display_data",
          "data": {
            "image/png": "[encoded data removed]",
            "text/plain": [
              "<Figure size 432x288 with 2 Axes>"
            ]
          },
          "metadata": {
            "tags": []
          }
        }
      ]
    },
    {
      "cell_type": "code",
      "metadata": {
        "id": "BlpsAe-nnT8V",
        "colab_type": "code",
        "colab": {
          "base_uri": "https://localhost:8080/",
          "height": 308
        },
        "outputId": "d601734f-bfe6-4264-c39a-c3efc3fea94e"
      },
      "source": [
        "fig = plt.figure()\n",
        "\n",
        "axes = fig.add_axes([0.1, 0.1, 0.8, 0.8])\n",
        "axes.plot(x, y, 'b')\n",
        "axes.set_xlabel('set X label') \n",
        "axes.set_ylabel('set y label')\n",
        "axes.set_title('set title');"
      ],
      "execution_count": 51,
      "outputs": [
        {
          "output_type": "display_data",
          "data": {
            "image/png": "[encoded data removed]",
            "text/plain": [
              "<Figure size 432x288 with 1 Axes>"
            ]
          },
          "metadata": {
            "tags": []
          }
        }
      ]
    },
    {
      "cell_type": "code",
      "metadata": {
        "id": "RfmVpnwznbQ_",
        "colab_type": "code",
        "colab": {
          "base_uri": "https://localhost:8080/",
          "height": 309
        },
        "outputId": "753892ea-6ccf-4603-b450-d8613b1867b8"
      },
      "source": [
        "fig = plt.figure()\n",
        "\n",
        "axes1 = fig.add_axes([0.1, 0.1, 0.8, 0.8]) \n",
        "axes2 = fig.add_axes([0.2, 0.5, 0.4, 0.3])\n",
        "\n",
        "axes1.plot(x, y, 'b')\n",
        "axes1.set_xlabel('X_label_axes2')\n",
        "axes1.set_ylabel('Y_label_axes2')\n",
        "axes1.set_title('axes 2 title')\n",
        "\n",
        "axes2.plot(y, x, 'r')\n",
        "axes2.set_xlabel('X_label_axes2')\n",
        "axes2.set_ylabel('Y_label_axes2')\n",
        "axes2.set_title('axes 2 title');"
      ],
      "execution_count": 52,
      "outputs": [
        {
          "output_type": "display_data",
          "data": {
            "image/png": "[encoded data removed]",
            "text/plain": [
              "<Figure size 432x288 with 2 Axes>"
            ]
          },
          "metadata": {
            "tags": []
          }
        }
      ]
    },
    {
      "cell_type": "code",
      "metadata": {
        "id": "yGcy70Ohn-YY",
        "colab_type": "code",
        "colab": {}
      },
      "source": [
        "axes.plot(x, y, 'green')\n",
        "axes.set_xlabel('x')\n",
        "axes.set_ylabel('y')\n",
        "axes.set_title('title');"
      ],
      "execution_count": 0,
      "outputs": []
    },
    {
      "cell_type": "code",
      "metadata": {
        "id": "qld0YeTaoEiS",
        "colab_type": "code",
        "colab": {
          "base_uri": "https://localhost:8080/",
          "height": 297
        },
        "outputId": "93432748-4cbe-4c5d-e41c-106f1288527e"
      },
      "source": [
        "fig, axes = plt.subplots(nrows=3, ncols=3)\n",
        "fig    \n",
        "plt.tight_layout()"
      ],
      "execution_count": 60,
      "outputs": [
        {
          "output_type": "display_data",
          "data": {
            "image/png": "[encoded data removed]",
            "text/plain": [
              "<Figure size 432x288 with 9 Axes>"
            ]
          },
          "metadata": {
            "tags": []
          }
        }
      ]
    },
    {
      "cell_type": "code",
      "metadata": {
        "id": "t_RYjs3DoRCy",
        "colab_type": "code",
        "colab": {
          "base_uri": "https://localhost:8080/",
          "height": 34
        },
        "outputId": "b1928506-e91a-487c-f47c-ea7cb76eb047"
      },
      "source": [
        "axes"
      ],
      "execution_count": 65,
      "outputs": [
        {
          "output_type": "execute_result",
          "data": {
            "text/plain": [
              "<matplotlib.axes._subplots.AxesSubplot at 0x7fc07cc3e4a8>"
            ]
          },
          "metadata": {
            "tags": []
          },
          "execution_count": 65
        }
      ]
    },
    {
      "cell_type": "code",
      "metadata": {
        "id": "Ln72Oh6IoJOX",
        "colab_type": "code",
        "colab": {
          "base_uri": "https://localhost:8080/",
          "height": 295
        },
        "outputId": "6fb6ba00-36f2-4818-96a2-c0fa20b9e264"
      },
      "source": [
        "fig, axes = plt.subplots(nrows=1, ncols=2)\n",
        "for ax in axes:\n",
        "    ax.plot(x, y, 'b')\n",
        "    ax.set_xlabel('x')\n",
        "    ax.set_ylabel('y')\n",
        "    ax.set_title('title')"
      ],
      "execution_count": 67,
      "outputs": [
        {
          "output_type": "display_data",
          "data": {
            "image/png": "[encoded data removed]",
            "text/plain": [
              "<Figure size 432x288 with 2 Axes>"
            ]
          },
          "metadata": {
            "tags": []
          }
        }
      ]
    },
    {
      "cell_type": "code",
      "metadata": {
        "id": "P18512s0pUJM",
        "colab_type": "code",
        "colab": {
          "base_uri": "https://localhost:8080/",
          "height": 34
        },
        "outputId": "d1df5d53-6a5a-463b-e7df-3f0650243615"
      },
      "source": [
        "fig = plt.figure(figsize=(8,4), dpi=100)"
      ],
      "execution_count": 70,
      "outputs": [
        {
          "output_type": "display_data",
          "data": {
            "text/plain": [
              "<Figure size 800x400 with 0 Axes>"
            ]
          },
          "metadata": {
            "tags": []
          }
        }
      ]
    },
    {
      "cell_type": "code",
      "metadata": {
        "id": "KZIjF07mpVGa",
        "colab_type": "code",
        "colab": {
          "base_uri": "https://localhost:8080/",
          "height": 350
        },
        "outputId": "e811fbe3-244b-4179-d91d-4a1a604792dd"
      },
      "source": [
        "\n",
        "fig, axes = plt.subplots(figsize=(2,5))\n",
        "\n",
        "axes.plot(x, y, 'r')\n",
        "axes.set_xlabel('x')\n",
        "axes.set_ylabel('y')\n",
        "axes.set_title('title');"
      ],
      "execution_count": 69,
      "outputs": [
        {
          "output_type": "display_data",
          "data": {
            "image/png": "[encoded data removed]",
            "text/plain": [
              "<Figure size 144x360 with 1 Axes>"
            ]
          },
          "metadata": {
            "tags": []
          }
        }
      ]
    },
    {
      "cell_type": "code",
      "metadata": {
        "id": "sZupwGVMpZ1E",
        "colab_type": "code",
        "colab": {}
      },
      "source": [
        "fig.savefig(\"filename.png\")"
      ],
      "execution_count": 0,
      "outputs": []
    },
    {
      "cell_type": "code",
      "metadata": {
        "id": "16g5LnsWpaun",
        "colab_type": "code",
        "colab": {}
      },
      "source": [
        "fig.savefig(\"filename.jpg\", dpi=200)"
      ],
      "execution_count": 0,
      "outputs": []
    },
    {
      "cell_type": "code",
      "metadata": {
        "id": "eDsW-adUpfL3",
        "colab_type": "code",
        "colab": {}
      },
      "source": [
        "ax.set_title(\"title\");"
      ],
      "execution_count": 0,
      "outputs": []
    },
    {
      "cell_type": "code",
      "metadata": {
        "id": "hx4UPGSSphyo",
        "colab_type": "code",
        "colab": {}
      },
      "source": [
        "ax.set_xlabel(\"x\")\n",
        "ax.set_ylabel(\"y\");"
      ],
      "execution_count": 0,
      "outputs": []
    },
    {
      "cell_type": "code",
      "metadata": {
        "id": "Ex5In2ZDplL9",
        "colab_type": "code",
        "colab": {
          "base_uri": "https://localhost:8080/",
          "height": 336
        },
        "outputId": "c648596f-df34-4879-ae48-63d7f593f96f"
      },
      "source": [
        "fig = plt.figure()\n",
        "\n",
        "ax = fig.add_axes([0,0,1,1])\n",
        "ax\n",
        "ax.plot(x, x**2, label=\"x**2\")\n",
        "ax.plot(x, x**3, label=\"x**3\")\n",
        "ax.legend();"
      ],
      "execution_count": 77,
      "outputs": [
        {
          "output_type": "display_data",
          "data": {
            "image/png": "[encoded data removed]",
            "text/plain": [
              "<Figure size 432x288 with 1 Axes>"
            ]
          },
          "metadata": {
            "tags": []
          }
        }
      ]
    },
    {
      "cell_type": "code",
      "metadata": {
        "id": "XMoPqBPbqQFf",
        "colab_type": "code",
        "colab": {
          "base_uri": "https://localhost:8080/",
          "height": 350
        },
        "outputId": "91f8a554-97e1-44b1-a80e-b41d9c59643b"
      },
      "source": [
        "ax.legend(loc=1) # up right\n",
        "ax.legend(loc=2) # up left\n",
        "ax.legend(loc=3) # low left\n",
        "ax.legend(loc=4) # low righy\n",
        "\n",
        "ax.legend()\n",
        "fig"
      ],
      "execution_count": 79,
      "outputs": [
        {
          "output_type": "stream",
          "text": [
            "No handles with labels found to put in legend.\n",
            "No handles with labels found to put in legend.\n",
            "No handles with labels found to put in legend.\n",
            "No handles with labels found to put in legend.\n",
            "No handles with labels found to put in legend.\n"
          ],
          "name": "stderr"
        },
        {
          "output_type": "execute_result",
          "data": {
            "image/png": "[encoded data removed]",
            "text/plain": [
              "<Figure size 432x288 with 1 Axes>"
            ]
          },
          "metadata": {
            "tags": []
          },
          "execution_count": 79
        }
      ]
    },
    {
      "cell_type": "code",
      "metadata": {
        "id": "MBfctht-qc-4",
        "colab_type": "code",
        "colab": {
          "base_uri": "https://localhost:8080/",
          "height": 282
        },
        "outputId": "05379567-2880-4a4b-9a18-396cc8f90215"
      },
      "source": [
        "fig, ax = plt.subplots()\n",
        "ax.plot(x, x**2, 'b.-')\n",
        "ax.plot(x, x**3, 'g--')"
      ],
      "execution_count": 78,
      "outputs": [
        {
          "output_type": "execute_result",
          "data": {
            "text/plain": [
              "[<matplotlib.lines.Line2D at 0x7fc078b8c048>]"
            ]
          },
          "metadata": {
            "tags": []
          },
          "execution_count": 78
        },
        {
          "output_type": "display_data",
          "data": {
            "image/png": "[encoded data removed]",
            "text/plain": [
              "<Figure size 432x288 with 1 Axes>"
            ]
          },
          "metadata": {
            "tags": []
          }
        }
      ]
    },
    {
      "cell_type": "code",
      "metadata": {
        "id": "h860sOU_rApO",
        "colab_type": "code",
        "colab": {
          "base_uri": "https://localhost:8080/",
          "height": 282
        },
        "outputId": "179b39da-8912-43d0-912b-7d0e5f14554a"
      },
      "source": [
        "fig, ax = plt.subplots()\n",
        "\n",
        "ax.plot(x, x+1, color=\"blue\", alpha=0.5)\n",
        "ax.plot(x, x+2, color=\"#8B008B\")\n",
        "ax.plot(x, x+3, color=\"#FF8C00\")"
      ],
      "execution_count": 80,
      "outputs": [
        {
          "output_type": "execute_result",
          "data": {
            "text/plain": [
              "[<matplotlib.lines.Line2D at 0x7fc078b71358>]"
            ]
          },
          "metadata": {
            "tags": []
          },
          "execution_count": 80
        },
        {
          "output_type": "display_data",
          "data": {
            "image/png": "[encoded data removed]",
            "text/plain": [
              "<Figure size 432x288 with 1 Axes>"
            ]
          },
          "metadata": {
            "tags": []
          }
        }
      ]
    },
    {
      "cell_type": "code",
      "metadata": {
        "id": "jXoq-MSprNKF",
        "colab_type": "code",
        "colab": {}
      },
      "source": [
        "fig, axes = plt.subplots(1, 3, figsize=(12, 4))\n",
        "\n",
        "axes[0].plot(x, x**2, x, x**3)\n",
        "axes[0].set_title(\"default axes ranges\")\n",
        "\n",
        "axes[1].plot(x, x**2, x, x**3)\n",
        "axes[1].axis('tight')\n",
        "axes[1].set_title(\"tight axes\")\n",
        "\n",
        "axes[2].plot(x, x**2, x, x**3)\n",
        "axes[2].set_ylim([0, 60])\n",
        "axes[2].set_xlim([2, 5])\n",
        "axes[2].set_title(\"custom axes range\");"
      ],
      "execution_count": 0,
      "outputs": []
    },
    {
      "cell_type": "code",
      "metadata": {
        "id": "r76Kbtmgtq9u",
        "colab_type": "code",
        "colab": {
          "base_uri": "https://localhost:8080/",
          "height": 37
        },
        "outputId": "c108314a-c4fc-40be-af1f-54e9df897844"
      },
      "source": [
        "from IPython.display import display, Image\n",
        "url = 'https://fivethirtyeight.com/features/what-do-men-think-it-means-to-be-a-man/'\n",
        "example = Image(url=url, width=400)\n",
        "display(example)"
      ],
      "execution_count": 82,
      "outputs": [
        {
          "output_type": "display_data",
          "data": {
            "text/html": [
              "<img src=\"https://fivethirtyeight.com/features/what-do-men-think-it-means-to-be-a-man/\" width=\"400\"/>"
            ],
            "text/plain": [
              "<IPython.core.display.Image object>"
            ]
          },
          "metadata": {
            "tags": []
          }
        }
      ]
    },
    {
      "cell_type": "code",
      "metadata": {
        "id": "dJhYVuPxuCOi",
        "colab_type": "code",
        "colab": {
          "base_uri": "https://localhost:8080/",
          "height": 34
        },
        "outputId": "503b4b00-105d-47f2-fe6a-92d458c8c666"
      },
      "source": [
        "print(plt.style.available[:5])\n",
        "plt.style.use('fivethirtyeight')"
      ],
      "execution_count": 83,
      "outputs": [
        {
          "output_type": "stream",
          "text": [
            "['tableau-colorblind10', 'seaborn-muted', 'seaborn', 'dark_background', 'grayscale']\n"
          ],
          "name": "stdout"
        }
      ]
    },
    {
      "cell_type": "code",
      "metadata": {
        "id": "UG8tf6K3uKT3",
        "colab_type": "code",
        "colab": {
          "base_uri": "https://localhost:8080/",
          "height": 294
        },
        "outputId": "24ed8670-cdd7-4675-a5ea-db4f5f83c78d"
      },
      "source": [
        "fake = pd.Series([42,38,18,5,42]),\n",
        "index = range 1,6\n",
        "fake.plot.bar(color='C1', width=0.9);"
      ],
      "execution_count": 84,
      "outputs": [
        {
          "output_type": "execute_result",
          "data": {
            "text/plain": [
              "<matplotlib.axes._subplots.AxesSubplot at 0x7fc078b2c2e8>"
            ]
          },
          "metadata": {
            "tags": []
          },
          "execution_count": 84
        },
        {
          "output_type": "display_data",
          "data": {
            "image/png": "[encoded data removed]",
            "text/plain": [
              "<Figure size 432x288 with 1 Axes>"
            ]
          },
          "metadata": {
            "tags": []
          }
        }
      ]
    },
    {
      "cell_type": "code",
      "metadata": {
        "id": "haBm9YwYwG_K",
        "colab_type": "code",
        "colab": {
          "base_uri": "https://localhost:8080/",
          "height": 445
        },
        "outputId": "f72da3c0-7574-46a8-f536-0f2cf8f2dc5e"
      },
      "source": [
        "import numpy as np\n",
        "fig, ax = plt.subplots()\n",
        "fig.patch.set(facecolor = \"white\")\n",
        "ax.patch.set(facecolor=\"white\")\n",
        "ax.set_title(\"How would you say it’s a disadvantage to be a man at your work right now?\",\n",
        "             fontsize=12,\n",
        "             x=.35,\n",
        "             y=1.1,\n",
        "             fontweight='bold')\n",
        "fake.plot.barh(width=0.9, color=\"#ED713A\")\n",
        "ax.text (s=\"Among the 880 employed adult men surveyed May 10-22, 2018. Respondents were asked to select all options that applied to them.\", \n",
        "         fontsize=10, x=-1.85, y=-1.5);\n",
        "ax.set_xlabel(\"% Share of Respondents\", fontsize=9)\n",
        "ax.set_xticklabels(range(0,50,10));\n",
        "ax.set_yticklabels(['Greater risk of being accused of sexual harassment','Greater risk of being accused of being sexist or racist','Managers want to hire and promote women', 'Other', 'None of the above',])\n"
      ],
      "execution_count": 183,
      "outputs": [
        {
          "output_type": "execute_result",
          "data": {
            "text/plain": [
              "[Text(0, 0, 'Greater risk of being accused of sexual harassment'),\n",
              " Text(0, 0, 'Greater risk of being accused of being sexist or racist'),\n",
              " Text(0, 0, 'Managers want to hire and promote women'),\n",
              " Text(0, 0, 'Other'),\n",
              " Text(0, 0, 'None of the above')]"
            ]
          },
          "metadata": {
            "tags": []
          },
          "execution_count": 183
        },
        {
          "output_type": "display_data",
          "data": {
            "image/png": "[encoded data removed]",
            "text/plain": [
              "<Figure size 432x288 with 1 Axes>"
            ]
          },
          "metadata": {
            "tags": []
          }
        }
      ]
    },
    {
      "cell_type": "code",
      "metadata": {
        "id": "E1jWNIDDxipu",
        "colab_type": "code",
        "colab": {
          "base_uri": "https://localhost:8080/",
          "height": 255
        },
        "outputId": "e624c7b0-f004-43cc-d02b-9868a0e5d553"
      },
      "source": [
        "\n",
        "##ALL OF THE BELOW HAS BEEN STRIKED OUT SINCE I HIT A WALL.\n",
        "##df = pd.read_csv('https://raw.githubusercontent.com/fivethirtyeight/data/master/masculinity-survey/raw-responses.csv')\n",
        "##df.head"
      ],
      "execution_count": 114,
      "outputs": [
        {
          "output_type": "execute_result",
          "data": {
            "text/plain": [
              "<bound method NDFrame.head of       Unnamed: 0     StartDate  ...   orientation    weight\n",
              "0              1  5/10/18 4:01  ...  Gay/Bisexual  1.714026\n",
              "1              2  5/10/18 6:30  ...      Straight  1.247120\n",
              "2              3  5/10/18 7:02  ...      Straight  0.515746\n",
              "3              4  5/10/18 7:27  ...     No answer  0.600640\n",
              "4              5  5/10/18 7:35  ...      Straight  1.033400\n",
              "...          ...           ...  ...           ...       ...\n",
              "1610        1611  5/22/18 8:48  ...      Straight  2.891038\n",
              "1611        1612  5/22/18 9:15  ...      Straight  8.643674\n",
              "1612        1613  5/22/18 9:22  ...      Straight  2.340241\n",
              "1613        1614  5/22/18 9:44  ...      Straight  6.557984\n",
              "1614        1615  5/22/18 9:55  ...      Straight  2.817560\n",
              "\n",
              "[1615 rows x 98 columns]>"
            ]
          },
          "metadata": {
            "tags": []
          },
          "execution_count": 114
        }
      ]
    },
    {
      "cell_type": "code",
      "metadata": {
        "id": "UJVtmsrzx92I",
        "colab_type": "code",
        "colab": {}
      },
      "source": [
        "#df['StartDate'] = pd.to_datetime(df['StartDate'])"
      ],
      "execution_count": 0,
      "outputs": []
    },
    {
      "cell_type": "code",
      "metadata": {
        "id": "V1QGNwchzEFs",
        "colab_type": "code",
        "colab": {}
      },
      "source": [
        "#df.set_index('StartDate', inplace=True)"
      ],
      "execution_count": 0,
      "outputs": []
    },
    {
      "cell_type": "code",
      "metadata": {
        "id": "PqNmPd6QzKXI",
        "colab_type": "code",
        "colab": {}
      },
      "source": [
        "#lastday = df['5/22/18']"
      ],
      "execution_count": 0,
      "outputs": []
    },
    {
      "cell_type": "code",
      "metadata": {
        "id": "u5Tli8VfzSue",
        "colab_type": "code",
        "colab": {
          "base_uri": "https://localhost:8080/",
          "height": 641
        },
        "outputId": "0bd41a3c-9441-4fbe-b6bd-dca5e738367a"
      },
      "source": [
        "##lastday_filtered = lastday[lastday['orientation'] == 'Straight']\n",
        "##lastday_filtered.tail()"
      ],
      "execution_count": 120,
      "outputs": [
        {
          "output_type": "execute_result",
          "data": {
            "text/html": [
              "<div>\n",
              "<style scoped>\n",
              "    .dataframe tbody tr th:only-of-type {\n",
              "        vertical-align: middle;\n",
              "    }\n",
              "\n",
              "    .dataframe tbody tr th {\n",
              "        vertical-align: top;\n",
              "    }\n",
              "\n",
              "    .dataframe thead th {\n",
              "        text-align: right;\n",
              "    }\n",
              "</style>\n",
              "<table border=\"1\" class=\"dataframe\">\n",
              "  <thead>\n",
              "    <tr style=\"text-align: right;\">\n",
              "      <th></th>\n",
              "      <th>Unnamed: 0</th>\n",
              "      <th>EndDate</th>\n",
              "      <th>q0001</th>\n",
              "      <th>q0002</th>\n",
              "      <th>q0004_0001</th>\n",
              "      <th>q0004_0002</th>\n",
              "      <th>q0004_0003</th>\n",
              "      <th>q0004_0004</th>\n",
              "      <th>q0004_0005</th>\n",
              "      <th>q0004_0006</th>\n",
              "      <th>q0005</th>\n",
              "      <th>q0007_0001</th>\n",
              "      <th>q0007_0002</th>\n",
              "      <th>q0007_0003</th>\n",
              "      <th>q0007_0004</th>\n",
              "      <th>q0007_0005</th>\n",
              "      <th>q0007_0006</th>\n",
              "      <th>q0007_0007</th>\n",
              "      <th>q0007_0008</th>\n",
              "      <th>q0007_0009</th>\n",
              "      <th>q0007_0010</th>\n",
              "      <th>q0007_0011</th>\n",
              "      <th>q0008_0001</th>\n",
              "      <th>q0008_0002</th>\n",
              "      <th>q0008_0003</th>\n",
              "      <th>q0008_0004</th>\n",
              "      <th>q0008_0005</th>\n",
              "      <th>q0008_0006</th>\n",
              "      <th>q0008_0007</th>\n",
              "      <th>q0008_0008</th>\n",
              "      <th>q0008_0009</th>\n",
              "      <th>q0008_0010</th>\n",
              "      <th>q0008_0011</th>\n",
              "      <th>q0008_0012</th>\n",
              "      <th>q0009</th>\n",
              "      <th>q0010_0001</th>\n",
              "      <th>q0010_0002</th>\n",
              "      <th>q0010_0003</th>\n",
              "      <th>q0010_0004</th>\n",
              "      <th>q0010_0005</th>\n",
              "      <th>...</th>\n",
              "      <th>q0015</th>\n",
              "      <th>q0017</th>\n",
              "      <th>q0018</th>\n",
              "      <th>q0019_0001</th>\n",
              "      <th>q0019_0002</th>\n",
              "      <th>q0019_0003</th>\n",
              "      <th>q0019_0004</th>\n",
              "      <th>q0019_0005</th>\n",
              "      <th>q0019_0006</th>\n",
              "      <th>q0019_0007</th>\n",
              "      <th>q0020_0001</th>\n",
              "      <th>q0020_0002</th>\n",
              "      <th>q0020_0003</th>\n",
              "      <th>q0020_0004</th>\n",
              "      <th>q0020_0005</th>\n",
              "      <th>q0020_0006</th>\n",
              "      <th>q0021_0001</th>\n",
              "      <th>q0021_0002</th>\n",
              "      <th>q0021_0003</th>\n",
              "      <th>q0021_0004</th>\n",
              "      <th>q0022</th>\n",
              "      <th>q0024</th>\n",
              "      <th>q0025_0001</th>\n",
              "      <th>q0025_0002</th>\n",
              "      <th>q0025_0003</th>\n",
              "      <th>q0026</th>\n",
              "      <th>q0028</th>\n",
              "      <th>q0029</th>\n",
              "      <th>q0030</th>\n",
              "      <th>q0034</th>\n",
              "      <th>q0035</th>\n",
              "      <th>q0036</th>\n",
              "      <th>race2</th>\n",
              "      <th>racethn4</th>\n",
              "      <th>educ3</th>\n",
              "      <th>educ4</th>\n",
              "      <th>age3</th>\n",
              "      <th>kids</th>\n",
              "      <th>orientation</th>\n",
              "      <th>weight</th>\n",
              "    </tr>\n",
              "    <tr>\n",
              "      <th>StartDate</th>\n",
              "      <th></th>\n",
              "      <th></th>\n",
              "      <th></th>\n",
              "      <th></th>\n",
              "      <th></th>\n",
              "      <th></th>\n",
              "      <th></th>\n",
              "      <th></th>\n",
              "      <th></th>\n",
              "      <th></th>\n",
              "      <th></th>\n",
              "      <th></th>\n",
              "      <th></th>\n",
              "      <th></th>\n",
              "      <th></th>\n",
              "      <th></th>\n",
              "      <th></th>\n",
              "      <th></th>\n",
              "      <th></th>\n",
              "      <th></th>\n",
              "      <th></th>\n",
              "      <th></th>\n",
              "      <th></th>\n",
              "      <th></th>\n",
              "      <th></th>\n",
              "      <th></th>\n",
              "      <th></th>\n",
              "      <th></th>\n",
              "      <th></th>\n",
              "      <th></th>\n",
              "      <th></th>\n",
              "      <th></th>\n",
              "      <th></th>\n",
              "      <th></th>\n",
              "      <th></th>\n",
              "      <th></th>\n",
              "      <th></th>\n",
              "      <th></th>\n",
              "      <th></th>\n",
              "      <th></th>\n",
              "      <th></th>\n",
              "      <th></th>\n",
              "      <th></th>\n",
              "      <th></th>\n",
              "      <th></th>\n",
              "      <th></th>\n",
              "      <th></th>\n",
              "      <th></th>\n",
              "      <th></th>\n",
              "      <th></th>\n",
              "      <th></th>\n",
              "      <th></th>\n",
              "      <th></th>\n",
              "      <th></th>\n",
              "      <th></th>\n",
              "      <th></th>\n",
              "      <th></th>\n",
              "      <th></th>\n",
              "      <th></th>\n",
              "      <th></th>\n",
              "      <th></th>\n",
              "      <th></th>\n",
              "      <th></th>\n",
              "      <th></th>\n",
              "      <th></th>\n",
              "      <th></th>\n",
              "      <th></th>\n",
              "      <th></th>\n",
              "      <th></th>\n",
              "      <th></th>\n",
              "      <th></th>\n",
              "      <th></th>\n",
              "      <th></th>\n",
              "      <th></th>\n",
              "      <th></th>\n",
              "      <th></th>\n",
              "      <th></th>\n",
              "      <th></th>\n",
              "      <th></th>\n",
              "      <th></th>\n",
              "      <th></th>\n",
              "    </tr>\n",
              "  </thead>\n",
              "  <tbody>\n",
              "    <tr>\n",
              "      <th>2018-05-22 08:48:00</th>\n",
              "      <td>1611</td>\n",
              "      <td>5/22/18 8:52</td>\n",
              "      <td>Not very masculine</td>\n",
              "      <td>Not at all important</td>\n",
              "      <td>Father or father figure(s)</td>\n",
              "      <td>Mother or mother figure(s)</td>\n",
              "      <td>Other family members</td>\n",
              "      <td>Pop culture</td>\n",
              "      <td>Friends</td>\n",
              "      <td>Not selected</td>\n",
              "      <td>Yes</td>\n",
              "      <td>Rarely</td>\n",
              "      <td>Sometimes</td>\n",
              "      <td>Never, and not open to it</td>\n",
              "      <td>Rarely</td>\n",
              "      <td>Never, and not open to it</td>\n",
              "      <td>Never, but open to it</td>\n",
              "      <td>Never, and not open to it</td>\n",
              "      <td>Never, and not open to it</td>\n",
              "      <td>Sometimes</td>\n",
              "      <td>Never, but open to it</td>\n",
              "      <td>Sometimes</td>\n",
              "      <td>Not selected</td>\n",
              "      <td>Not selected</td>\n",
              "      <td>Your hair or hairline</td>\n",
              "      <td>Your physique</td>\n",
              "      <td>Appearance of your genitalia</td>\n",
              "      <td>Not selected</td>\n",
              "      <td>Not selected</td>\n",
              "      <td>Your mental health</td>\n",
              "      <td>Your physical health</td>\n",
              "      <td>Your finances, including your current or futur...</td>\n",
              "      <td>Not selected</td>\n",
              "      <td>Not selected</td>\n",
              "      <td>Employed, working full-time</td>\n",
              "      <td>Men make more money</td>\n",
              "      <td>Men are taken more seriously</td>\n",
              "      <td>Men have more choice</td>\n",
              "      <td>Men have more promotion/professional developme...</td>\n",
              "      <td>Men are explicitly praised more often</td>\n",
              "      <td>...</td>\n",
              "      <td>Yes</td>\n",
              "      <td>No</td>\n",
              "      <td>Never</td>\n",
              "      <td>NaN</td>\n",
              "      <td>NaN</td>\n",
              "      <td>NaN</td>\n",
              "      <td>NaN</td>\n",
              "      <td>NaN</td>\n",
              "      <td>NaN</td>\n",
              "      <td>NaN</td>\n",
              "      <td>Not selected</td>\n",
              "      <td>Not selected</td>\n",
              "      <td>Not selected</td>\n",
              "      <td>Not selected</td>\n",
              "      <td>It isn?t always clear how to gauge someone?s i...</td>\n",
              "      <td>Not selected</td>\n",
              "      <td>Not selected</td>\n",
              "      <td>Not selected</td>\n",
              "      <td>Not selected</td>\n",
              "      <td>None of the above</td>\n",
              "      <td>No</td>\n",
              "      <td>Never married</td>\n",
              "      <td>Not selected</td>\n",
              "      <td>Not selected</td>\n",
              "      <td>No children</td>\n",
              "      <td>Straight</td>\n",
              "      <td>White</td>\n",
              "      <td>Some college</td>\n",
              "      <td>Missouri</td>\n",
              "      <td>$10,000-$24,999</td>\n",
              "      <td>West North Central</td>\n",
              "      <td>iOS Phone / Tablet</td>\n",
              "      <td>White</td>\n",
              "      <td>White</td>\n",
              "      <td>Some college</td>\n",
              "      <td>Some college</td>\n",
              "      <td>18 - 34</td>\n",
              "      <td>No children</td>\n",
              "      <td>Straight</td>\n",
              "      <td>2.891038</td>\n",
              "    </tr>\n",
              "    <tr>\n",
              "      <th>2018-05-22 09:15:00</th>\n",
              "      <td>1612</td>\n",
              "      <td>5/22/18 9:24</td>\n",
              "      <td>Very masculine</td>\n",
              "      <td>Very important</td>\n",
              "      <td>Father or father figure(s)</td>\n",
              "      <td>Not selected</td>\n",
              "      <td>Other family members</td>\n",
              "      <td>Not selected</td>\n",
              "      <td>Not selected</td>\n",
              "      <td>Not selected</td>\n",
              "      <td>Yes</td>\n",
              "      <td>Often</td>\n",
              "      <td>Often</td>\n",
              "      <td>Sometimes</td>\n",
              "      <td>Never, but open to it</td>\n",
              "      <td>Rarely</td>\n",
              "      <td>Often</td>\n",
              "      <td>Never, and not open to it</td>\n",
              "      <td>Often</td>\n",
              "      <td>Sometimes</td>\n",
              "      <td>Never, but open to it</td>\n",
              "      <td>Sometimes</td>\n",
              "      <td>Not selected</td>\n",
              "      <td>Not selected</td>\n",
              "      <td>Not selected</td>\n",
              "      <td>Not selected</td>\n",
              "      <td>Not selected</td>\n",
              "      <td>Not selected</td>\n",
              "      <td>Not selected</td>\n",
              "      <td>Your mental health</td>\n",
              "      <td>Not selected</td>\n",
              "      <td>Your finances, including your current or futur...</td>\n",
              "      <td>Your ability to provide for your family, curre...</td>\n",
              "      <td>Not selected</td>\n",
              "      <td>Employed, working full-time</td>\n",
              "      <td>Men make more money</td>\n",
              "      <td>Not selected</td>\n",
              "      <td>Men have more choice</td>\n",
              "      <td>Not selected</td>\n",
              "      <td>Not selected</td>\n",
              "      <td>...</td>\n",
              "      <td>Yes</td>\n",
              "      <td>Yes</td>\n",
              "      <td>Always</td>\n",
              "      <td>It?s the right thing to do</td>\n",
              "      <td>Not selected</td>\n",
              "      <td>You feel good about being the one who pays</td>\n",
              "      <td>Not selected</td>\n",
              "      <td>You asked the person out, so you feel obligate...</td>\n",
              "      <td>Not selected</td>\n",
              "      <td>Not selected</td>\n",
              "      <td>Read their physical body language to see if th...</td>\n",
              "      <td>Ask for a verbal confirmation of consent</td>\n",
              "      <td>Not selected</td>\n",
              "      <td>Every situation is different</td>\n",
              "      <td>It isn?t always clear how to gauge someone?s i...</td>\n",
              "      <td>Not selected</td>\n",
              "      <td>Not selected</td>\n",
              "      <td>Not selected</td>\n",
              "      <td>Not selected</td>\n",
              "      <td>None of the above</td>\n",
              "      <td>No</td>\n",
              "      <td>Married</td>\n",
              "      <td>Yes, one or more children under 18</td>\n",
              "      <td>Not selected</td>\n",
              "      <td>Not selected</td>\n",
              "      <td>Straight</td>\n",
              "      <td>Hispanic</td>\n",
              "      <td>Did not complete high school</td>\n",
              "      <td>Colorado</td>\n",
              "      <td>$50,000-$74,999</td>\n",
              "      <td>NaN</td>\n",
              "      <td>iOS Phone / Tablet</td>\n",
              "      <td>Non-white</td>\n",
              "      <td>Hispanic</td>\n",
              "      <td>High school or less</td>\n",
              "      <td>High school or less</td>\n",
              "      <td>35 - 64</td>\n",
              "      <td>Has children</td>\n",
              "      <td>Straight</td>\n",
              "      <td>8.643674</td>\n",
              "    </tr>\n",
              "    <tr>\n",
              "      <th>2018-05-22 09:22:00</th>\n",
              "      <td>1613</td>\n",
              "      <td>5/22/18 9:39</td>\n",
              "      <td>Somewhat masculine</td>\n",
              "      <td>Somewhat important</td>\n",
              "      <td>Not selected</td>\n",
              "      <td>Mother or mother figure(s)</td>\n",
              "      <td>Not selected</td>\n",
              "      <td>Not selected</td>\n",
              "      <td>Not selected</td>\n",
              "      <td>Not selected</td>\n",
              "      <td>Yes</td>\n",
              "      <td>No answer</td>\n",
              "      <td>Often</td>\n",
              "      <td>Often</td>\n",
              "      <td>Rarely</td>\n",
              "      <td>Rarely</td>\n",
              "      <td>Often</td>\n",
              "      <td>Never, and not open to it</td>\n",
              "      <td>Often</td>\n",
              "      <td>Sometimes</td>\n",
              "      <td>Rarely</td>\n",
              "      <td>Rarely</td>\n",
              "      <td>Not selected</td>\n",
              "      <td>Your weight</td>\n",
              "      <td>Not selected</td>\n",
              "      <td>Not selected</td>\n",
              "      <td>Not selected</td>\n",
              "      <td>Not selected</td>\n",
              "      <td>Sexual performance or amount of sex</td>\n",
              "      <td>Not selected</td>\n",
              "      <td>Your physical health</td>\n",
              "      <td>Your finances, including your current or futur...</td>\n",
              "      <td>Your ability to provide for your family, curre...</td>\n",
              "      <td>Not selected</td>\n",
              "      <td>Employed, working full-time</td>\n",
              "      <td>Men make more money</td>\n",
              "      <td>Men are taken more seriously</td>\n",
              "      <td>Not selected</td>\n",
              "      <td>Men have more promotion/professional developme...</td>\n",
              "      <td>Not selected</td>\n",
              "      <td>...</td>\n",
              "      <td>Yes</td>\n",
              "      <td>Yes</td>\n",
              "      <td>Always</td>\n",
              "      <td>It?s the right thing to do</td>\n",
              "      <td>Not selected</td>\n",
              "      <td>Not selected</td>\n",
              "      <td>Not selected</td>\n",
              "      <td>Not selected</td>\n",
              "      <td>Not selected</td>\n",
              "      <td>Not selected</td>\n",
              "      <td>Not selected</td>\n",
              "      <td>Not selected</td>\n",
              "      <td>Make a physical move to see how they react</td>\n",
              "      <td>Not selected</td>\n",
              "      <td>Not selected</td>\n",
              "      <td>Not selected</td>\n",
              "      <td>Not selected</td>\n",
              "      <td>Not selected</td>\n",
              "      <td>Not selected</td>\n",
              "      <td>None of the above</td>\n",
              "      <td>No</td>\n",
              "      <td>Married</td>\n",
              "      <td>Yes, one or more children under 18</td>\n",
              "      <td>Not selected</td>\n",
              "      <td>Not selected</td>\n",
              "      <td>Straight</td>\n",
              "      <td>White</td>\n",
              "      <td>Associate's degree</td>\n",
              "      <td>Georgia</td>\n",
              "      <td>$50,000-$74,999</td>\n",
              "      <td>South Atlantic</td>\n",
              "      <td>Windows Desktop / Laptop</td>\n",
              "      <td>White</td>\n",
              "      <td>White</td>\n",
              "      <td>Some college</td>\n",
              "      <td>Some college</td>\n",
              "      <td>35 - 64</td>\n",
              "      <td>Has children</td>\n",
              "      <td>Straight</td>\n",
              "      <td>2.340241</td>\n",
              "    </tr>\n",
              "    <tr>\n",
              "      <th>2018-05-22 09:44:00</th>\n",
              "      <td>1614</td>\n",
              "      <td>5/22/18 9:50</td>\n",
              "      <td>Somewhat masculine</td>\n",
              "      <td>Somewhat important</td>\n",
              "      <td>Not selected</td>\n",
              "      <td>Mother or mother figure(s)</td>\n",
              "      <td>Not selected</td>\n",
              "      <td>Not selected</td>\n",
              "      <td>Not selected</td>\n",
              "      <td>Not selected</td>\n",
              "      <td>Yes</td>\n",
              "      <td>Sometimes</td>\n",
              "      <td>Sometimes</td>\n",
              "      <td>Never, but open to it</td>\n",
              "      <td>Never, but open to it</td>\n",
              "      <td>Never, but open to it</td>\n",
              "      <td>Often</td>\n",
              "      <td>Never, and not open to it</td>\n",
              "      <td>Often</td>\n",
              "      <td>Often</td>\n",
              "      <td>Never, but open to it</td>\n",
              "      <td>Rarely</td>\n",
              "      <td>Not selected</td>\n",
              "      <td>Not selected</td>\n",
              "      <td>Not selected</td>\n",
              "      <td>Not selected</td>\n",
              "      <td>Not selected</td>\n",
              "      <td>Your clothing or style</td>\n",
              "      <td>Not selected</td>\n",
              "      <td>Not selected</td>\n",
              "      <td>Not selected</td>\n",
              "      <td>Your finances, including your current or futur...</td>\n",
              "      <td>Your ability to provide for your family, curre...</td>\n",
              "      <td>Not selected</td>\n",
              "      <td>Employed, working part-time</td>\n",
              "      <td>Not selected</td>\n",
              "      <td>Not selected</td>\n",
              "      <td>Not selected</td>\n",
              "      <td>Not selected</td>\n",
              "      <td>Not selected</td>\n",
              "      <td>...</td>\n",
              "      <td>Yes</td>\n",
              "      <td>Yes</td>\n",
              "      <td>Always</td>\n",
              "      <td>Not selected</td>\n",
              "      <td>You make more money than your date</td>\n",
              "      <td>You feel good about being the one who pays</td>\n",
              "      <td>Societal expectations, even though you don?t a...</td>\n",
              "      <td>Not selected</td>\n",
              "      <td>Not selected</td>\n",
              "      <td>Not selected</td>\n",
              "      <td>Read their physical body language to see if th...</td>\n",
              "      <td>Ask for a verbal confirmation of consent</td>\n",
              "      <td>Make a physical move to see how they react</td>\n",
              "      <td>Every situation is different</td>\n",
              "      <td>It isn?t always clear how to gauge someone?s i...</td>\n",
              "      <td>Not selected</td>\n",
              "      <td>Not selected</td>\n",
              "      <td>Not selected</td>\n",
              "      <td>Not selected</td>\n",
              "      <td>None of the above</td>\n",
              "      <td>Yes</td>\n",
              "      <td>Never married</td>\n",
              "      <td>Not selected</td>\n",
              "      <td>Not selected</td>\n",
              "      <td>No children</td>\n",
              "      <td>Straight</td>\n",
              "      <td>White</td>\n",
              "      <td>High school or G.E.D.</td>\n",
              "      <td>New Mexico</td>\n",
              "      <td>$10,000-$24,999</td>\n",
              "      <td>Mountain</td>\n",
              "      <td>Windows Desktop / Laptop</td>\n",
              "      <td>White</td>\n",
              "      <td>White</td>\n",
              "      <td>High school or less</td>\n",
              "      <td>High school or less</td>\n",
              "      <td>18 - 34</td>\n",
              "      <td>No children</td>\n",
              "      <td>Straight</td>\n",
              "      <td>6.557984</td>\n",
              "    </tr>\n",
              "    <tr>\n",
              "      <th>2018-05-22 09:55:00</th>\n",
              "      <td>1615</td>\n",
              "      <td>5/22/18 10:00</td>\n",
              "      <td>Very masculine</td>\n",
              "      <td>Not at all important</td>\n",
              "      <td>Father or father figure(s)</td>\n",
              "      <td>Mother or mother figure(s)</td>\n",
              "      <td>Not selected</td>\n",
              "      <td>Not selected</td>\n",
              "      <td>Not selected</td>\n",
              "      <td>Not selected</td>\n",
              "      <td>No</td>\n",
              "      <td>Often</td>\n",
              "      <td>Sometimes</td>\n",
              "      <td>Rarely</td>\n",
              "      <td>Rarely</td>\n",
              "      <td>Sometimes</td>\n",
              "      <td>Often</td>\n",
              "      <td>Never, and not open to it</td>\n",
              "      <td>Often</td>\n",
              "      <td>Often</td>\n",
              "      <td>Rarely</td>\n",
              "      <td>Rarely</td>\n",
              "      <td>Not selected</td>\n",
              "      <td>Not selected</td>\n",
              "      <td>Your hair or hairline</td>\n",
              "      <td>Not selected</td>\n",
              "      <td>Not selected</td>\n",
              "      <td>Not selected</td>\n",
              "      <td>Not selected</td>\n",
              "      <td>Your mental health</td>\n",
              "      <td>Not selected</td>\n",
              "      <td>Your finances, including your current or futur...</td>\n",
              "      <td>Your ability to provide for your family, curre...</td>\n",
              "      <td>Not selected</td>\n",
              "      <td>Not employed, looking for work</td>\n",
              "      <td>NaN</td>\n",
              "      <td>NaN</td>\n",
              "      <td>NaN</td>\n",
              "      <td>NaN</td>\n",
              "      <td>NaN</td>\n",
              "      <td>...</td>\n",
              "      <td>NaN</td>\n",
              "      <td>Yes</td>\n",
              "      <td>Always</td>\n",
              "      <td>It?s the right thing to do</td>\n",
              "      <td>Not selected</td>\n",
              "      <td>You feel good about being the one who pays</td>\n",
              "      <td>Societal expectations, even though you don?t a...</td>\n",
              "      <td>You asked the person out, so you feel obligate...</td>\n",
              "      <td>Not selected</td>\n",
              "      <td>Not selected</td>\n",
              "      <td>Read their physical body language to see if th...</td>\n",
              "      <td>Not selected</td>\n",
              "      <td>Make a physical move to see how they react</td>\n",
              "      <td>Every situation is different</td>\n",
              "      <td>Not selected</td>\n",
              "      <td>Not selected</td>\n",
              "      <td>Not selected</td>\n",
              "      <td>Not selected</td>\n",
              "      <td>Not selected</td>\n",
              "      <td>None of the above</td>\n",
              "      <td>No</td>\n",
              "      <td>Never married</td>\n",
              "      <td>Not selected</td>\n",
              "      <td>Not selected</td>\n",
              "      <td>No children</td>\n",
              "      <td>Straight</td>\n",
              "      <td>White</td>\n",
              "      <td>Associate's degree</td>\n",
              "      <td>New York</td>\n",
              "      <td>$10,000-$24,999</td>\n",
              "      <td>Middle Atlantic</td>\n",
              "      <td>iOS Phone / Tablet</td>\n",
              "      <td>White</td>\n",
              "      <td>White</td>\n",
              "      <td>Some college</td>\n",
              "      <td>Some college</td>\n",
              "      <td>18 - 34</td>\n",
              "      <td>No children</td>\n",
              "      <td>Straight</td>\n",
              "      <td>2.817560</td>\n",
              "    </tr>\n",
              "  </tbody>\n",
              "</table>\n",
              "<p>5 rows × 97 columns</p>\n",
              "</div>"
            ],
            "text/plain": [
              "                     Unnamed: 0        EndDate  ... orientation    weight\n",
              "StartDate                                       ...                      \n",
              "2018-05-22 08:48:00        1611   5/22/18 8:52  ...    Straight  2.891038\n",
              "2018-05-22 09:15:00        1612   5/22/18 9:24  ...    Straight  8.643674\n",
              "2018-05-22 09:22:00        1613   5/22/18 9:39  ...    Straight  2.340241\n",
              "2018-05-22 09:44:00        1614   5/22/18 9:50  ...    Straight  6.557984\n",
              "2018-05-22 09:55:00        1615  5/22/18 10:00  ...    Straight  2.817560\n",
              "\n",
              "[5 rows x 97 columns]"
            ]
          },
          "metadata": {
            "tags": []
          },
          "execution_count": 120
        }
      ]
    },
    {
      "cell_type": "code",
      "metadata": {
        "id": "x7Tbwo9b6ZvS",
        "colab_type": "code",
        "colab": {
          "base_uri": "https://localhost:8080/",
          "height": 327
        },
        "outputId": "80430f3f-ec5c-47a0-fb01-fac28c835c47"
      },
      "source": [
        "##import pandas as pd\n",
        "##gk = df.groupby('q0010_0005')\n",
        "##gk.first()"
      ],
      "execution_count": 145,
      "outputs": [
        {
          "output_type": "execute_result",
          "data": {
            "text/html": [
              "<div>\n",
              "<style scoped>\n",
              "    .dataframe tbody tr th:only-of-type {\n",
              "        vertical-align: middle;\n",
              "    }\n",
              "\n",
              "    .dataframe tbody tr th {\n",
              "        vertical-align: top;\n",
              "    }\n",
              "\n",
              "    .dataframe thead th {\n",
              "        text-align: right;\n",
              "    }\n",
              "</style>\n",
              "<table border=\"1\" class=\"dataframe\">\n",
              "  <thead>\n",
              "    <tr style=\"text-align: right;\">\n",
              "      <th></th>\n",
              "      <th>Unnamed: 0</th>\n",
              "      <th>EndDate</th>\n",
              "      <th>q0001</th>\n",
              "      <th>q0002</th>\n",
              "      <th>q0004_0001</th>\n",
              "      <th>q0004_0002</th>\n",
              "      <th>q0004_0003</th>\n",
              "      <th>q0004_0004</th>\n",
              "      <th>q0004_0005</th>\n",
              "      <th>q0004_0006</th>\n",
              "      <th>q0005</th>\n",
              "      <th>q0007_0001</th>\n",
              "      <th>q0007_0002</th>\n",
              "      <th>q0007_0003</th>\n",
              "      <th>q0007_0004</th>\n",
              "      <th>q0007_0005</th>\n",
              "      <th>q0007_0006</th>\n",
              "      <th>q0007_0007</th>\n",
              "      <th>q0007_0008</th>\n",
              "      <th>q0007_0009</th>\n",
              "      <th>q0007_0010</th>\n",
              "      <th>q0007_0011</th>\n",
              "      <th>q0008_0001</th>\n",
              "      <th>q0008_0002</th>\n",
              "      <th>q0008_0003</th>\n",
              "      <th>q0008_0004</th>\n",
              "      <th>q0008_0005</th>\n",
              "      <th>q0008_0006</th>\n",
              "      <th>q0008_0007</th>\n",
              "      <th>q0008_0008</th>\n",
              "      <th>q0008_0009</th>\n",
              "      <th>q0008_0010</th>\n",
              "      <th>q0008_0011</th>\n",
              "      <th>q0008_0012</th>\n",
              "      <th>q0009</th>\n",
              "      <th>q0010_0001</th>\n",
              "      <th>q0010_0002</th>\n",
              "      <th>q0010_0003</th>\n",
              "      <th>q0010_0004</th>\n",
              "      <th>q0010_0006</th>\n",
              "      <th>...</th>\n",
              "      <th>q0015</th>\n",
              "      <th>q0017</th>\n",
              "      <th>q0018</th>\n",
              "      <th>q0019_0001</th>\n",
              "      <th>q0019_0002</th>\n",
              "      <th>q0019_0003</th>\n",
              "      <th>q0019_0004</th>\n",
              "      <th>q0019_0005</th>\n",
              "      <th>q0019_0006</th>\n",
              "      <th>q0019_0007</th>\n",
              "      <th>q0020_0001</th>\n",
              "      <th>q0020_0002</th>\n",
              "      <th>q0020_0003</th>\n",
              "      <th>q0020_0004</th>\n",
              "      <th>q0020_0005</th>\n",
              "      <th>q0020_0006</th>\n",
              "      <th>q0021_0001</th>\n",
              "      <th>q0021_0002</th>\n",
              "      <th>q0021_0003</th>\n",
              "      <th>q0021_0004</th>\n",
              "      <th>q0022</th>\n",
              "      <th>q0024</th>\n",
              "      <th>q0025_0001</th>\n",
              "      <th>q0025_0002</th>\n",
              "      <th>q0025_0003</th>\n",
              "      <th>q0026</th>\n",
              "      <th>q0028</th>\n",
              "      <th>q0029</th>\n",
              "      <th>q0030</th>\n",
              "      <th>q0034</th>\n",
              "      <th>q0035</th>\n",
              "      <th>q0036</th>\n",
              "      <th>race2</th>\n",
              "      <th>racethn4</th>\n",
              "      <th>educ3</th>\n",
              "      <th>educ4</th>\n",
              "      <th>age3</th>\n",
              "      <th>kids</th>\n",
              "      <th>orientation</th>\n",
              "      <th>weight</th>\n",
              "    </tr>\n",
              "    <tr>\n",
              "      <th>q0010_0005</th>\n",
              "      <th></th>\n",
              "      <th></th>\n",
              "      <th></th>\n",
              "      <th></th>\n",
              "      <th></th>\n",
              "      <th></th>\n",
              "      <th></th>\n",
              "      <th></th>\n",
              "      <th></th>\n",
              "      <th></th>\n",
              "      <th></th>\n",
              "      <th></th>\n",
              "      <th></th>\n",
              "      <th></th>\n",
              "      <th></th>\n",
              "      <th></th>\n",
              "      <th></th>\n",
              "      <th></th>\n",
              "      <th></th>\n",
              "      <th></th>\n",
              "      <th></th>\n",
              "      <th></th>\n",
              "      <th></th>\n",
              "      <th></th>\n",
              "      <th></th>\n",
              "      <th></th>\n",
              "      <th></th>\n",
              "      <th></th>\n",
              "      <th></th>\n",
              "      <th></th>\n",
              "      <th></th>\n",
              "      <th></th>\n",
              "      <th></th>\n",
              "      <th></th>\n",
              "      <th></th>\n",
              "      <th></th>\n",
              "      <th></th>\n",
              "      <th></th>\n",
              "      <th></th>\n",
              "      <th></th>\n",
              "      <th></th>\n",
              "      <th></th>\n",
              "      <th></th>\n",
              "      <th></th>\n",
              "      <th></th>\n",
              "      <th></th>\n",
              "      <th></th>\n",
              "      <th></th>\n",
              "      <th></th>\n",
              "      <th></th>\n",
              "      <th></th>\n",
              "      <th></th>\n",
              "      <th></th>\n",
              "      <th></th>\n",
              "      <th></th>\n",
              "      <th></th>\n",
              "      <th></th>\n",
              "      <th></th>\n",
              "      <th></th>\n",
              "      <th></th>\n",
              "      <th></th>\n",
              "      <th></th>\n",
              "      <th></th>\n",
              "      <th></th>\n",
              "      <th></th>\n",
              "      <th></th>\n",
              "      <th></th>\n",
              "      <th></th>\n",
              "      <th></th>\n",
              "      <th></th>\n",
              "      <th></th>\n",
              "      <th></th>\n",
              "      <th></th>\n",
              "      <th></th>\n",
              "      <th></th>\n",
              "      <th></th>\n",
              "      <th></th>\n",
              "      <th></th>\n",
              "      <th></th>\n",
              "      <th></th>\n",
              "      <th></th>\n",
              "    </tr>\n",
              "  </thead>\n",
              "  <tbody>\n",
              "    <tr>\n",
              "      <th>Men are explicitly praised more often</th>\n",
              "      <td>47</td>\n",
              "      <td>5/11/18 6:11</td>\n",
              "      <td>Not very masculine</td>\n",
              "      <td>Not too important</td>\n",
              "      <td>Not selected</td>\n",
              "      <td>Mother or mother figure(s)</td>\n",
              "      <td>Not selected</td>\n",
              "      <td>Not selected</td>\n",
              "      <td>Not selected</td>\n",
              "      <td>Not selected</td>\n",
              "      <td>Yes</td>\n",
              "      <td>Often</td>\n",
              "      <td>Often</td>\n",
              "      <td>Sometimes</td>\n",
              "      <td>Often</td>\n",
              "      <td>Rarely</td>\n",
              "      <td>Often</td>\n",
              "      <td>Never, and not open to it</td>\n",
              "      <td>Sometimes</td>\n",
              "      <td>Sometimes</td>\n",
              "      <td>Often</td>\n",
              "      <td>Sometimes</td>\n",
              "      <td>Your height</td>\n",
              "      <td>Your weight</td>\n",
              "      <td>Your hair or hairline</td>\n",
              "      <td>Not selected</td>\n",
              "      <td>Appearance of your genitalia</td>\n",
              "      <td>Not selected</td>\n",
              "      <td>Sexual performance or amount of sex</td>\n",
              "      <td>Your mental health</td>\n",
              "      <td>Your physical health</td>\n",
              "      <td>Not selected</td>\n",
              "      <td>Your ability to provide for your family, curre...</td>\n",
              "      <td>Not selected</td>\n",
              "      <td>Employed, working full-time</td>\n",
              "      <td>Men make more money</td>\n",
              "      <td>Not selected</td>\n",
              "      <td>Not selected</td>\n",
              "      <td>Men have more promotion/professional developme...</td>\n",
              "      <td>Not selected</td>\n",
              "      <td>...</td>\n",
              "      <td>Yes</td>\n",
              "      <td>Yes</td>\n",
              "      <td>Often</td>\n",
              "      <td>Not selected</td>\n",
              "      <td>Not selected</td>\n",
              "      <td>Not selected</td>\n",
              "      <td>Societal expectations, even though you don?t a...</td>\n",
              "      <td>You asked the person out, so you feel obligate...</td>\n",
              "      <td>You try to pay to see if the other person will...</td>\n",
              "      <td>Not selected</td>\n",
              "      <td>Read their physical body language to see if th...</td>\n",
              "      <td>Ask for a verbal confirmation of consent</td>\n",
              "      <td>Make a physical move to see how they react</td>\n",
              "      <td>Every situation is different</td>\n",
              "      <td>Not selected</td>\n",
              "      <td>Not selected</td>\n",
              "      <td>Not selected</td>\n",
              "      <td>Not selected</td>\n",
              "      <td>Not selected</td>\n",
              "      <td>None of the above</td>\n",
              "      <td>No</td>\n",
              "      <td>Married</td>\n",
              "      <td>Yes, one or more children under 18</td>\n",
              "      <td>Not selected</td>\n",
              "      <td>Not selected</td>\n",
              "      <td>Straight</td>\n",
              "      <td>White</td>\n",
              "      <td>Post graduate degree</td>\n",
              "      <td>Michigan</td>\n",
              "      <td>$50,000-$74,999</td>\n",
              "      <td>East North Central</td>\n",
              "      <td>Android Phone / Tablet</td>\n",
              "      <td>White</td>\n",
              "      <td>White</td>\n",
              "      <td>College or more</td>\n",
              "      <td>Post graduate degree</td>\n",
              "      <td>18 - 34</td>\n",
              "      <td>Has children</td>\n",
              "      <td>Straight</td>\n",
              "      <td>0.125881</td>\n",
              "    </tr>\n",
              "    <tr>\n",
              "      <th>Not selected</th>\n",
              "      <td>3</td>\n",
              "      <td>5/10/18 7:09</td>\n",
              "      <td>Very masculine</td>\n",
              "      <td>Not too important</td>\n",
              "      <td>Father or father figure(s)</td>\n",
              "      <td>Not selected</td>\n",
              "      <td>Not selected</td>\n",
              "      <td>Not selected</td>\n",
              "      <td>Not selected</td>\n",
              "      <td>Other (please specify)</td>\n",
              "      <td>No</td>\n",
              "      <td>Sometimes</td>\n",
              "      <td>Sometimes</td>\n",
              "      <td>Sometimes</td>\n",
              "      <td>Rarely</td>\n",
              "      <td>Never, but open to it</td>\n",
              "      <td>Often</td>\n",
              "      <td>Never, and not open to it</td>\n",
              "      <td>Rarely</td>\n",
              "      <td>Sometimes</td>\n",
              "      <td>Rarely</td>\n",
              "      <td>Never, and not open to it</td>\n",
              "      <td>Not selected</td>\n",
              "      <td>Not selected</td>\n",
              "      <td>Not selected</td>\n",
              "      <td>Not selected</td>\n",
              "      <td>Not selected</td>\n",
              "      <td>Not selected</td>\n",
              "      <td>Not selected</td>\n",
              "      <td>Not selected</td>\n",
              "      <td>Your physical health</td>\n",
              "      <td>Not selected</td>\n",
              "      <td>Not selected</td>\n",
              "      <td>Not selected</td>\n",
              "      <td>Employed, working full-time</td>\n",
              "      <td>Not selected</td>\n",
              "      <td>Not selected</td>\n",
              "      <td>Not selected</td>\n",
              "      <td>Not selected</td>\n",
              "      <td>Not selected</td>\n",
              "      <td>...</td>\n",
              "      <td>No</td>\n",
              "      <td>Yes</td>\n",
              "      <td>Sometimes</td>\n",
              "      <td>Not selected</td>\n",
              "      <td>Not selected</td>\n",
              "      <td>Not selected</td>\n",
              "      <td>Societal expectations, even though you don?t a...</td>\n",
              "      <td>Not selected</td>\n",
              "      <td>Not selected</td>\n",
              "      <td>Not selected</td>\n",
              "      <td>Not selected</td>\n",
              "      <td>Not selected</td>\n",
              "      <td>Not selected</td>\n",
              "      <td>Every situation is different</td>\n",
              "      <td>Not selected</td>\n",
              "      <td>Not selected</td>\n",
              "      <td>Not selected</td>\n",
              "      <td>Not selected</td>\n",
              "      <td>Not selected</td>\n",
              "      <td>None of the above</td>\n",
              "      <td>No</td>\n",
              "      <td>Married</td>\n",
              "      <td>Not selected</td>\n",
              "      <td>Yes, one or more children 18 or older</td>\n",
              "      <td>Not selected</td>\n",
              "      <td>Straight</td>\n",
              "      <td>White</td>\n",
              "      <td>College graduate</td>\n",
              "      <td>Michigan</td>\n",
              "      <td>$50,000-$74,999</td>\n",
              "      <td>East North Central</td>\n",
              "      <td>Windows Desktop / Laptop</td>\n",
              "      <td>White</td>\n",
              "      <td>White</td>\n",
              "      <td>College or more</td>\n",
              "      <td>College or more</td>\n",
              "      <td>35 - 64</td>\n",
              "      <td>Has children</td>\n",
              "      <td>Straight</td>\n",
              "      <td>0.515746</td>\n",
              "    </tr>\n",
              "  </tbody>\n",
              "</table>\n",
              "<p>2 rows × 96 columns</p>\n",
              "</div>"
            ],
            "text/plain": [
              "                                       Unnamed: 0  ...    weight\n",
              "q0010_0005                                         ...          \n",
              "Men are explicitly praised more often          47  ...  0.125881\n",
              "Not selected                                    3  ...  0.515746\n",
              "\n",
              "[2 rows x 96 columns]"
            ]
          },
          "metadata": {
            "tags": []
          },
          "execution_count": 145
        }
      ]
    },
    {
      "cell_type": "code",
      "metadata": {
        "id": "4kYoiI9Yzzu1",
        "colab_type": "code",
        "colab": {
          "base_uri": "https://localhost:8080/",
          "height": 419
        },
        "outputId": "1ee00e91-0607-4594-9b73-4e17193065db"
      },
      "source": [
        "#Help!  There isn't much numeric data here...\n",
        "#final = lastday_filtered.tail(1)\n",
        "#final.T"
      ],
      "execution_count": 123,
      "outputs": [
        {
          "output_type": "execute_result",
          "data": {
            "text/html": [
              "<div>\n",
              "<style scoped>\n",
              "    .dataframe tbody tr th:only-of-type {\n",
              "        vertical-align: middle;\n",
              "    }\n",
              "\n",
              "    .dataframe tbody tr th {\n",
              "        vertical-align: top;\n",
              "    }\n",
              "\n",
              "    .dataframe thead th {\n",
              "        text-align: right;\n",
              "    }\n",
              "</style>\n",
              "<table border=\"1\" class=\"dataframe\">\n",
              "  <thead>\n",
              "    <tr style=\"text-align: right;\">\n",
              "      <th>StartDate</th>\n",
              "      <th>2018-05-22 09:55:00</th>\n",
              "    </tr>\n",
              "  </thead>\n",
              "  <tbody>\n",
              "    <tr>\n",
              "      <th>Unnamed: 0</th>\n",
              "      <td>1615</td>\n",
              "    </tr>\n",
              "    <tr>\n",
              "      <th>EndDate</th>\n",
              "      <td>5/22/18 10:00</td>\n",
              "    </tr>\n",
              "    <tr>\n",
              "      <th>q0001</th>\n",
              "      <td>Very masculine</td>\n",
              "    </tr>\n",
              "    <tr>\n",
              "      <th>q0002</th>\n",
              "      <td>Not at all important</td>\n",
              "    </tr>\n",
              "    <tr>\n",
              "      <th>q0004_0001</th>\n",
              "      <td>Father or father figure(s)</td>\n",
              "    </tr>\n",
              "    <tr>\n",
              "      <th>...</th>\n",
              "      <td>...</td>\n",
              "    </tr>\n",
              "    <tr>\n",
              "      <th>educ4</th>\n",
              "      <td>Some college</td>\n",
              "    </tr>\n",
              "    <tr>\n",
              "      <th>age3</th>\n",
              "      <td>18 - 34</td>\n",
              "    </tr>\n",
              "    <tr>\n",
              "      <th>kids</th>\n",
              "      <td>No children</td>\n",
              "    </tr>\n",
              "    <tr>\n",
              "      <th>orientation</th>\n",
              "      <td>Straight</td>\n",
              "    </tr>\n",
              "    <tr>\n",
              "      <th>weight</th>\n",
              "      <td>2.81756</td>\n",
              "    </tr>\n",
              "  </tbody>\n",
              "</table>\n",
              "<p>97 rows × 1 columns</p>\n",
              "</div>"
            ],
            "text/plain": [
              "StartDate           2018-05-22 09:55:00\n",
              "Unnamed: 0                         1615\n",
              "EndDate                   5/22/18 10:00\n",
              "q0001                    Very masculine\n",
              "q0002              Not at all important\n",
              "q0004_0001   Father or father figure(s)\n",
              "...                                 ...\n",
              "educ4                      Some college\n",
              "age3                            18 - 34\n",
              "kids                        No children\n",
              "orientation                    Straight\n",
              "weight                          2.81756\n",
              "\n",
              "[97 rows x 1 columns]"
            ]
          },
          "metadata": {
            "tags": []
          },
          "execution_count": 123
        }
      ]
    },
    {
      "cell_type": "markdown",
      "metadata": {
        "id": "0wSrBzmJyWaV",
        "colab_type": "text"
      },
      "source": [
        "# STRETCH OPTIONS\n",
        "\n",
        "### 1) Reproduce one of the following using the matplotlib or seaborn libraries:\n",
        "\n",
        "- [thanksgiving-2015](https://fivethirtyeight.com/features/heres-what-your-part-of-america-eats-on-thanksgiving/) \n",
        "- [candy-power-ranking](https://fivethirtyeight.com/features/the-ultimate-halloween-candy-power-ranking/) \n",
        "- or another example of your choice!\n",
        "\n",
        "### 2) Make more charts!\n",
        "\n",
        "Choose a chart you want to make, from [Visual Vocabulary - Vega Edition](http://ft.com/vocabulary).\n",
        "\n",
        "Find the chart in an example gallery of a Python data visualization library:\n",
        "- [Seaborn](http://seaborn.pydata.org/examples/index.html)\n",
        "- [Altair](https://altair-viz.github.io/gallery/index.html)\n",
        "- [Matplotlib](https://matplotlib.org/gallery.html)\n",
        "- [Pandas](https://pandas.pydata.org/pandas-docs/stable/visualization.html)\n",
        "\n",
        "Reproduce the chart. [Optionally, try the \"Ben Franklin Method.\"](https://docs.google.com/document/d/1ubOw9B3Hfip27hF2ZFnW3a3z9xAgrUDRReOEo-FHCVs/edit) If you want, experiment and make changes.\n",
        "\n",
        "Take notes. Consider sharing your work with your cohort!"
      ]
    },
    {
      "cell_type": "code",
      "metadata": {
        "id": "dRJkKftiy5BJ",
        "colab_type": "code",
        "colab": {}
      },
      "source": [
        "# More Work Here"
      ],
      "execution_count": 0,
      "outputs": []
    }
  ]
}