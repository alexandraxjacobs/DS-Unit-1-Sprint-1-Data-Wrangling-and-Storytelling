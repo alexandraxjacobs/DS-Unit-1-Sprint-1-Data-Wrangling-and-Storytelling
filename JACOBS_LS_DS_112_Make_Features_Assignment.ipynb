{
  "nbformat": 4,
  "nbformat_minor": 0,
  "metadata": {
    "colab": {
      "name": "JACOBS LS_DS_112_Make_Features_Assignment.ipynb",
      "provenance": [],
      "collapsed_sections": [],
      "include_colab_link": true
    },
    "kernelspec": {
      "display_name": "Python 3",
      "language": "python",
      "name": "python3"
    },
    "language_info": {
      "codemirror_mode": {
        "name": "ipython",
        "version": 3
      },
      "file_extension": ".py",
      "mimetype": "text/x-python",
      "name": "python",
      "nbconvert_exporter": "python",
      "pygments_lexer": "ipython3",
      "version": "3.7.1"
    }
  },
  "cells": [
    {
      "cell_type": "markdown",
      "metadata": {
        "id": "view-in-github",
        "colab_type": "text"
      },
      "source": [
        "<a href=\"https://colab.research.google.com/github/alexandraxjacobs/DS-Unit-1-Sprint-1-Data-Wrangling-and-Storytelling/blob/master/JACOBS_LS_DS_112_Make_Features_Assignment.ipynb\" target=\"_parent\"><img src=\"https://colab.research.google.com/assets/colab-badge.svg\" alt=\"Open In Colab\"/></a>"
      ]
    },
    {
      "cell_type": "markdown",
      "metadata": {
        "id": "SnDJqBLi0FYW",
        "colab_type": "text"
      },
      "source": [
        "<img align=\"left\" src=\"https://lever-client-logos.s3.amazonaws.com/864372b1-534c-480e-acd5-9711f850815c-1524247202159.png\" width=200> "
      ]
    },
    {
      "cell_type": "markdown",
      "metadata": {
        "id": "W5GjI1z5yNG4",
        "colab_type": "text"
      },
      "source": [
        "# Assignment:\n",
        "\n",
        "- Replicate the lesson code.\n",
        "\n",
        " - This means that if you haven't followed along already, type out the things that we did in class. Forcing your fingers to hit each key will help you internalize the syntax of what we're doing. Make sure you understand each line of code that you're writing, google things that you don't fully understand.\n",
        " - [Lambda Learning Method for DS - By Ryan Herr](https://docs.google.com/document/d/1ubOw9B3Hfip27hF2ZFnW3a3z9xAgrUDRReOEo-FHCVs/edit?usp=sharing)\n",
        "- Convert the `term` column from string to integer.\n",
        "- Make a column named `loan_status_is_great`. It should contain the integer 1 if `loan_status` is \"Current\" or \"Fully Paid.\" Else it should contain the integer 0.\n",
        "- Make `last_pymnt_d_month` and `last_pymnt_d_year` columns."
      ]
    },
    {
      "cell_type": "code",
      "metadata": {
        "id": "AazB4eFwym2p",
        "colab_type": "code",
        "colab": {
          "base_uri": "https://localhost:8080/",
          "height": 224
        },
        "outputId": "b0a194d8-ff51-4439-9b8a-c7a04e251258"
      },
      "source": [
        "##### Begin Working Here #####\n",
        "\n",
        "import pandas as pd\n",
        "\n",
        "! wget https://resources.lendingclub.com/LoanStats_2018Q4.csv.zip"
      ],
      "execution_count": 1,
      "outputs": [
        {
          "output_type": "stream",
          "text": [
            "--2020-01-20 03:20:06--  https://resources.lendingclub.com/LoanStats_2018Q4.csv.zip\n",
            "Resolving resources.lendingclub.com (resources.lendingclub.com)... 64.48.1.20\n",
            "Connecting to resources.lendingclub.com (resources.lendingclub.com)|64.48.1.20|:443... connected.\n",
            "HTTP request sent, awaiting response... 200 OK\n",
            "Length: unspecified [application/zip]\n",
            "Saving to: ‘LoanStats_2018Q4.csv.zip.1’\n",
            "\n",
            "LoanStats_2018Q4.cs     [           <=>      ]  21.72M   431KB/s    in 53s     \n",
            "\n",
            "2020-01-20 03:21:00 (422 KB/s) - ‘LoanStats_2018Q4.csv.zip.1’ saved [22776791]\n",
            "\n"
          ],
          "name": "stdout"
        }
      ]
    },
    {
      "cell_type": "code",
      "metadata": {
        "id": "cJfNf-1fsayH",
        "colab_type": "code",
        "colab": {
          "base_uri": "https://localhost:8080/",
          "height": 51
        },
        "outputId": "0939af70-5741-49d9-be0e-b5f2effff36a"
      },
      "source": [
        "! unzip LoanStats_2018Q4.csv.zip"
      ],
      "execution_count": 2,
      "outputs": [
        {
          "output_type": "stream",
          "text": [
            "Archive:  LoanStats_2018Q4.csv.zip\n",
            "replace LoanStats_2018Q4.csv? [y]es, [n]o, [A]ll, [N]one, [r]ename: n\n"
          ],
          "name": "stdout"
        }
      ]
    },
    {
      "cell_type": "code",
      "metadata": {
        "id": "hy6rpESus7SL",
        "colab_type": "code",
        "colab": {
          "base_uri": "https://localhost:8080/",
          "height": 207
        },
        "outputId": "dbc8f14f-957c-4961-c854-42da096f6e88"
      },
      "source": [
        "! head LoanStats_2018Q4.csv\n",
        "\n",
        "# can also use ! tail"
      ],
      "execution_count": 3,
      "outputs": [
        {
          "output_type": "stream",
          "text": [
            "Notes offered by Prospectus (https://www.lendingclub.com/info/prospectus.action)\n",
            "\"id\",\"member_id\",\"loan_amnt\",\"funded_amnt\",\"funded_amnt_inv\",\"term\",\"int_rate\",\"installment\",\"grade\",\"sub_grade\",\"emp_title\",\"emp_length\",\"home_ownership\",\"annual_inc\",\"verification_status\",\"issue_d\",\"loan_status\",\"pymnt_plan\",\"url\",\"desc\",\"purpose\",\"title\",\"zip_code\",\"addr_state\",\"dti\",\"delinq_2yrs\",\"earliest_cr_line\",\"inq_last_6mths\",\"mths_since_last_delinq\",\"mths_since_last_record\",\"open_acc\",\"pub_rec\",\"revol_bal\",\"revol_util\",\"total_acc\",\"initial_list_status\",\"out_prncp\",\"out_prncp_inv\",\"total_pymnt\",\"total_pymnt_inv\",\"total_rec_prncp\",\"total_rec_int\",\"total_rec_late_fee\",\"recoveries\",\"collection_recovery_fee\",\"last_pymnt_d\",\"last_pymnt_amnt\",\"next_pymnt_d\",\"last_credit_pull_d\",\"collections_12_mths_ex_med\",\"mths_since_last_major_derog\",\"policy_code\",\"application_type\",\"annual_inc_joint\",\"dti_joint\",\"verification_status_joint\",\"acc_now_delinq\",\"tot_coll_amt\",\"tot_cur_bal\",\"open_acc_6m\",\"open_act_il\",\"open_il_12m\",\"open_il_24m\",\"mths_since_rcnt_il\",\"total_bal_il\",\"il_util\",\"open_rv_12m\",\"open_rv_24m\",\"max_bal_bc\",\"all_util\",\"total_rev_hi_lim\",\"inq_fi\",\"total_cu_tl\",\"inq_last_12m\",\"acc_open_past_24mths\",\"avg_cur_bal\",\"bc_open_to_buy\",\"bc_util\",\"chargeoff_within_12_mths\",\"delinq_amnt\",\"mo_sin_old_il_acct\",\"mo_sin_old_rev_tl_op\",\"mo_sin_rcnt_rev_tl_op\",\"mo_sin_rcnt_tl\",\"mort_acc\",\"mths_since_recent_bc\",\"mths_since_recent_bc_dlq\",\"mths_since_recent_inq\",\"mths_since_recent_revol_delinq\",\"num_accts_ever_120_pd\",\"num_actv_bc_tl\",\"num_actv_rev_tl\",\"num_bc_sats\",\"num_bc_tl\",\"num_il_tl\",\"num_op_rev_tl\",\"num_rev_accts\",\"num_rev_tl_bal_gt_0\",\"num_sats\",\"num_tl_120dpd_2m\",\"num_tl_30dpd\",\"num_tl_90g_dpd_24m\",\"num_tl_op_past_12m\",\"pct_tl_nvr_dlq\",\"percent_bc_gt_75\",\"pub_rec_bankruptcies\",\"tax_liens\",\"tot_hi_cred_lim\",\"total_bal_ex_mort\",\"total_bc_limit\",\"total_il_high_credit_limit\",\"revol_bal_joint\",\"sec_app_earliest_cr_line\",\"sec_app_inq_last_6mths\",\"sec_app_mort_acc\",\"sec_app_open_acc\",\"sec_app_revol_util\",\"sec_app_open_act_il\",\"sec_app_num_rev_accts\",\"sec_app_chargeoff_within_12_mths\",\"sec_app_collections_12_mths_ex_med\",\"sec_app_mths_since_last_major_derog\",\"hardship_flag\",\"hardship_type\",\"hardship_reason\",\"hardship_status\",\"deferral_term\",\"hardship_amount\",\"hardship_start_date\",\"hardship_end_date\",\"payment_plan_start_date\",\"hardship_length\",\"hardship_dpd\",\"hardship_loan_status\",\"orig_projected_additional_accrued_interest\",\"hardship_payoff_balance_amount\",\"hardship_last_payment_amount\",\"debt_settlement_flag\",\"debt_settlement_flag_date\",\"settlement_status\",\"settlement_date\",\"settlement_amount\",\"settlement_percentage\",\"settlement_term\"\n",
            "\"\",\"\",\"6000\",\"6000\",\"6000\",\" 36 months\",\" 14.47%\",\"206.44\",\"C\",\"C2\",\"Manager\",\"10+ years\",\"RENT\",\"55000\",\"Verified\",\"Dec-2018\",\"Charged Off\",\"n\",\"\",\"\",\"credit_card\",\"Credit card refinancing\",\"104xx\",\"NY\",\"10.65\",\"0\",\"Jun-2006\",\"0\",\"\",\"\",\"6\",\"0\",\"4196\",\"91.2%\",\"8\",\"w\",\"0.00\",\"0.00\",\"1106.52\",\"1106.52\",\"546.14\",\"272.38\",\"0.0\",\"288.0\",\"51.84\",\"Apr-2019\",\"206.44\",\"\",\"Nov-2019\",\"0\",\"\",\"1\",\"Individual\",\"\",\"\",\"\",\"0\",\"0\",\"12514\",\"0\",\"2\",\"1\",\"1\",\"9\",\"8318\",\"74\",\"1\",\"1\",\"2807\",\"79\",\"4600\",\"1\",\"0\",\"2\",\"2\",\"2086\",\"344\",\"92\",\"0\",\"0\",\"33\",\"150\",\"9\",\"9\",\"0\",\"9\",\"\",\"9\",\"\",\"0\",\"3\",\"4\",\"3\",\"3\",\"3\",\"4\",\"5\",\"4\",\"6\",\"0\",\"0\",\"0\",\"2\",\"100\",\"100\",\"0\",\"0\",\"15800\",\"12514\",\"4300\",\"11200\",\"\",\"\",\"\",\"\",\"\",\"\",\"\",\"\",\"\",\"\",\"\",\"N\",\"\",\"\",\"\",\"\",\"\",\"\",\"\",\"\",\"\",\"\",\"\",\"\",\"\",\"\",\"Y\",\"Oct-2019\",\"ACTIVE\",\"Oct-2019\",\"3479\",\"60.01\",\"24\"\n",
            "\"\",\"\",\"24000\",\"24000\",\"24000\",\" 36 months\",\" 10.33%\",\"778.14\",\"B\",\"B1\",\"Maintenance Manager\",\"10+ years\",\"MORTGAGE\",\"100000\",\"Not Verified\",\"Dec-2018\",\"Current\",\"n\",\"\",\"\",\"debt_consolidation\",\"Debt consolidation\",\"606xx\",\"IL\",\"19.14\",\"0\",\"Oct-1996\",\"3\",\"39\",\"\",\"14\",\"0\",\"8547\",\"27.7%\",\"28\",\"w\",\"16807.30\",\"16807.30\",\"9317.02\",\"9317.02\",\"7192.70\",\"2124.32\",\"0.0\",\"0.0\",\"0.0\",\"Dec-2019\",\"778.14\",\"Jan-2020\",\"Nov-2019\",\"0\",\"57\",\"1\",\"Individual\",\"\",\"\",\"\",\"0\",\"0\",\"273876\",\"3\",\"5\",\"3\",\"5\",\"5\",\"40384\",\"66\",\"2\",\"4\",\"4368\",\"51\",\"30900\",\"8\",\"0\",\"8\",\"9\",\"19563\",\"17353\",\"33\",\"0\",\"0\",\"266\",\"178\",\"4\",\"4\",\"3\",\"4\",\"39\",\"1\",\"39\",\"1\",\"5\",\"5\",\"6\",\"8\",\"15\",\"7\",\"9\",\"5\",\"14\",\"0\",\"0\",\"0\",\"5\",\"82.1\",\"16.7\",\"0\",\"0\",\"335121\",\"50686\",\"25900\",\"61514\",\"\",\"\",\"\",\"\",\"\",\"\",\"\",\"\",\"\",\"\",\"\",\"N\",\"\",\"\",\"\",\"\",\"\",\"\",\"\",\"\",\"\",\"\",\"\",\"\",\"\",\"\",\"N\",\"\",\"\",\"\",\"\",\"\",\"\"\n",
            "\"\",\"\",\"30000\",\"30000\",\"30000\",\" 36 months\",\" 15.02%\",\"1040.26\",\"C\",\"C3\",\"Firefighter \",\"10+ years\",\"RENT\",\"90000\",\"Verified\",\"Dec-2018\",\"Fully Paid\",\"n\",\"\",\"\",\"debt_consolidation\",\"Debt consolidation\",\"681xx\",\"NE\",\"22.23\",\"0\",\"May-2007\",\"1\",\"\",\"\",\"8\",\"0\",\"25754\",\"48%\",\"23\",\"w\",\"0.00\",\"0.00\",\"30883.673711683\",\"30883.67\",\"30000.00\",\"883.67\",\"0.0\",\"0.0\",\"0.0\",\"Feb-2019\",\"28382.51\",\"\",\"Nov-2019\",\"0\",\"\",\"1\",\"Individual\",\"\",\"\",\"\",\"0\",\"0\",\"51370\",\"1\",\"2\",\"1\",\"2\",\"9\",\"25616\",\"71\",\"2\",\"3\",\"9621\",\"57\",\"53600\",\"0\",\"2\",\"1\",\"5\",\"6421\",\"22030\",\"47\",\"0\",\"0\",\"123\",\"139\",\"3\",\"3\",\"3\",\"3\",\"\",\"3\",\"\",\"0\",\"4\",\"6\",\"4\",\"5\",\"11\",\"6\",\"9\",\"6\",\"8\",\"0\",\"0\",\"0\",\"3\",\"100\",\"50\",\"0\",\"0\",\"89849\",\"51370\",\"41600\",\"36249\",\"\",\"\",\"\",\"\",\"\",\"\",\"\",\"\",\"\",\"\",\"\",\"N\",\"\",\"\",\"\",\"\",\"\",\"\",\"\",\"\",\"\",\"\",\"\",\"\",\"\",\"\",\"N\",\"\",\"\",\"\",\"\",\"\",\"\"\n",
            "\"\",\"\",\"8000\",\"8000\",\"8000\",\" 36 months\",\" 12.98%\",\"269.48\",\"B\",\"B5\",\"Controller\",\"4 years\",\"MORTGAGE\",\"95000\",\"Source Verified\",\"Dec-2018\",\"Current\",\"n\",\"\",\"\",\"credit_card\",\"Credit card refinancing\",\"480xx\",\"MI\",\"9.44\",\"0\",\"Mar-2009\",\"2\",\"73\",\"\",\"7\",\"0\",\"11434\",\"33.3%\",\"20\",\"w\",\"1707.34\",\"1707.34\",\"6855.63\",\"6855.63\",\"6292.66\",\"562.97\",\"0.0\",\"0.0\",\"0.0\",\"Dec-2019\",\"269.48\",\"Jan-2020\",\"Dec-2019\",\"0\",\"73\",\"1\",\"Individual\",\"\",\"\",\"\",\"0\",\"0\",\"247933\",\"5\",\"1\",\"3\",\"4\",\"2\",\"13716\",\"98\",\"4\",\"5\",\"8918\",\"52\",\"34300\",\"2\",\"0\",\"7\",\"10\",\"35419\",\"22866\",\"33.3\",\"0\",\"0\",\"13\",\"117\",\"6\",\"2\",\"1\",\"6\",\"73\",\"2\",\"73\",\"1\",\"3\",\"3\",\"5\",\"15\",\"4\",\"5\",\"15\",\"3\",\"7\",\"0\",\"0\",\"0\",\"8\",\"100\",\"20\",\"0\",\"0\",\"271550\",\"25150\",\"34300\",\"14000\",\"\",\"\",\"\",\"\",\"\",\"\",\"\",\"\",\"\",\"\",\"\",\"N\",\"\",\"\",\"\",\"\",\"\",\"\",\"\",\"\",\"\",\"\",\"\",\"\",\"\",\"\",\"N\",\"\",\"\",\"\",\"\",\"\",\"\"\n",
            "\"\",\"\",\"22400\",\"22400\",\"22400\",\" 60 months\",\" 16.14%\",\"546.4\",\"C\",\"C4\",\"Paramedic/ Fire Fighter\",\"10+ years\",\"OWN\",\"56000\",\"Source Verified\",\"Dec-2018\",\"Current\",\"n\",\"\",\"\",\"credit_card\",\"Credit card refinancing\",\"234xx\",\"VA\",\"18.47\",\"0\",\"Dec-2004\",\"0\",\"75\",\"\",\"15\",\"0\",\"13555\",\"38.2%\",\"22\",\"w\",\"19230.91\",\"19230.91\",\"6526.67\",\"6526.67\",\"3169.09\",\"3357.58\",\"0.0\",\"0.0\",\"0.0\",\"Dec-2019\",\"546.4\",\"Jan-2020\",\"Nov-2019\",\"0\",\"\",\"1\",\"Individual\",\"\",\"\",\"\",\"0\",\"0\",\"217072\",\"0\",\"3\",\"1\",\"1\",\"7\",\"18515\",\"79\",\"1\",\"1\",\"5789\",\"55\",\"35500\",\"1\",\"0\",\"4\",\"2\",\"14471\",\"15054\",\"46.6\",\"0\",\"0\",\"113\",\"168\",\"7\",\"7\",\"5\",\"36\",\"\",\"5\",\"\",\"0\",\"5\",\"7\",\"8\",\"8\",\"5\",\"11\",\"12\",\"7\",\"15\",\"0\",\"0\",\"0\",\"2\",\"95.5\",\"25\",\"0\",\"0\",\"253539\",\"32070\",\"28200\",\"23364\",\"\",\"\",\"\",\"\",\"\",\"\",\"\",\"\",\"\",\"\",\"\",\"N\",\"\",\"\",\"\",\"\",\"\",\"\",\"\",\"\",\"\",\"\",\"\",\"\",\"\",\"\",\"N\",\"\",\"\",\"\",\"\",\"\",\"\"\n",
            "\"\",\"\",\"5000\",\"5000\",\"5000\",\" 36 months\",\" 12.98%\",\"168.43\",\"B\",\"B5\",\"Consultant\",\"2 years\",\"RENT\",\"80000\",\"Not Verified\",\"Dec-2018\",\"Current\",\"n\",\"\",\"\",\"debt_consolidation\",\"Debt consolidation\",\"100xx\",\"NY\",\"2.39\",\"0\",\"Jan-2014\",\"1\",\"\",\"\",\"8\",\"0\",\"7356\",\"9.4%\",\"9\",\"w\",\"3543.19\",\"3543.19\",\"2015.75\",\"2015.75\",\"1456.81\",\"558.94\",\"0.0\",\"0.0\",\"0.0\",\"Dec-2019\",\"168.43\",\"Jan-2020\",\"Nov-2019\",\"0\",\"\",\"1\",\"Individual\",\"\",\"\",\"\",\"0\",\"0\",\"7356\",\"0\",\"0\",\"0\",\"0\",\"\",\"0\",\"\",\"2\",\"2\",\"4957\",\"9\",\"78200\",\"1\",\"0\",\"1\",\"2\",\"920\",\"70844\",\"9.4\",\"0\",\"0\",\"\",\"59\",\"11\",\"11\",\"0\",\"11\",\"\",\"1\",\"\",\"0\",\"4\",\"4\",\"8\",\"8\",\"0\",\"8\",\"8\",\"4\",\"8\",\"0\",\"0\",\"0\",\"2\",\"100\",\"12.5\",\"0\",\"0\",\"78200\",\"7356\",\"78200\",\"0\",\"\",\"\",\"\",\"\",\"\",\"\",\"\",\"\",\"\",\"\",\"\",\"N\",\"\",\"\",\"\",\"\",\"\",\"\",\"\",\"\",\"\",\"\",\"\",\"\",\"\",\"\",\"N\",\"\",\"\",\"\",\"\",\"\",\"\"\n",
            "\"\",\"\",\"27000\",\"27000\",\"27000\",\" 60 months\",\" 15.02%\",\"642.62\",\"C\",\"C3\",\"Supervisor \",\"10+ years\",\"MORTGAGE\",\"45000\",\"Source Verified\",\"Dec-2018\",\"Current\",\"n\",\"\",\"\",\"debt_consolidation\",\"Debt consolidation\",\"656xx\",\"MO\",\"23.55\",\"2\",\"Oct-2006\",\"0\",\"12\",\"\",\"11\",\"0\",\"12903\",\"64.8%\",\"24\",\"w\",\"23082.62\",\"23082.62\",\"7677.64\",\"7677.64\",\"3917.38\",\"3760.26\",\"0.0\",\"0.0\",\"0.0\",\"Dec-2019\",\"642.62\",\"Jan-2020\",\"Dec-2019\",\"0\",\"\",\"1\",\"Individual\",\"\",\"\",\"\",\"0\",\"0\",\"21902\",\"0\",\"1\",\"0\",\"0\",\"42\",\"8999\",\"42\",\"0\",\"1\",\"5787\",\"53\",\"19900\",\"0\",\"1\",\"0\",\"1\",\"1991\",\"3225\",\"78.1\",\"0\",\"0\",\"144\",\"146\",\"17\",\"17\",\"1\",\"17\",\"33\",\"\",\"12\",\"0\",\"6\",\"8\",\"7\",\"13\",\"5\",\"10\",\"18\",\"8\",\"11\",\"0\",\"0\",\"0\",\"0\",\"87.5\",\"57.1\",\"0\",\"0\",\"41500\",\"21902\",\"14700\",\"21600\",\"\",\"\",\"\",\"\",\"\",\"\",\"\",\"\",\"\",\"\",\"\",\"N\",\"\",\"\",\"\",\"\",\"\",\"\",\"\",\"\",\"\",\"\",\"\",\"\",\"\",\"\",\"N\",\"\",\"\",\"\",\"\",\"\",\"\"\n",
            "\"\",\"\",\"10000\",\"10000\",\"10000\",\" 36 months\",\" 16.14%\",\"352.27\",\"C\",\"C4\",\"\",\"< 1 year\",\"MORTGAGE\",\"90000\",\"Not Verified\",\"Dec-2018\",\"Current\",\"n\",\"\",\"\",\"debt_consolidation\",\"Debt consolidation\",\"934xx\",\"CA\",\"7.85\",\"0\",\"Jun-2009\",\"0\",\"\",\"\",\"10\",\"0\",\"17271\",\"48.5%\",\"12\",\"w\",\"7184.51\",\"7184.51\",\"4213.79\",\"4213.79\",\"2815.49\",\"1398.30\",\"0.0\",\"0.0\",\"0.0\",\"Dec-2019\",\"352.27\",\"Jan-2020\",\"Nov-2019\",\"0\",\"\",\"1\",\"Individual\",\"\",\"\",\"\",\"0\",\"0\",\"24085\",\"1\",\"1\",\"0\",\"1\",\"15\",\"6814\",\"68\",\"2\",\"5\",\"11822\",\"53\",\"35600\",\"1\",\"0\",\"0\",\"6\",\"2409\",\"10982\",\"59.3\",\"0\",\"0\",\"114\",\"56\",\"1\",\"1\",\"0\",\"1\",\"\",\"15\",\"\",\"0\",\"3\",\"4\",\"8\",\"8\",\"2\",\"9\",\"10\",\"4\",\"10\",\"0\",\"0\",\"0\",\"2\",\"100\",\"37.5\",\"0\",\"0\",\"45600\",\"24085\",\"27000\",\"10000\",\"\",\"\",\"\",\"\",\"\",\"\",\"\",\"\",\"\",\"\",\"\",\"N\",\"\",\"\",\"\",\"\",\"\",\"\",\"\",\"\",\"\",\"\",\"\",\"\",\"\",\"\",\"N\",\"\",\"\",\"\",\"\",\"\",\"\"\n"
          ],
          "name": "stdout"
        }
      ]
    },
    {
      "cell_type": "code",
      "metadata": {
        "id": "FGHFH49utGi0",
        "colab_type": "code",
        "colab": {
          "base_uri": "https://localhost:8080/",
          "height": 34
        },
        "outputId": "38797eb6-243d-4c40-f2f5-624597e00e84"
      },
      "source": [
        "df = pd.read_csv('LoanStats_2018Q4.csv', header=1, skipfooter=2, engine ='python')\n",
        "df.shape\n",
        "# why do we use engine='python'?"
      ],
      "execution_count": 4,
      "outputs": [
        {
          "output_type": "execute_result",
          "data": {
            "text/plain": [
              "(128397, 144)"
            ]
          },
          "metadata": {
            "tags": []
          },
          "execution_count": 4
        }
      ]
    },
    {
      "cell_type": "code",
      "metadata": {
        "id": "FRwrBPOCtcC8",
        "colab_type": "code",
        "colab": {
          "base_uri": "https://localhost:8080/",
          "height": 1000
        },
        "outputId": "36528cd3-8b39-4824-ba59-07192d3b6a74"
      },
      "source": [
        "pd.set_option('display.max_rows', 200)\n",
        "df.isnull().sum().sort_values(ascending=True)"
      ],
      "execution_count": 5,
      "outputs": [
        {
          "output_type": "execute_result",
          "data": {
            "text/plain": [
              "inq_fi                                             0\n",
              "delinq_amnt                                        0\n",
              "chargeoff_within_12_mths                           0\n",
              "acc_open_past_24mths                               0\n",
              "inq_last_12m                                       0\n",
              "total_cu_tl                                        0\n",
              "total_rev_hi_lim                                   0\n",
              "max_bal_bc                                         0\n",
              "open_rv_24m                                        0\n",
              "open_rv_12m                                        0\n",
              "total_bal_il                                       0\n",
              "open_il_24m                                        0\n",
              "hardship_flag                                      0\n",
              "open_act_il                                        0\n",
              "open_acc_6m                                        0\n",
              "tot_cur_bal                                        0\n",
              "tot_coll_amt                                       0\n",
              "acc_now_delinq                                     0\n",
              "application_type                                   0\n",
              "policy_code                                        0\n",
              "mo_sin_old_rev_tl_op                               0\n",
              "mo_sin_rcnt_rev_tl_op                              0\n",
              "mo_sin_rcnt_tl                                     0\n",
              "mort_acc                                           0\n",
              "total_il_high_credit_limit                         0\n",
              "total_bc_limit                                     0\n",
              "total_bal_ex_mort                                  0\n",
              "tot_hi_cred_lim                                    0\n",
              "tax_liens                                          0\n",
              "pub_rec_bankruptcies                               0\n",
              "pct_tl_nvr_dlq                                     0\n",
              "num_tl_op_past_12m                                 0\n",
              "num_tl_90g_dpd_24m                                 0\n",
              "collections_12_mths_ex_med                         0\n",
              "num_tl_30dpd                                       0\n",
              "num_rev_tl_bal_gt_0                                0\n",
              "num_rev_accts                                      0\n",
              "num_op_rev_tl                                      0\n",
              "num_il_tl                                          0\n",
              "num_bc_tl                                          0\n",
              "num_bc_sats                                        0\n",
              "num_actv_rev_tl                                    0\n",
              "num_actv_bc_tl                                     0\n",
              "num_accts_ever_120_pd                              0\n",
              "num_sats                                           0\n",
              "last_pymnt_amnt                                    0\n",
              "open_il_12m                                        0\n",
              "debt_settlement_flag                               0\n",
              "pub_rec                                            0\n",
              "open_acc                                           0\n",
              "grade                                              0\n",
              "sub_grade                                          0\n",
              "home_ownership                                     0\n",
              "inq_last_6mths                                     0\n",
              "annual_inc                                         0\n",
              "verification_status                                0\n",
              "earliest_cr_line                                   0\n",
              "delinq_2yrs                                        0\n",
              "issue_d                                            0\n",
              "addr_state                                         0\n",
              "zip_code                                           0\n",
              "title                                              0\n",
              "loan_status                                        0\n",
              "pymnt_plan                                         0\n",
              "installment                                        0\n",
              "revol_bal                                          0\n",
              "term                                               0\n",
              "collection_recovery_fee                            0\n",
              "loan_amnt                                          0\n",
              "recoveries                                         0\n",
              "total_rec_late_fee                                 0\n",
              "funded_amnt                                        0\n",
              "funded_amnt_inv                                    0\n",
              "total_acc                                          0\n",
              "total_rec_int                                      0\n",
              "purpose                                            0\n",
              "total_rec_prncp                                    0\n",
              "total_pymnt_inv                                    0\n",
              "total_pymnt                                        0\n",
              "out_prncp_inv                                      0\n",
              "out_prncp                                          0\n",
              "initial_list_status                                0\n",
              "int_rate                                           0\n",
              "last_credit_pull_d                                 1\n",
              "avg_cur_bal                                       13\n",
              "all_util                                          37\n",
              "revol_util                                       156\n",
              "last_pymnt_d                                     159\n",
              "dti                                              237\n",
              "mths_since_recent_bc                            1591\n",
              "bc_open_to_buy                                  1691\n",
              "percent_bc_gt_75                                1692\n",
              "bc_util                                         1754\n",
              "num_tl_120dpd_2m                                2859\n",
              "mths_since_rcnt_il                              4478\n",
              "mo_sin_old_il_acct                              4478\n",
              "emp_length                                     11701\n",
              "mths_since_recent_inq                          16047\n",
              "il_util                                        20274\n",
              "emp_title                                      20942\n",
              "next_pymnt_d                                   26736\n",
              "mths_since_last_delinq                         72190\n",
              "mths_since_recent_revol_delinq                 91620\n",
              "mths_since_last_major_derog                    99223\n",
              "mths_since_recent_bc_dlq                      103232\n",
              "sec_app_open_acc                              111619\n",
              "sec_app_mort_acc                              111619\n",
              "sec_app_inq_last_6mths                        111619\n",
              "sec_app_earliest_cr_line                      111619\n",
              "revol_bal_joint                               111619\n",
              "sec_app_open_act_il                           111619\n",
              "annual_inc_joint                              111619\n",
              "dti_joint                                     111619\n",
              "sec_app_collections_12_mths_ex_med            111619\n",
              "sec_app_chargeoff_within_12_mths              111619\n",
              "sec_app_num_rev_accts                         111619\n",
              "sec_app_revol_util                            111877\n",
              "mths_since_last_record                        112950\n",
              "verification_status_joint                     113553\n",
              "sec_app_mths_since_last_major_derog           123245\n",
              "debt_settlement_flag_date                     127946\n",
              "settlement_date                               127946\n",
              "settlement_amount                             127946\n",
              "settlement_status                             127946\n",
              "settlement_term                               127946\n",
              "settlement_percentage                         127946\n",
              "hardship_status                               128164\n",
              "deferral_term                                 128164\n",
              "hardship_amount                               128164\n",
              "hardship_start_date                           128164\n",
              "hardship_end_date                             128164\n",
              "payment_plan_start_date                       128164\n",
              "hardship_length                               128164\n",
              "hardship_dpd                                  128164\n",
              "hardship_loan_status                          128164\n",
              "hardship_reason                               128164\n",
              "hardship_payoff_balance_amount                128164\n",
              "hardship_last_payment_amount                  128164\n",
              "hardship_type                                 128164\n",
              "orig_projected_additional_accrued_interest    128191\n",
              "url                                           128397\n",
              "member_id                                     128397\n",
              "desc                                          128397\n",
              "id                                            128397\n",
              "dtype: int64"
            ]
          },
          "metadata": {
            "tags": []
          },
          "execution_count": 5
        }
      ]
    },
    {
      "cell_type": "code",
      "metadata": {
        "id": "93um2BKc04Qf",
        "colab_type": "code",
        "colab": {}
      },
      "source": [
        "df = df.drop (['url', 'member_id','desc', 'id'], axis=1)\n"
      ],
      "execution_count": 0,
      "outputs": []
    },
    {
      "cell_type": "code",
      "metadata": {
        "id": "0_FKZ73P5bTT",
        "colab_type": "code",
        "colab": {
          "base_uri": "https://localhost:8080/",
          "height": 204
        },
        "outputId": "74bc13ac-975a-4f5c-c222-6265895c0773"
      },
      "source": [
        "df['term'].head(10)\n",
        "\n",
        "#inititally I had renamed the column thinking I could convert all of the cells within the same column (rather than making a list)\n",
        "#now that I've tried to go back and reset the name of the column (to do it exactly as day 4) it wont let me."
      ],
      "execution_count": 7,
      "outputs": [
        {
          "output_type": "execute_result",
          "data": {
            "text/plain": [
              "0     36 months\n",
              "1     36 months\n",
              "2     36 months\n",
              "3     36 months\n",
              "4     60 months\n",
              "5     36 months\n",
              "6     60 months\n",
              "7     36 months\n",
              "8     36 months\n",
              "9     60 months\n",
              "Name: term, dtype: object"
            ]
          },
          "metadata": {
            "tags": []
          },
          "execution_count": 7
        }
      ]
    },
    {
      "cell_type": "code",
      "metadata": {
        "id": "nk_Bn1SC2xlo",
        "colab_type": "code",
        "colab": {}
      },
      "source": [
        "def func1(cell_contents):\n",
        "  return float(cell_contents.strip().strip(' months'))"
      ],
      "execution_count": 0,
      "outputs": []
    },
    {
      "cell_type": "code",
      "metadata": {
        "id": "RQ8eRwRO3Eqw",
        "colab_type": "code",
        "colab": {}
      },
      "source": [
        "new_list = []\n",
        "for cell in df['term']:\n",
        "  new_list.append(func1(cell))"
      ],
      "execution_count": 0,
      "outputs": []
    },
    {
      "cell_type": "code",
      "metadata": {
        "id": "0MVRR_Ih3xnr",
        "colab_type": "code",
        "colab": {
          "base_uri": "https://localhost:8080/",
          "height": 34
        },
        "outputId": "ba6e0c4b-d19d-4032-bd3a-b828a04f0ba2"
      },
      "source": [
        " new_list[:10]"
      ],
      "execution_count": 12,
      "outputs": [
        {
          "output_type": "execute_result",
          "data": {
            "text/plain": [
              "[36.0, 36.0, 36.0, 36.0, 60.0, 36.0, 60.0, 36.0, 36.0, 60.0]"
            ]
          },
          "metadata": {
            "tags": []
          },
          "execution_count": 12
        }
      ]
    },
    {
      "cell_type": "code",
      "metadata": {
        "id": "Jn4-ZOEY5vnd",
        "colab_type": "code",
        "colab": {
          "base_uri": "https://localhost:8080/",
          "height": 338
        },
        "outputId": "4f89f510-19ac-473f-8255-230e06d9e3fd"
      },
      "source": [
        "df['term_cleaned'] = pd.Series(new_list)\n",
        "df.head()"
      ],
      "execution_count": 14,
      "outputs": [
        {
          "output_type": "execute_result",
          "data": {
            "text/html": [
              "<div>\n",
              "<style scoped>\n",
              "    .dataframe tbody tr th:only-of-type {\n",
              "        vertical-align: middle;\n",
              "    }\n",
              "\n",
              "    .dataframe tbody tr th {\n",
              "        vertical-align: top;\n",
              "    }\n",
              "\n",
              "    .dataframe thead th {\n",
              "        text-align: right;\n",
              "    }\n",
              "</style>\n",
              "<table border=\"1\" class=\"dataframe\">\n",
              "  <thead>\n",
              "    <tr style=\"text-align: right;\">\n",
              "      <th></th>\n",
              "      <th>loan_amnt</th>\n",
              "      <th>funded_amnt</th>\n",
              "      <th>funded_amnt_inv</th>\n",
              "      <th>term</th>\n",
              "      <th>int_rate</th>\n",
              "      <th>installment</th>\n",
              "      <th>grade</th>\n",
              "      <th>sub_grade</th>\n",
              "      <th>emp_title</th>\n",
              "      <th>emp_length</th>\n",
              "      <th>home_ownership</th>\n",
              "      <th>annual_inc</th>\n",
              "      <th>verification_status</th>\n",
              "      <th>issue_d</th>\n",
              "      <th>loan_status</th>\n",
              "      <th>pymnt_plan</th>\n",
              "      <th>purpose</th>\n",
              "      <th>title</th>\n",
              "      <th>zip_code</th>\n",
              "      <th>addr_state</th>\n",
              "      <th>dti</th>\n",
              "      <th>delinq_2yrs</th>\n",
              "      <th>earliest_cr_line</th>\n",
              "      <th>inq_last_6mths</th>\n",
              "      <th>mths_since_last_delinq</th>\n",
              "      <th>mths_since_last_record</th>\n",
              "      <th>open_acc</th>\n",
              "      <th>pub_rec</th>\n",
              "      <th>revol_bal</th>\n",
              "      <th>revol_util</th>\n",
              "      <th>total_acc</th>\n",
              "      <th>initial_list_status</th>\n",
              "      <th>out_prncp</th>\n",
              "      <th>out_prncp_inv</th>\n",
              "      <th>total_pymnt</th>\n",
              "      <th>total_pymnt_inv</th>\n",
              "      <th>total_rec_prncp</th>\n",
              "      <th>total_rec_int</th>\n",
              "      <th>total_rec_late_fee</th>\n",
              "      <th>recoveries</th>\n",
              "      <th>...</th>\n",
              "      <th>pub_rec_bankruptcies</th>\n",
              "      <th>tax_liens</th>\n",
              "      <th>tot_hi_cred_lim</th>\n",
              "      <th>total_bal_ex_mort</th>\n",
              "      <th>total_bc_limit</th>\n",
              "      <th>total_il_high_credit_limit</th>\n",
              "      <th>revol_bal_joint</th>\n",
              "      <th>sec_app_earliest_cr_line</th>\n",
              "      <th>sec_app_inq_last_6mths</th>\n",
              "      <th>sec_app_mort_acc</th>\n",
              "      <th>sec_app_open_acc</th>\n",
              "      <th>sec_app_revol_util</th>\n",
              "      <th>sec_app_open_act_il</th>\n",
              "      <th>sec_app_num_rev_accts</th>\n",
              "      <th>sec_app_chargeoff_within_12_mths</th>\n",
              "      <th>sec_app_collections_12_mths_ex_med</th>\n",
              "      <th>sec_app_mths_since_last_major_derog</th>\n",
              "      <th>hardship_flag</th>\n",
              "      <th>hardship_type</th>\n",
              "      <th>hardship_reason</th>\n",
              "      <th>hardship_status</th>\n",
              "      <th>deferral_term</th>\n",
              "      <th>hardship_amount</th>\n",
              "      <th>hardship_start_date</th>\n",
              "      <th>hardship_end_date</th>\n",
              "      <th>payment_plan_start_date</th>\n",
              "      <th>hardship_length</th>\n",
              "      <th>hardship_dpd</th>\n",
              "      <th>hardship_loan_status</th>\n",
              "      <th>orig_projected_additional_accrued_interest</th>\n",
              "      <th>hardship_payoff_balance_amount</th>\n",
              "      <th>hardship_last_payment_amount</th>\n",
              "      <th>debt_settlement_flag</th>\n",
              "      <th>debt_settlement_flag_date</th>\n",
              "      <th>settlement_status</th>\n",
              "      <th>settlement_date</th>\n",
              "      <th>settlement_amount</th>\n",
              "      <th>settlement_percentage</th>\n",
              "      <th>settlement_term</th>\n",
              "      <th>term_cleaned</th>\n",
              "    </tr>\n",
              "  </thead>\n",
              "  <tbody>\n",
              "    <tr>\n",
              "      <th>0</th>\n",
              "      <td>6000</td>\n",
              "      <td>6000</td>\n",
              "      <td>6000.0</td>\n",
              "      <td>36 months</td>\n",
              "      <td>14.47%</td>\n",
              "      <td>206.44</td>\n",
              "      <td>C</td>\n",
              "      <td>C2</td>\n",
              "      <td>Manager</td>\n",
              "      <td>10+ years</td>\n",
              "      <td>RENT</td>\n",
              "      <td>55000.0</td>\n",
              "      <td>Verified</td>\n",
              "      <td>Dec-2018</td>\n",
              "      <td>Charged Off</td>\n",
              "      <td>n</td>\n",
              "      <td>credit_card</td>\n",
              "      <td>Credit card refinancing</td>\n",
              "      <td>104xx</td>\n",
              "      <td>NY</td>\n",
              "      <td>10.65</td>\n",
              "      <td>0</td>\n",
              "      <td>Jun-2006</td>\n",
              "      <td>0</td>\n",
              "      <td>NaN</td>\n",
              "      <td>NaN</td>\n",
              "      <td>6</td>\n",
              "      <td>0</td>\n",
              "      <td>4196</td>\n",
              "      <td>91.2%</td>\n",
              "      <td>8</td>\n",
              "      <td>w</td>\n",
              "      <td>0.00</td>\n",
              "      <td>0.00</td>\n",
              "      <td>1106.520000</td>\n",
              "      <td>1106.52</td>\n",
              "      <td>546.14</td>\n",
              "      <td>272.38</td>\n",
              "      <td>0.0</td>\n",
              "      <td>288.0</td>\n",
              "      <td>...</td>\n",
              "      <td>0</td>\n",
              "      <td>0</td>\n",
              "      <td>15800</td>\n",
              "      <td>12514</td>\n",
              "      <td>4300</td>\n",
              "      <td>11200</td>\n",
              "      <td>NaN</td>\n",
              "      <td>NaN</td>\n",
              "      <td>NaN</td>\n",
              "      <td>NaN</td>\n",
              "      <td>NaN</td>\n",
              "      <td>NaN</td>\n",
              "      <td>NaN</td>\n",
              "      <td>NaN</td>\n",
              "      <td>NaN</td>\n",
              "      <td>NaN</td>\n",
              "      <td>NaN</td>\n",
              "      <td>N</td>\n",
              "      <td>NaN</td>\n",
              "      <td>NaN</td>\n",
              "      <td>NaN</td>\n",
              "      <td>NaN</td>\n",
              "      <td>NaN</td>\n",
              "      <td>NaN</td>\n",
              "      <td>NaN</td>\n",
              "      <td>NaN</td>\n",
              "      <td>NaN</td>\n",
              "      <td>NaN</td>\n",
              "      <td>NaN</td>\n",
              "      <td>NaN</td>\n",
              "      <td>NaN</td>\n",
              "      <td>NaN</td>\n",
              "      <td>Y</td>\n",
              "      <td>Oct-2019</td>\n",
              "      <td>ACTIVE</td>\n",
              "      <td>Oct-2019</td>\n",
              "      <td>3479.0</td>\n",
              "      <td>60.01</td>\n",
              "      <td>24.0</td>\n",
              "      <td>36.0</td>\n",
              "    </tr>\n",
              "    <tr>\n",
              "      <th>1</th>\n",
              "      <td>24000</td>\n",
              "      <td>24000</td>\n",
              "      <td>24000.0</td>\n",
              "      <td>36 months</td>\n",
              "      <td>10.33%</td>\n",
              "      <td>778.14</td>\n",
              "      <td>B</td>\n",
              "      <td>B1</td>\n",
              "      <td>Maintenance Manager</td>\n",
              "      <td>10+ years</td>\n",
              "      <td>MORTGAGE</td>\n",
              "      <td>100000.0</td>\n",
              "      <td>Not Verified</td>\n",
              "      <td>Dec-2018</td>\n",
              "      <td>Current</td>\n",
              "      <td>n</td>\n",
              "      <td>debt_consolidation</td>\n",
              "      <td>Debt consolidation</td>\n",
              "      <td>606xx</td>\n",
              "      <td>IL</td>\n",
              "      <td>19.14</td>\n",
              "      <td>0</td>\n",
              "      <td>Oct-1996</td>\n",
              "      <td>3</td>\n",
              "      <td>39.0</td>\n",
              "      <td>NaN</td>\n",
              "      <td>14</td>\n",
              "      <td>0</td>\n",
              "      <td>8547</td>\n",
              "      <td>27.7%</td>\n",
              "      <td>28</td>\n",
              "      <td>w</td>\n",
              "      <td>16807.30</td>\n",
              "      <td>16807.30</td>\n",
              "      <td>9317.020000</td>\n",
              "      <td>9317.02</td>\n",
              "      <td>7192.70</td>\n",
              "      <td>2124.32</td>\n",
              "      <td>0.0</td>\n",
              "      <td>0.0</td>\n",
              "      <td>...</td>\n",
              "      <td>0</td>\n",
              "      <td>0</td>\n",
              "      <td>335121</td>\n",
              "      <td>50686</td>\n",
              "      <td>25900</td>\n",
              "      <td>61514</td>\n",
              "      <td>NaN</td>\n",
              "      <td>NaN</td>\n",
              "      <td>NaN</td>\n",
              "      <td>NaN</td>\n",
              "      <td>NaN</td>\n",
              "      <td>NaN</td>\n",
              "      <td>NaN</td>\n",
              "      <td>NaN</td>\n",
              "      <td>NaN</td>\n",
              "      <td>NaN</td>\n",
              "      <td>NaN</td>\n",
              "      <td>N</td>\n",
              "      <td>NaN</td>\n",
              "      <td>NaN</td>\n",
              "      <td>NaN</td>\n",
              "      <td>NaN</td>\n",
              "      <td>NaN</td>\n",
              "      <td>NaN</td>\n",
              "      <td>NaN</td>\n",
              "      <td>NaN</td>\n",
              "      <td>NaN</td>\n",
              "      <td>NaN</td>\n",
              "      <td>NaN</td>\n",
              "      <td>NaN</td>\n",
              "      <td>NaN</td>\n",
              "      <td>NaN</td>\n",
              "      <td>N</td>\n",
              "      <td>NaN</td>\n",
              "      <td>NaN</td>\n",
              "      <td>NaN</td>\n",
              "      <td>NaN</td>\n",
              "      <td>NaN</td>\n",
              "      <td>NaN</td>\n",
              "      <td>36.0</td>\n",
              "    </tr>\n",
              "    <tr>\n",
              "      <th>2</th>\n",
              "      <td>30000</td>\n",
              "      <td>30000</td>\n",
              "      <td>30000.0</td>\n",
              "      <td>36 months</td>\n",
              "      <td>15.02%</td>\n",
              "      <td>1040.26</td>\n",
              "      <td>C</td>\n",
              "      <td>C3</td>\n",
              "      <td>Firefighter</td>\n",
              "      <td>10+ years</td>\n",
              "      <td>RENT</td>\n",
              "      <td>90000.0</td>\n",
              "      <td>Verified</td>\n",
              "      <td>Dec-2018</td>\n",
              "      <td>Fully Paid</td>\n",
              "      <td>n</td>\n",
              "      <td>debt_consolidation</td>\n",
              "      <td>Debt consolidation</td>\n",
              "      <td>681xx</td>\n",
              "      <td>NE</td>\n",
              "      <td>22.23</td>\n",
              "      <td>0</td>\n",
              "      <td>May-2007</td>\n",
              "      <td>1</td>\n",
              "      <td>NaN</td>\n",
              "      <td>NaN</td>\n",
              "      <td>8</td>\n",
              "      <td>0</td>\n",
              "      <td>25754</td>\n",
              "      <td>48%</td>\n",
              "      <td>23</td>\n",
              "      <td>w</td>\n",
              "      <td>0.00</td>\n",
              "      <td>0.00</td>\n",
              "      <td>30883.673712</td>\n",
              "      <td>30883.67</td>\n",
              "      <td>30000.00</td>\n",
              "      <td>883.67</td>\n",
              "      <td>0.0</td>\n",
              "      <td>0.0</td>\n",
              "      <td>...</td>\n",
              "      <td>0</td>\n",
              "      <td>0</td>\n",
              "      <td>89849</td>\n",
              "      <td>51370</td>\n",
              "      <td>41600</td>\n",
              "      <td>36249</td>\n",
              "      <td>NaN</td>\n",
              "      <td>NaN</td>\n",
              "      <td>NaN</td>\n",
              "      <td>NaN</td>\n",
              "      <td>NaN</td>\n",
              "      <td>NaN</td>\n",
              "      <td>NaN</td>\n",
              "      <td>NaN</td>\n",
              "      <td>NaN</td>\n",
              "      <td>NaN</td>\n",
              "      <td>NaN</td>\n",
              "      <td>N</td>\n",
              "      <td>NaN</td>\n",
              "      <td>NaN</td>\n",
              "      <td>NaN</td>\n",
              "      <td>NaN</td>\n",
              "      <td>NaN</td>\n",
              "      <td>NaN</td>\n",
              "      <td>NaN</td>\n",
              "      <td>NaN</td>\n",
              "      <td>NaN</td>\n",
              "      <td>NaN</td>\n",
              "      <td>NaN</td>\n",
              "      <td>NaN</td>\n",
              "      <td>NaN</td>\n",
              "      <td>NaN</td>\n",
              "      <td>N</td>\n",
              "      <td>NaN</td>\n",
              "      <td>NaN</td>\n",
              "      <td>NaN</td>\n",
              "      <td>NaN</td>\n",
              "      <td>NaN</td>\n",
              "      <td>NaN</td>\n",
              "      <td>36.0</td>\n",
              "    </tr>\n",
              "    <tr>\n",
              "      <th>3</th>\n",
              "      <td>8000</td>\n",
              "      <td>8000</td>\n",
              "      <td>8000.0</td>\n",
              "      <td>36 months</td>\n",
              "      <td>12.98%</td>\n",
              "      <td>269.48</td>\n",
              "      <td>B</td>\n",
              "      <td>B5</td>\n",
              "      <td>Controller</td>\n",
              "      <td>4 years</td>\n",
              "      <td>MORTGAGE</td>\n",
              "      <td>95000.0</td>\n",
              "      <td>Source Verified</td>\n",
              "      <td>Dec-2018</td>\n",
              "      <td>Current</td>\n",
              "      <td>n</td>\n",
              "      <td>credit_card</td>\n",
              "      <td>Credit card refinancing</td>\n",
              "      <td>480xx</td>\n",
              "      <td>MI</td>\n",
              "      <td>9.44</td>\n",
              "      <td>0</td>\n",
              "      <td>Mar-2009</td>\n",
              "      <td>2</td>\n",
              "      <td>73.0</td>\n",
              "      <td>NaN</td>\n",
              "      <td>7</td>\n",
              "      <td>0</td>\n",
              "      <td>11434</td>\n",
              "      <td>33.3%</td>\n",
              "      <td>20</td>\n",
              "      <td>w</td>\n",
              "      <td>1707.34</td>\n",
              "      <td>1707.34</td>\n",
              "      <td>6855.630000</td>\n",
              "      <td>6855.63</td>\n",
              "      <td>6292.66</td>\n",
              "      <td>562.97</td>\n",
              "      <td>0.0</td>\n",
              "      <td>0.0</td>\n",
              "      <td>...</td>\n",
              "      <td>0</td>\n",
              "      <td>0</td>\n",
              "      <td>271550</td>\n",
              "      <td>25150</td>\n",
              "      <td>34300</td>\n",
              "      <td>14000</td>\n",
              "      <td>NaN</td>\n",
              "      <td>NaN</td>\n",
              "      <td>NaN</td>\n",
              "      <td>NaN</td>\n",
              "      <td>NaN</td>\n",
              "      <td>NaN</td>\n",
              "      <td>NaN</td>\n",
              "      <td>NaN</td>\n",
              "      <td>NaN</td>\n",
              "      <td>NaN</td>\n",
              "      <td>NaN</td>\n",
              "      <td>N</td>\n",
              "      <td>NaN</td>\n",
              "      <td>NaN</td>\n",
              "      <td>NaN</td>\n",
              "      <td>NaN</td>\n",
              "      <td>NaN</td>\n",
              "      <td>NaN</td>\n",
              "      <td>NaN</td>\n",
              "      <td>NaN</td>\n",
              "      <td>NaN</td>\n",
              "      <td>NaN</td>\n",
              "      <td>NaN</td>\n",
              "      <td>NaN</td>\n",
              "      <td>NaN</td>\n",
              "      <td>NaN</td>\n",
              "      <td>N</td>\n",
              "      <td>NaN</td>\n",
              "      <td>NaN</td>\n",
              "      <td>NaN</td>\n",
              "      <td>NaN</td>\n",
              "      <td>NaN</td>\n",
              "      <td>NaN</td>\n",
              "      <td>36.0</td>\n",
              "    </tr>\n",
              "    <tr>\n",
              "      <th>4</th>\n",
              "      <td>22400</td>\n",
              "      <td>22400</td>\n",
              "      <td>22400.0</td>\n",
              "      <td>60 months</td>\n",
              "      <td>16.14%</td>\n",
              "      <td>546.40</td>\n",
              "      <td>C</td>\n",
              "      <td>C4</td>\n",
              "      <td>Paramedic/ Fire Fighter</td>\n",
              "      <td>10+ years</td>\n",
              "      <td>OWN</td>\n",
              "      <td>56000.0</td>\n",
              "      <td>Source Verified</td>\n",
              "      <td>Dec-2018</td>\n",
              "      <td>Current</td>\n",
              "      <td>n</td>\n",
              "      <td>credit_card</td>\n",
              "      <td>Credit card refinancing</td>\n",
              "      <td>234xx</td>\n",
              "      <td>VA</td>\n",
              "      <td>18.47</td>\n",
              "      <td>0</td>\n",
              "      <td>Dec-2004</td>\n",
              "      <td>0</td>\n",
              "      <td>75.0</td>\n",
              "      <td>NaN</td>\n",
              "      <td>15</td>\n",
              "      <td>0</td>\n",
              "      <td>13555</td>\n",
              "      <td>38.2%</td>\n",
              "      <td>22</td>\n",
              "      <td>w</td>\n",
              "      <td>19230.91</td>\n",
              "      <td>19230.91</td>\n",
              "      <td>6526.670000</td>\n",
              "      <td>6526.67</td>\n",
              "      <td>3169.09</td>\n",
              "      <td>3357.58</td>\n",
              "      <td>0.0</td>\n",
              "      <td>0.0</td>\n",
              "      <td>...</td>\n",
              "      <td>0</td>\n",
              "      <td>0</td>\n",
              "      <td>253539</td>\n",
              "      <td>32070</td>\n",
              "      <td>28200</td>\n",
              "      <td>23364</td>\n",
              "      <td>NaN</td>\n",
              "      <td>NaN</td>\n",
              "      <td>NaN</td>\n",
              "      <td>NaN</td>\n",
              "      <td>NaN</td>\n",
              "      <td>NaN</td>\n",
              "      <td>NaN</td>\n",
              "      <td>NaN</td>\n",
              "      <td>NaN</td>\n",
              "      <td>NaN</td>\n",
              "      <td>NaN</td>\n",
              "      <td>N</td>\n",
              "      <td>NaN</td>\n",
              "      <td>NaN</td>\n",
              "      <td>NaN</td>\n",
              "      <td>NaN</td>\n",
              "      <td>NaN</td>\n",
              "      <td>NaN</td>\n",
              "      <td>NaN</td>\n",
              "      <td>NaN</td>\n",
              "      <td>NaN</td>\n",
              "      <td>NaN</td>\n",
              "      <td>NaN</td>\n",
              "      <td>NaN</td>\n",
              "      <td>NaN</td>\n",
              "      <td>NaN</td>\n",
              "      <td>N</td>\n",
              "      <td>NaN</td>\n",
              "      <td>NaN</td>\n",
              "      <td>NaN</td>\n",
              "      <td>NaN</td>\n",
              "      <td>NaN</td>\n",
              "      <td>NaN</td>\n",
              "      <td>60.0</td>\n",
              "    </tr>\n",
              "  </tbody>\n",
              "</table>\n",
              "<p>5 rows × 141 columns</p>\n",
              "</div>"
            ],
            "text/plain": [
              "   loan_amnt  funded_amnt  ...  settlement_term term_cleaned\n",
              "0       6000         6000  ...             24.0         36.0\n",
              "1      24000        24000  ...              NaN         36.0\n",
              "2      30000        30000  ...              NaN         36.0\n",
              "3       8000         8000  ...              NaN         36.0\n",
              "4      22400        22400  ...              NaN         60.0\n",
              "\n",
              "[5 rows x 141 columns]"
            ]
          },
          "metadata": {
            "tags": []
          },
          "execution_count": 14
        }
      ]
    },
    {
      "cell_type": "code",
      "metadata": {
        "id": "PTeec09f_OoI",
        "colab_type": "code",
        "colab": {
          "base_uri": "https://localhost:8080/",
          "height": 1000
        },
        "outputId": "b8a1aef0-d845-4c1c-94c7-7c12f0d11186"
      },
      "source": [
        "df.dtypes"
      ],
      "execution_count": 15,
      "outputs": [
        {
          "output_type": "execute_result",
          "data": {
            "text/plain": [
              "loan_amnt                                       int64\n",
              "funded_amnt                                     int64\n",
              "funded_amnt_inv                               float64\n",
              "term                                           object\n",
              "int_rate                                       object\n",
              "installment                                   float64\n",
              "grade                                          object\n",
              "sub_grade                                      object\n",
              "emp_title                                      object\n",
              "emp_length                                     object\n",
              "home_ownership                                 object\n",
              "annual_inc                                    float64\n",
              "verification_status                            object\n",
              "issue_d                                        object\n",
              "loan_status                                    object\n",
              "pymnt_plan                                     object\n",
              "purpose                                        object\n",
              "title                                          object\n",
              "zip_code                                       object\n",
              "addr_state                                     object\n",
              "dti                                           float64\n",
              "delinq_2yrs                                     int64\n",
              "earliest_cr_line                               object\n",
              "inq_last_6mths                                  int64\n",
              "mths_since_last_delinq                        float64\n",
              "mths_since_last_record                        float64\n",
              "open_acc                                        int64\n",
              "pub_rec                                         int64\n",
              "revol_bal                                       int64\n",
              "revol_util                                     object\n",
              "total_acc                                       int64\n",
              "initial_list_status                            object\n",
              "out_prncp                                     float64\n",
              "out_prncp_inv                                 float64\n",
              "total_pymnt                                   float64\n",
              "total_pymnt_inv                               float64\n",
              "total_rec_prncp                               float64\n",
              "total_rec_int                                 float64\n",
              "total_rec_late_fee                            float64\n",
              "recoveries                                    float64\n",
              "collection_recovery_fee                       float64\n",
              "last_pymnt_d                                   object\n",
              "last_pymnt_amnt                               float64\n",
              "next_pymnt_d                                   object\n",
              "last_credit_pull_d                             object\n",
              "collections_12_mths_ex_med                      int64\n",
              "mths_since_last_major_derog                   float64\n",
              "policy_code                                     int64\n",
              "application_type                               object\n",
              "annual_inc_joint                              float64\n",
              "dti_joint                                     float64\n",
              "verification_status_joint                      object\n",
              "acc_now_delinq                                  int64\n",
              "tot_coll_amt                                    int64\n",
              "tot_cur_bal                                     int64\n",
              "open_acc_6m                                     int64\n",
              "open_act_il                                     int64\n",
              "open_il_12m                                     int64\n",
              "open_il_24m                                     int64\n",
              "mths_since_rcnt_il                            float64\n",
              "total_bal_il                                    int64\n",
              "il_util                                       float64\n",
              "open_rv_12m                                     int64\n",
              "open_rv_24m                                     int64\n",
              "max_bal_bc                                      int64\n",
              "all_util                                      float64\n",
              "total_rev_hi_lim                                int64\n",
              "inq_fi                                          int64\n",
              "total_cu_tl                                     int64\n",
              "inq_last_12m                                    int64\n",
              "acc_open_past_24mths                            int64\n",
              "avg_cur_bal                                   float64\n",
              "bc_open_to_buy                                float64\n",
              "bc_util                                       float64\n",
              "chargeoff_within_12_mths                        int64\n",
              "delinq_amnt                                     int64\n",
              "mo_sin_old_il_acct                            float64\n",
              "mo_sin_old_rev_tl_op                            int64\n",
              "mo_sin_rcnt_rev_tl_op                           int64\n",
              "mo_sin_rcnt_tl                                  int64\n",
              "mort_acc                                        int64\n",
              "mths_since_recent_bc                          float64\n",
              "mths_since_recent_bc_dlq                      float64\n",
              "mths_since_recent_inq                         float64\n",
              "mths_since_recent_revol_delinq                float64\n",
              "num_accts_ever_120_pd                           int64\n",
              "num_actv_bc_tl                                  int64\n",
              "num_actv_rev_tl                                 int64\n",
              "num_bc_sats                                     int64\n",
              "num_bc_tl                                       int64\n",
              "num_il_tl                                       int64\n",
              "num_op_rev_tl                                   int64\n",
              "num_rev_accts                                   int64\n",
              "num_rev_tl_bal_gt_0                             int64\n",
              "num_sats                                        int64\n",
              "num_tl_120dpd_2m                              float64\n",
              "num_tl_30dpd                                    int64\n",
              "num_tl_90g_dpd_24m                              int64\n",
              "num_tl_op_past_12m                              int64\n",
              "pct_tl_nvr_dlq                                float64\n",
              "percent_bc_gt_75                              float64\n",
              "pub_rec_bankruptcies                            int64\n",
              "tax_liens                                       int64\n",
              "tot_hi_cred_lim                                 int64\n",
              "total_bal_ex_mort                               int64\n",
              "total_bc_limit                                  int64\n",
              "total_il_high_credit_limit                      int64\n",
              "revol_bal_joint                               float64\n",
              "sec_app_earliest_cr_line                       object\n",
              "sec_app_inq_last_6mths                        float64\n",
              "sec_app_mort_acc                              float64\n",
              "sec_app_open_acc                              float64\n",
              "sec_app_revol_util                            float64\n",
              "sec_app_open_act_il                           float64\n",
              "sec_app_num_rev_accts                         float64\n",
              "sec_app_chargeoff_within_12_mths              float64\n",
              "sec_app_collections_12_mths_ex_med            float64\n",
              "sec_app_mths_since_last_major_derog           float64\n",
              "hardship_flag                                  object\n",
              "hardship_type                                  object\n",
              "hardship_reason                                object\n",
              "hardship_status                                object\n",
              "deferral_term                                 float64\n",
              "hardship_amount                               float64\n",
              "hardship_start_date                            object\n",
              "hardship_end_date                              object\n",
              "payment_plan_start_date                        object\n",
              "hardship_length                               float64\n",
              "hardship_dpd                                  float64\n",
              "hardship_loan_status                           object\n",
              "orig_projected_additional_accrued_interest    float64\n",
              "hardship_payoff_balance_amount                float64\n",
              "hardship_last_payment_amount                  float64\n",
              "debt_settlement_flag                           object\n",
              "debt_settlement_flag_date                      object\n",
              "settlement_status                              object\n",
              "settlement_date                                object\n",
              "settlement_amount                             float64\n",
              "settlement_percentage                         float64\n",
              "settlement_term                               float64\n",
              "term_cleaned                                  float64\n",
              "dtype: object"
            ]
          },
          "metadata": {
            "tags": []
          },
          "execution_count": 15
        }
      ]
    },
    {
      "cell_type": "code",
      "metadata": {
        "id": "3rRSiTwhB_Tm",
        "colab_type": "code",
        "colab": {}
      },
      "source": [
        "##Make a column named loan_status_is_great. \n",
        "##It should contain the integer 1 if loan_status is \"Current\" or \"Fully Paid.\" \n",
        "##Else it should contain the integer 0.\n",
        "def get_loan_status(status):\n",
        "    if status == \"Current\" or status == \"Fully Paid\":\n",
        "        return 1\n",
        "    else:\n",
        "        return 0\n",
        "\n",
        "df['loan_status_great'] = df['loan_status'].apply(get_loan_status)"
      ],
      "execution_count": 0,
      "outputs": []
    },
    {
      "cell_type": "code",
      "metadata": {
        "id": "QY-CSlAX_kwz",
        "colab_type": "code",
        "colab": {
          "base_uri": "https://localhost:8080/",
          "height": 275
        },
        "outputId": "53dca2fe-2b29-42cb-9a3e-271c6d7bdde4"
      },
      "source": [
        "df.head"
      ],
      "execution_count": 27,
      "outputs": [
        {
          "output_type": "execute_result",
          "data": {
            "text/plain": [
              "<bound method NDFrame.head of         loan_amnt  funded_amnt  ...  term_cleaned loan_status_great\n",
              "0            6000         6000  ...          36.0                 0\n",
              "1           24000        24000  ...          36.0                 1\n",
              "2           30000        30000  ...          36.0                 1\n",
              "3            8000         8000  ...          36.0                 1\n",
              "4           22400        22400  ...          60.0                 1\n",
              "...           ...          ...  ...           ...               ...\n",
              "128392      23000        23000  ...          36.0                 0\n",
              "128393      10000        10000  ...          36.0                 1\n",
              "128394       5000         5000  ...          36.0                 1\n",
              "128395      10000        10000  ...          36.0                 1\n",
              "128396      10000        10000  ...          36.0                 1\n",
              "\n",
              "[128397 rows x 142 columns]>"
            ]
          },
          "metadata": {
            "tags": []
          },
          "execution_count": 27
        }
      ]
    },
    {
      "cell_type": "code",
      "metadata": {
        "id": "qi8vyfNuDqRT",
        "colab_type": "code",
        "colab": {}
      },
      "source": [
        "##Make last_pymnt_d_month and last_pymnt_d_year columns.\n",
        "# :( I am confused. \n",
        "\n",
        "datelist=[]\n",
        "for col in df.columns:\n",
        "  if col.endswith('_d'):\n",
        "    datelist.append(col)"
      ],
      "execution_count": 0,
      "outputs": []
    },
    {
      "cell_type": "code",
      "metadata": {
        "id": "8wotcWahHB8x",
        "colab_type": "code",
        "colab": {}
      },
      "source": [
        "mycols = [col for col in df.columns if col.endswith('_d')]"
      ],
      "execution_count": 0,
      "outputs": []
    },
    {
      "cell_type": "code",
      "metadata": {
        "id": "r2pTEBvTHFAa",
        "colab_type": "code",
        "colab": {
          "base_uri": "https://localhost:8080/",
          "height": 204
        },
        "outputId": "44eba28f-7107-43d5-c4c8-8ce23b46259b"
      },
      "source": [
        "df['issue_d'][:10]"
      ],
      "execution_count": 30,
      "outputs": [
        {
          "output_type": "execute_result",
          "data": {
            "text/plain": [
              "0    Dec-2018\n",
              "1    Dec-2018\n",
              "2    Dec-2018\n",
              "3    Dec-2018\n",
              "4    Dec-2018\n",
              "5    Dec-2018\n",
              "6    Dec-2018\n",
              "7    Dec-2018\n",
              "8    Dec-2018\n",
              "9    Dec-2018\n",
              "Name: issue_d, dtype: object"
            ]
          },
          "metadata": {
            "tags": []
          },
          "execution_count": 30
        }
      ]
    },
    {
      "cell_type": "code",
      "metadata": {
        "id": "SwFotUKmHIF7",
        "colab_type": "code",
        "colab": {
          "base_uri": "https://localhost:8080/",
          "height": 204
        },
        "outputId": "ea6dff6f-4836-4e3f-b674-503ebca1c27c"
      },
      "source": [
        "df['issue_d'] = pd.to_datetime(df['issue_d'], infer_datetime_format=True)\n",
        "df[mycols].head()"
      ],
      "execution_count": 31,
      "outputs": [
        {
          "output_type": "execute_result",
          "data": {
            "text/html": [
              "<div>\n",
              "<style scoped>\n",
              "    .dataframe tbody tr th:only-of-type {\n",
              "        vertical-align: middle;\n",
              "    }\n",
              "\n",
              "    .dataframe tbody tr th {\n",
              "        vertical-align: top;\n",
              "    }\n",
              "\n",
              "    .dataframe thead th {\n",
              "        text-align: right;\n",
              "    }\n",
              "</style>\n",
              "<table border=\"1\" class=\"dataframe\">\n",
              "  <thead>\n",
              "    <tr style=\"text-align: right;\">\n",
              "      <th></th>\n",
              "      <th>issue_d</th>\n",
              "      <th>last_pymnt_d</th>\n",
              "      <th>next_pymnt_d</th>\n",
              "      <th>last_credit_pull_d</th>\n",
              "    </tr>\n",
              "  </thead>\n",
              "  <tbody>\n",
              "    <tr>\n",
              "      <th>0</th>\n",
              "      <td>2018-12-01</td>\n",
              "      <td>Apr-2019</td>\n",
              "      <td>NaN</td>\n",
              "      <td>Nov-2019</td>\n",
              "    </tr>\n",
              "    <tr>\n",
              "      <th>1</th>\n",
              "      <td>2018-12-01</td>\n",
              "      <td>Dec-2019</td>\n",
              "      <td>Jan-2020</td>\n",
              "      <td>Nov-2019</td>\n",
              "    </tr>\n",
              "    <tr>\n",
              "      <th>2</th>\n",
              "      <td>2018-12-01</td>\n",
              "      <td>Feb-2019</td>\n",
              "      <td>NaN</td>\n",
              "      <td>Nov-2019</td>\n",
              "    </tr>\n",
              "    <tr>\n",
              "      <th>3</th>\n",
              "      <td>2018-12-01</td>\n",
              "      <td>Dec-2019</td>\n",
              "      <td>Jan-2020</td>\n",
              "      <td>Dec-2019</td>\n",
              "    </tr>\n",
              "    <tr>\n",
              "      <th>4</th>\n",
              "      <td>2018-12-01</td>\n",
              "      <td>Dec-2019</td>\n",
              "      <td>Jan-2020</td>\n",
              "      <td>Nov-2019</td>\n",
              "    </tr>\n",
              "  </tbody>\n",
              "</table>\n",
              "</div>"
            ],
            "text/plain": [
              "     issue_d last_pymnt_d next_pymnt_d last_credit_pull_d\n",
              "0 2018-12-01     Apr-2019          NaN           Nov-2019\n",
              "1 2018-12-01     Dec-2019     Jan-2020           Nov-2019\n",
              "2 2018-12-01     Feb-2019          NaN           Nov-2019\n",
              "3 2018-12-01     Dec-2019     Jan-2020           Dec-2019\n",
              "4 2018-12-01     Dec-2019     Jan-2020           Nov-2019"
            ]
          },
          "metadata": {
            "tags": []
          },
          "execution_count": 31
        }
      ]
    },
    {
      "cell_type": "code",
      "metadata": {
        "id": "OfFnR98XHL_G",
        "colab_type": "code",
        "colab": {
          "base_uri": "https://localhost:8080/",
          "height": 34
        },
        "outputId": "05c8f4f3-b285-4086-a1b1-23419d8e730a"
      },
      "source": [
        "df['issue_d'].iloc[2]"
      ],
      "execution_count": 32,
      "outputs": [
        {
          "output_type": "execute_result",
          "data": {
            "text/plain": [
              "Timestamp('2018-12-01 00:00:00')"
            ]
          },
          "metadata": {
            "tags": []
          },
          "execution_count": 32
        }
      ]
    },
    {
      "cell_type": "code",
      "metadata": {
        "id": "QjPuVJSxHOr1",
        "colab_type": "code",
        "colab": {
          "base_uri": "https://localhost:8080/",
          "height": 68
        },
        "outputId": "b32d7238-8b2c-42f3-f413-dab011e8ee31"
      },
      "source": [
        "df['issue_d'].head().values"
      ],
      "execution_count": 33,
      "outputs": [
        {
          "output_type": "execute_result",
          "data": {
            "text/plain": [
              "array(['2018-12-01T00:00:00.000000000', '2018-12-01T00:00:00.000000000',\n",
              "       '2018-12-01T00:00:00.000000000', '2018-12-01T00:00:00.000000000',\n",
              "       '2018-12-01T00:00:00.000000000'], dtype='datetime64[ns]')"
            ]
          },
          "metadata": {
            "tags": []
          },
          "execution_count": 33
        }
      ]
    },
    {
      "cell_type": "code",
      "metadata": {
        "id": "I3_lkVo3HUDJ",
        "colab_type": "code",
        "colab": {
          "base_uri": "https://localhost:8080/",
          "height": 204
        },
        "outputId": "75e00a3f-7554-4477-9459-27969d2b5fd3"
      },
      "source": [
        "df=df[mycols].copy()\n",
        "df['year']=df['issue_d'].dt.year\n",
        "df.head()"
      ],
      "execution_count": 34,
      "outputs": [
        {
          "output_type": "execute_result",
          "data": {
            "text/html": [
              "<div>\n",
              "<style scoped>\n",
              "    .dataframe tbody tr th:only-of-type {\n",
              "        vertical-align: middle;\n",
              "    }\n",
              "\n",
              "    .dataframe tbody tr th {\n",
              "        vertical-align: top;\n",
              "    }\n",
              "\n",
              "    .dataframe thead th {\n",
              "        text-align: right;\n",
              "    }\n",
              "</style>\n",
              "<table border=\"1\" class=\"dataframe\">\n",
              "  <thead>\n",
              "    <tr style=\"text-align: right;\">\n",
              "      <th></th>\n",
              "      <th>issue_d</th>\n",
              "      <th>last_pymnt_d</th>\n",
              "      <th>next_pymnt_d</th>\n",
              "      <th>last_credit_pull_d</th>\n",
              "      <th>year</th>\n",
              "    </tr>\n",
              "  </thead>\n",
              "  <tbody>\n",
              "    <tr>\n",
              "      <th>0</th>\n",
              "      <td>2018-12-01</td>\n",
              "      <td>Apr-2019</td>\n",
              "      <td>NaN</td>\n",
              "      <td>Nov-2019</td>\n",
              "      <td>2018</td>\n",
              "    </tr>\n",
              "    <tr>\n",
              "      <th>1</th>\n",
              "      <td>2018-12-01</td>\n",
              "      <td>Dec-2019</td>\n",
              "      <td>Jan-2020</td>\n",
              "      <td>Nov-2019</td>\n",
              "      <td>2018</td>\n",
              "    </tr>\n",
              "    <tr>\n",
              "      <th>2</th>\n",
              "      <td>2018-12-01</td>\n",
              "      <td>Feb-2019</td>\n",
              "      <td>NaN</td>\n",
              "      <td>Nov-2019</td>\n",
              "      <td>2018</td>\n",
              "    </tr>\n",
              "    <tr>\n",
              "      <th>3</th>\n",
              "      <td>2018-12-01</td>\n",
              "      <td>Dec-2019</td>\n",
              "      <td>Jan-2020</td>\n",
              "      <td>Dec-2019</td>\n",
              "      <td>2018</td>\n",
              "    </tr>\n",
              "    <tr>\n",
              "      <th>4</th>\n",
              "      <td>2018-12-01</td>\n",
              "      <td>Dec-2019</td>\n",
              "      <td>Jan-2020</td>\n",
              "      <td>Nov-2019</td>\n",
              "      <td>2018</td>\n",
              "    </tr>\n",
              "  </tbody>\n",
              "</table>\n",
              "</div>"
            ],
            "text/plain": [
              "     issue_d last_pymnt_d next_pymnt_d last_credit_pull_d  year\n",
              "0 2018-12-01     Apr-2019          NaN           Nov-2019  2018\n",
              "1 2018-12-01     Dec-2019     Jan-2020           Nov-2019  2018\n",
              "2 2018-12-01     Feb-2019          NaN           Nov-2019  2018\n",
              "3 2018-12-01     Dec-2019     Jan-2020           Dec-2019  2018\n",
              "4 2018-12-01     Dec-2019     Jan-2020           Nov-2019  2018"
            ]
          },
          "metadata": {
            "tags": []
          },
          "execution_count": 34
        }
      ]
    },
    {
      "cell_type": "code",
      "metadata": {
        "id": "rV_cGYDKHWap",
        "colab_type": "code",
        "colab": {
          "base_uri": "https://localhost:8080/",
          "height": 204
        },
        "outputId": "7daa673c-8d9a-40d8-e766-1952e072a6ed"
      },
      "source": [
        "df['month']=df['issue_d'].dt.month\n",
        "df.head()"
      ],
      "execution_count": 35,
      "outputs": [
        {
          "output_type": "execute_result",
          "data": {
            "text/html": [
              "<div>\n",
              "<style scoped>\n",
              "    .dataframe tbody tr th:only-of-type {\n",
              "        vertical-align: middle;\n",
              "    }\n",
              "\n",
              "    .dataframe tbody tr th {\n",
              "        vertical-align: top;\n",
              "    }\n",
              "\n",
              "    .dataframe thead th {\n",
              "        text-align: right;\n",
              "    }\n",
              "</style>\n",
              "<table border=\"1\" class=\"dataframe\">\n",
              "  <thead>\n",
              "    <tr style=\"text-align: right;\">\n",
              "      <th></th>\n",
              "      <th>issue_d</th>\n",
              "      <th>last_pymnt_d</th>\n",
              "      <th>next_pymnt_d</th>\n",
              "      <th>last_credit_pull_d</th>\n",
              "      <th>year</th>\n",
              "      <th>month</th>\n",
              "    </tr>\n",
              "  </thead>\n",
              "  <tbody>\n",
              "    <tr>\n",
              "      <th>0</th>\n",
              "      <td>2018-12-01</td>\n",
              "      <td>Apr-2019</td>\n",
              "      <td>NaN</td>\n",
              "      <td>Nov-2019</td>\n",
              "      <td>2018</td>\n",
              "      <td>12</td>\n",
              "    </tr>\n",
              "    <tr>\n",
              "      <th>1</th>\n",
              "      <td>2018-12-01</td>\n",
              "      <td>Dec-2019</td>\n",
              "      <td>Jan-2020</td>\n",
              "      <td>Nov-2019</td>\n",
              "      <td>2018</td>\n",
              "      <td>12</td>\n",
              "    </tr>\n",
              "    <tr>\n",
              "      <th>2</th>\n",
              "      <td>2018-12-01</td>\n",
              "      <td>Feb-2019</td>\n",
              "      <td>NaN</td>\n",
              "      <td>Nov-2019</td>\n",
              "      <td>2018</td>\n",
              "      <td>12</td>\n",
              "    </tr>\n",
              "    <tr>\n",
              "      <th>3</th>\n",
              "      <td>2018-12-01</td>\n",
              "      <td>Dec-2019</td>\n",
              "      <td>Jan-2020</td>\n",
              "      <td>Dec-2019</td>\n",
              "      <td>2018</td>\n",
              "      <td>12</td>\n",
              "    </tr>\n",
              "    <tr>\n",
              "      <th>4</th>\n",
              "      <td>2018-12-01</td>\n",
              "      <td>Dec-2019</td>\n",
              "      <td>Jan-2020</td>\n",
              "      <td>Nov-2019</td>\n",
              "      <td>2018</td>\n",
              "      <td>12</td>\n",
              "    </tr>\n",
              "  </tbody>\n",
              "</table>\n",
              "</div>"
            ],
            "text/plain": [
              "     issue_d last_pymnt_d next_pymnt_d last_credit_pull_d  year  month\n",
              "0 2018-12-01     Apr-2019          NaN           Nov-2019  2018     12\n",
              "1 2018-12-01     Dec-2019     Jan-2020           Nov-2019  2018     12\n",
              "2 2018-12-01     Feb-2019          NaN           Nov-2019  2018     12\n",
              "3 2018-12-01     Dec-2019     Jan-2020           Dec-2019  2018     12\n",
              "4 2018-12-01     Dec-2019     Jan-2020           Nov-2019  2018     12"
            ]
          },
          "metadata": {
            "tags": []
          },
          "execution_count": 35
        }
      ]
    },
    {
      "cell_type": "code",
      "metadata": {
        "id": "7eEqzZROHyO7",
        "colab_type": "code",
        "colab": {
          "base_uri": "https://localhost:8080/",
          "height": 309
        },
        "outputId": "3c871c7b-07ca-42a6-8c71-d9c08033c927"
      },
      "source": [
        "df['last_pymnt_d_year']=pd.to_datetime(df['last_pymnt_d_year'], infer_datetime_format=True)\n",
        "df.head()"
      ],
      "execution_count": 37,
      "outputs": [
        {
          "output_type": "execute_result",
          "data": {
            "text/html": [
              "<div>\n",
              "<style scoped>\n",
              "    .dataframe tbody tr th:only-of-type {\n",
              "        vertical-align: middle;\n",
              "    }\n",
              "\n",
              "    .dataframe tbody tr th {\n",
              "        vertical-align: top;\n",
              "    }\n",
              "\n",
              "    .dataframe thead th {\n",
              "        text-align: right;\n",
              "    }\n",
              "</style>\n",
              "<table border=\"1\" class=\"dataframe\">\n",
              "  <thead>\n",
              "    <tr style=\"text-align: right;\">\n",
              "      <th></th>\n",
              "      <th>issue_d</th>\n",
              "      <th>last_pymnt_d</th>\n",
              "      <th>next_pymnt_d</th>\n",
              "      <th>last_credit_pull_d</th>\n",
              "      <th>year</th>\n",
              "      <th>month</th>\n",
              "      <th>last_pymnt_d_year</th>\n",
              "    </tr>\n",
              "  </thead>\n",
              "  <tbody>\n",
              "    <tr>\n",
              "      <th>0</th>\n",
              "      <td>2018-12-01</td>\n",
              "      <td>Apr-2019</td>\n",
              "      <td>NaN</td>\n",
              "      <td>Nov-2019</td>\n",
              "      <td>2018</td>\n",
              "      <td>12</td>\n",
              "      <td>2019-11-01</td>\n",
              "    </tr>\n",
              "    <tr>\n",
              "      <th>1</th>\n",
              "      <td>2018-12-01</td>\n",
              "      <td>Dec-2019</td>\n",
              "      <td>Jan-2020</td>\n",
              "      <td>Nov-2019</td>\n",
              "      <td>2018</td>\n",
              "      <td>12</td>\n",
              "      <td>2019-11-01</td>\n",
              "    </tr>\n",
              "    <tr>\n",
              "      <th>2</th>\n",
              "      <td>2018-12-01</td>\n",
              "      <td>Feb-2019</td>\n",
              "      <td>NaN</td>\n",
              "      <td>Nov-2019</td>\n",
              "      <td>2018</td>\n",
              "      <td>12</td>\n",
              "      <td>2019-11-01</td>\n",
              "    </tr>\n",
              "    <tr>\n",
              "      <th>3</th>\n",
              "      <td>2018-12-01</td>\n",
              "      <td>Dec-2019</td>\n",
              "      <td>Jan-2020</td>\n",
              "      <td>Dec-2019</td>\n",
              "      <td>2018</td>\n",
              "      <td>12</td>\n",
              "      <td>2019-12-01</td>\n",
              "    </tr>\n",
              "    <tr>\n",
              "      <th>4</th>\n",
              "      <td>2018-12-01</td>\n",
              "      <td>Dec-2019</td>\n",
              "      <td>Jan-2020</td>\n",
              "      <td>Nov-2019</td>\n",
              "      <td>2018</td>\n",
              "      <td>12</td>\n",
              "      <td>2019-11-01</td>\n",
              "    </tr>\n",
              "  </tbody>\n",
              "</table>\n",
              "</div>"
            ],
            "text/plain": [
              "     issue_d last_pymnt_d next_pymnt_d  ...  year  month  last_pymnt_d_year\n",
              "0 2018-12-01     Apr-2019          NaN  ...  2018     12         2019-11-01\n",
              "1 2018-12-01     Dec-2019     Jan-2020  ...  2018     12         2019-11-01\n",
              "2 2018-12-01     Feb-2019          NaN  ...  2018     12         2019-11-01\n",
              "3 2018-12-01     Dec-2019     Jan-2020  ...  2018     12         2019-12-01\n",
              "4 2018-12-01     Dec-2019     Jan-2020  ...  2018     12         2019-11-01\n",
              "\n",
              "[5 rows x 7 columns]"
            ]
          },
          "metadata": {
            "tags": []
          },
          "execution_count": 37
        }
      ]
    },
    {
      "cell_type": "code",
      "metadata": {
        "id": "4n2mIbKKH-3F",
        "colab_type": "code",
        "colab": {
          "base_uri": "https://localhost:8080/",
          "height": 221
        },
        "outputId": "8d5218cd-69f8-4882-ac44-2c04d7018234"
      },
      "source": [
        " df['last_pymnt_d_year'] - df['issue_d'] "
      ],
      "execution_count": 38,
      "outputs": [
        {
          "output_type": "execute_result",
          "data": {
            "text/plain": [
              "0        335 days\n",
              "1        335 days\n",
              "2        335 days\n",
              "3        365 days\n",
              "4        335 days\n",
              "           ...   \n",
              "128392    31 days\n",
              "128393   396 days\n",
              "128394   396 days\n",
              "128395   396 days\n",
              "128396   396 days\n",
              "Length: 128397, dtype: timedelta64[ns]"
            ]
          },
          "metadata": {
            "tags": []
          },
          "execution_count": 38
        }
      ]
    },
    {
      "cell_type": "code",
      "metadata": {
        "id": "2Eg0c-8IImv8",
        "colab_type": "code",
        "colab": {
          "base_uri": "https://localhost:8080/",
          "height": 309
        },
        "outputId": "5997aa27-6da1-4e30-8bf1-6639904625e7"
      },
      "source": [
        "df['day_diff']= (df['last_pymnt_d_year'] - df['issue_d'] ).dt.days\n",
        "\n",
        "df.head()"
      ],
      "execution_count": 39,
      "outputs": [
        {
          "output_type": "execute_result",
          "data": {
            "text/html": [
              "<div>\n",
              "<style scoped>\n",
              "    .dataframe tbody tr th:only-of-type {\n",
              "        vertical-align: middle;\n",
              "    }\n",
              "\n",
              "    .dataframe tbody tr th {\n",
              "        vertical-align: top;\n",
              "    }\n",
              "\n",
              "    .dataframe thead th {\n",
              "        text-align: right;\n",
              "    }\n",
              "</style>\n",
              "<table border=\"1\" class=\"dataframe\">\n",
              "  <thead>\n",
              "    <tr style=\"text-align: right;\">\n",
              "      <th></th>\n",
              "      <th>issue_d</th>\n",
              "      <th>last_pymnt_d</th>\n",
              "      <th>next_pymnt_d</th>\n",
              "      <th>last_credit_pull_d</th>\n",
              "      <th>year</th>\n",
              "      <th>month</th>\n",
              "      <th>last_pymnt_d_year</th>\n",
              "      <th>day_diff</th>\n",
              "    </tr>\n",
              "  </thead>\n",
              "  <tbody>\n",
              "    <tr>\n",
              "      <th>0</th>\n",
              "      <td>2018-12-01</td>\n",
              "      <td>Apr-2019</td>\n",
              "      <td>NaN</td>\n",
              "      <td>Nov-2019</td>\n",
              "      <td>2018</td>\n",
              "      <td>12</td>\n",
              "      <td>2019-11-01</td>\n",
              "      <td>335.0</td>\n",
              "    </tr>\n",
              "    <tr>\n",
              "      <th>1</th>\n",
              "      <td>2018-12-01</td>\n",
              "      <td>Dec-2019</td>\n",
              "      <td>Jan-2020</td>\n",
              "      <td>Nov-2019</td>\n",
              "      <td>2018</td>\n",
              "      <td>12</td>\n",
              "      <td>2019-11-01</td>\n",
              "      <td>335.0</td>\n",
              "    </tr>\n",
              "    <tr>\n",
              "      <th>2</th>\n",
              "      <td>2018-12-01</td>\n",
              "      <td>Feb-2019</td>\n",
              "      <td>NaN</td>\n",
              "      <td>Nov-2019</td>\n",
              "      <td>2018</td>\n",
              "      <td>12</td>\n",
              "      <td>2019-11-01</td>\n",
              "      <td>335.0</td>\n",
              "    </tr>\n",
              "    <tr>\n",
              "      <th>3</th>\n",
              "      <td>2018-12-01</td>\n",
              "      <td>Dec-2019</td>\n",
              "      <td>Jan-2020</td>\n",
              "      <td>Dec-2019</td>\n",
              "      <td>2018</td>\n",
              "      <td>12</td>\n",
              "      <td>2019-12-01</td>\n",
              "      <td>365.0</td>\n",
              "    </tr>\n",
              "    <tr>\n",
              "      <th>4</th>\n",
              "      <td>2018-12-01</td>\n",
              "      <td>Dec-2019</td>\n",
              "      <td>Jan-2020</td>\n",
              "      <td>Nov-2019</td>\n",
              "      <td>2018</td>\n",
              "      <td>12</td>\n",
              "      <td>2019-11-01</td>\n",
              "      <td>335.0</td>\n",
              "    </tr>\n",
              "  </tbody>\n",
              "</table>\n",
              "</div>"
            ],
            "text/plain": [
              "     issue_d last_pymnt_d next_pymnt_d  ... month  last_pymnt_d_year  day_diff\n",
              "0 2018-12-01     Apr-2019          NaN  ...    12         2019-11-01     335.0\n",
              "1 2018-12-01     Dec-2019     Jan-2020  ...    12         2019-11-01     335.0\n",
              "2 2018-12-01     Feb-2019          NaN  ...    12         2019-11-01     335.0\n",
              "3 2018-12-01     Dec-2019     Jan-2020  ...    12         2019-12-01     365.0\n",
              "4 2018-12-01     Dec-2019     Jan-2020  ...    12         2019-11-01     335.0\n",
              "\n",
              "[5 rows x 8 columns]"
            ]
          },
          "metadata": {
            "tags": []
          },
          "execution_count": 39
        }
      ]
    },
    {
      "cell_type": "code",
      "metadata": {
        "id": "tdUmOP3SI8E6",
        "colab_type": "code",
        "colab": {
          "base_uri": "https://localhost:8080/",
          "height": 718
        },
        "outputId": "926f296b-4241-42b8-f462-fa3c3eb31bc3"
      },
      "source": [
        "#not clear on how to do this and what its really asking for?\n",
        "#Not sure how to make last_pymt_d_month appear\n",
        "\n",
        "df['last_pymnt_d_month']=pd.to_datetime(df['last_pymnt_d_month'], infer_datetime_format=True)\n",
        "df.head()"
      ],
      "execution_count": 40,
      "outputs": [
        {
          "output_type": "error",
          "ename": "KeyError",
          "evalue": "ignored",
          "traceback": [
            "\u001b[0;31m---------------------------------------------------------------------------\u001b[0m",
            "\u001b[0;31mKeyError\u001b[0m                                  Traceback (most recent call last)",
            "\u001b[0;32m/usr/local/lib/python3.6/dist-packages/pandas/core/indexes/base.py\u001b[0m in \u001b[0;36mget_loc\u001b[0;34m(self, key, method, tolerance)\u001b[0m\n\u001b[1;32m   2896\u001b[0m             \u001b[0;32mtry\u001b[0m\u001b[0;34m:\u001b[0m\u001b[0;34m\u001b[0m\u001b[0;34m\u001b[0m\u001b[0m\n\u001b[0;32m-> 2897\u001b[0;31m                 \u001b[0;32mreturn\u001b[0m \u001b[0mself\u001b[0m\u001b[0;34m.\u001b[0m\u001b[0m_engine\u001b[0m\u001b[0;34m.\u001b[0m\u001b[0mget_loc\u001b[0m\u001b[0;34m(\u001b[0m\u001b[0mkey\u001b[0m\u001b[0;34m)\u001b[0m\u001b[0;34m\u001b[0m\u001b[0;34m\u001b[0m\u001b[0m\n\u001b[0m\u001b[1;32m   2898\u001b[0m             \u001b[0;32mexcept\u001b[0m \u001b[0mKeyError\u001b[0m\u001b[0;34m:\u001b[0m\u001b[0;34m\u001b[0m\u001b[0;34m\u001b[0m\u001b[0m\n",
            "\u001b[0;32mpandas/_libs/index.pyx\u001b[0m in \u001b[0;36mpandas._libs.index.IndexEngine.get_loc\u001b[0;34m()\u001b[0m\n",
            "\u001b[0;32mpandas/_libs/index.pyx\u001b[0m in \u001b[0;36mpandas._libs.index.IndexEngine.get_loc\u001b[0;34m()\u001b[0m\n",
            "\u001b[0;32mpandas/_libs/hashtable_class_helper.pxi\u001b[0m in \u001b[0;36mpandas._libs.hashtable.PyObjectHashTable.get_item\u001b[0;34m()\u001b[0m\n",
            "\u001b[0;32mpandas/_libs/hashtable_class_helper.pxi\u001b[0m in \u001b[0;36mpandas._libs.hashtable.PyObjectHashTable.get_item\u001b[0;34m()\u001b[0m\n",
            "\u001b[0;31mKeyError\u001b[0m: 'last_pymnt_d_month'",
            "\nDuring handling of the above exception, another exception occurred:\n",
            "\u001b[0;31mKeyError\u001b[0m                                  Traceback (most recent call last)",
            "\u001b[0;32m<ipython-input-40-1194e73d19af>\u001b[0m in \u001b[0;36m<module>\u001b[0;34m()\u001b[0m\n\u001b[0;32m----> 1\u001b[0;31m \u001b[0mdf\u001b[0m\u001b[0;34m[\u001b[0m\u001b[0;34m'last_pymnt_d_month'\u001b[0m\u001b[0;34m]\u001b[0m\u001b[0;34m=\u001b[0m\u001b[0mpd\u001b[0m\u001b[0;34m.\u001b[0m\u001b[0mto_datetime\u001b[0m\u001b[0;34m(\u001b[0m\u001b[0mdf\u001b[0m\u001b[0;34m[\u001b[0m\u001b[0;34m'last_pymnt_d_month'\u001b[0m\u001b[0;34m]\u001b[0m\u001b[0;34m,\u001b[0m \u001b[0minfer_datetime_format\u001b[0m\u001b[0;34m=\u001b[0m\u001b[0;32mTrue\u001b[0m\u001b[0;34m)\u001b[0m\u001b[0;34m\u001b[0m\u001b[0;34m\u001b[0m\u001b[0m\n\u001b[0m\u001b[1;32m      2\u001b[0m \u001b[0mdf\u001b[0m\u001b[0;34m.\u001b[0m\u001b[0mhead\u001b[0m\u001b[0;34m(\u001b[0m\u001b[0;34m)\u001b[0m\u001b[0;34m\u001b[0m\u001b[0;34m\u001b[0m\u001b[0m\n",
            "\u001b[0;32m/usr/local/lib/python3.6/dist-packages/pandas/core/frame.py\u001b[0m in \u001b[0;36m__getitem__\u001b[0;34m(self, key)\u001b[0m\n\u001b[1;32m   2993\u001b[0m             \u001b[0;32mif\u001b[0m \u001b[0mself\u001b[0m\u001b[0;34m.\u001b[0m\u001b[0mcolumns\u001b[0m\u001b[0;34m.\u001b[0m\u001b[0mnlevels\u001b[0m \u001b[0;34m>\u001b[0m \u001b[0;36m1\u001b[0m\u001b[0;34m:\u001b[0m\u001b[0;34m\u001b[0m\u001b[0;34m\u001b[0m\u001b[0m\n\u001b[1;32m   2994\u001b[0m                 \u001b[0;32mreturn\u001b[0m \u001b[0mself\u001b[0m\u001b[0;34m.\u001b[0m\u001b[0m_getitem_multilevel\u001b[0m\u001b[0;34m(\u001b[0m\u001b[0mkey\u001b[0m\u001b[0;34m)\u001b[0m\u001b[0;34m\u001b[0m\u001b[0;34m\u001b[0m\u001b[0m\n\u001b[0;32m-> 2995\u001b[0;31m             \u001b[0mindexer\u001b[0m \u001b[0;34m=\u001b[0m \u001b[0mself\u001b[0m\u001b[0;34m.\u001b[0m\u001b[0mcolumns\u001b[0m\u001b[0;34m.\u001b[0m\u001b[0mget_loc\u001b[0m\u001b[0;34m(\u001b[0m\u001b[0mkey\u001b[0m\u001b[0;34m)\u001b[0m\u001b[0;34m\u001b[0m\u001b[0;34m\u001b[0m\u001b[0m\n\u001b[0m\u001b[1;32m   2996\u001b[0m             \u001b[0;32mif\u001b[0m \u001b[0mis_integer\u001b[0m\u001b[0;34m(\u001b[0m\u001b[0mindexer\u001b[0m\u001b[0;34m)\u001b[0m\u001b[0;34m:\u001b[0m\u001b[0;34m\u001b[0m\u001b[0;34m\u001b[0m\u001b[0m\n\u001b[1;32m   2997\u001b[0m                 \u001b[0mindexer\u001b[0m \u001b[0;34m=\u001b[0m \u001b[0;34m[\u001b[0m\u001b[0mindexer\u001b[0m\u001b[0;34m]\u001b[0m\u001b[0;34m\u001b[0m\u001b[0;34m\u001b[0m\u001b[0m\n",
            "\u001b[0;32m/usr/local/lib/python3.6/dist-packages/pandas/core/indexes/base.py\u001b[0m in \u001b[0;36mget_loc\u001b[0;34m(self, key, method, tolerance)\u001b[0m\n\u001b[1;32m   2897\u001b[0m                 \u001b[0;32mreturn\u001b[0m \u001b[0mself\u001b[0m\u001b[0;34m.\u001b[0m\u001b[0m_engine\u001b[0m\u001b[0;34m.\u001b[0m\u001b[0mget_loc\u001b[0m\u001b[0;34m(\u001b[0m\u001b[0mkey\u001b[0m\u001b[0;34m)\u001b[0m\u001b[0;34m\u001b[0m\u001b[0;34m\u001b[0m\u001b[0m\n\u001b[1;32m   2898\u001b[0m             \u001b[0;32mexcept\u001b[0m \u001b[0mKeyError\u001b[0m\u001b[0;34m:\u001b[0m\u001b[0;34m\u001b[0m\u001b[0;34m\u001b[0m\u001b[0m\n\u001b[0;32m-> 2899\u001b[0;31m                 \u001b[0;32mreturn\u001b[0m \u001b[0mself\u001b[0m\u001b[0;34m.\u001b[0m\u001b[0m_engine\u001b[0m\u001b[0;34m.\u001b[0m\u001b[0mget_loc\u001b[0m\u001b[0;34m(\u001b[0m\u001b[0mself\u001b[0m\u001b[0;34m.\u001b[0m\u001b[0m_maybe_cast_indexer\u001b[0m\u001b[0;34m(\u001b[0m\u001b[0mkey\u001b[0m\u001b[0;34m)\u001b[0m\u001b[0;34m)\u001b[0m\u001b[0;34m\u001b[0m\u001b[0;34m\u001b[0m\u001b[0m\n\u001b[0m\u001b[1;32m   2900\u001b[0m         \u001b[0mindexer\u001b[0m \u001b[0;34m=\u001b[0m \u001b[0mself\u001b[0m\u001b[0;34m.\u001b[0m\u001b[0mget_indexer\u001b[0m\u001b[0;34m(\u001b[0m\u001b[0;34m[\u001b[0m\u001b[0mkey\u001b[0m\u001b[0;34m]\u001b[0m\u001b[0;34m,\u001b[0m \u001b[0mmethod\u001b[0m\u001b[0;34m=\u001b[0m\u001b[0mmethod\u001b[0m\u001b[0;34m,\u001b[0m \u001b[0mtolerance\u001b[0m\u001b[0;34m=\u001b[0m\u001b[0mtolerance\u001b[0m\u001b[0;34m)\u001b[0m\u001b[0;34m\u001b[0m\u001b[0;34m\u001b[0m\u001b[0m\n\u001b[1;32m   2901\u001b[0m         \u001b[0;32mif\u001b[0m \u001b[0mindexer\u001b[0m\u001b[0;34m.\u001b[0m\u001b[0mndim\u001b[0m \u001b[0;34m>\u001b[0m \u001b[0;36m1\u001b[0m \u001b[0;32mor\u001b[0m \u001b[0mindexer\u001b[0m\u001b[0;34m.\u001b[0m\u001b[0msize\u001b[0m \u001b[0;34m>\u001b[0m \u001b[0;36m1\u001b[0m\u001b[0;34m:\u001b[0m\u001b[0;34m\u001b[0m\u001b[0;34m\u001b[0m\u001b[0m\n",
            "\u001b[0;32mpandas/_libs/index.pyx\u001b[0m in \u001b[0;36mpandas._libs.index.IndexEngine.get_loc\u001b[0;34m()\u001b[0m\n",
            "\u001b[0;32mpandas/_libs/index.pyx\u001b[0m in \u001b[0;36mpandas._libs.index.IndexEngine.get_loc\u001b[0;34m()\u001b[0m\n",
            "\u001b[0;32mpandas/_libs/hashtable_class_helper.pxi\u001b[0m in \u001b[0;36mpandas._libs.hashtable.PyObjectHashTable.get_item\u001b[0;34m()\u001b[0m\n",
            "\u001b[0;32mpandas/_libs/hashtable_class_helper.pxi\u001b[0m in \u001b[0;36mpandas._libs.hashtable.PyObjectHashTable.get_item\u001b[0;34m()\u001b[0m\n",
            "\u001b[0;31mKeyError\u001b[0m: 'last_pymnt_d_month'"
          ]
        }
      ]
    },
    {
      "cell_type": "markdown",
      "metadata": {
        "colab_type": "text",
        "id": "L8k0LiHmo5EU"
      },
      "source": [
        "# Stretch Goals\n",
        "\n",
        "You can do more with the LendingClub or Instacart datasets.\n",
        "\n",
        "LendingClub options:\n",
        "- There's one other column in the dataframe with percent signs. Remove them and convert to floats. You'll need to handle missing values.\n",
        "- Modify the `emp_title` column to replace titles with 'Other' if the title is not in the top 20. \n",
        "- Take initiatve and work on your own ideas!\n",
        "\n",
        "Instacart options:\n",
        "- Read [Instacart Market Basket Analysis, Winner's Interview: 2nd place, Kazuki Onodera](http://blog.kaggle.com/2017/09/21/instacart-market-basket-analysis-winners-interview-2nd-place-kazuki-onodera/), especially the **Feature Engineering** section. (Can you choose one feature from his bulleted lists, and try to engineer it with pandas code?)\n",
        "- Read and replicate parts of [Simple Exploration Notebook - Instacart](https://www.kaggle.com/sudalairajkumar/simple-exploration-notebook-instacart). (It's the Python Notebook with the most upvotes for this Kaggle competition.)\n",
        "- Take initiative and work on your own ideas!"
      ]
    },
    {
      "cell_type": "markdown",
      "metadata": {
        "colab_type": "text",
        "id": "0_7PXF7lpEXg"
      },
      "source": [
        "You can uncomment and run the cells below to re-download and extract the Instacart data"
      ]
    },
    {
      "cell_type": "code",
      "metadata": {
        "id": "urIePNa0yNG6",
        "colab_type": "code",
        "colab": {}
      },
      "source": [
        "# !wget https://s3.amazonaws.com/instacart-datasets/instacart_online_grocery_shopping_2017_05_01.tar.gz"
      ],
      "execution_count": 0,
      "outputs": []
    },
    {
      "cell_type": "code",
      "metadata": {
        "id": "X9zEyu-uyNG8",
        "colab_type": "code",
        "colab": {}
      },
      "source": [
        "# !tar --gunzip --extract --verbose --file=instacart_online_grocery_shopping_2017_05_01.tar.gz"
      ],
      "execution_count": 0,
      "outputs": []
    },
    {
      "cell_type": "code",
      "metadata": {
        "id": "Y3IqrhlpyNG-",
        "colab_type": "code",
        "colab": {}
      },
      "source": [
        "# %cd instacart_2017_05_01"
      ],
      "execution_count": 0,
      "outputs": []
    }
  ]
}